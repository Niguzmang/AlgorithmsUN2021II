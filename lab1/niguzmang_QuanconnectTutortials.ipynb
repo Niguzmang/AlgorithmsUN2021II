{
  "nbformat": 4,
  "nbformat_minor": 0,
  "metadata": {
    "colab": {
      "name": "niguzmang_QuanconnectTutortials.ipynb",
      "provenance": [],
      "collapsed_sections": [],
      "authorship_tag": "ABX9TyNRuo0PcWntilocIKd4d0+N",
      "include_colab_link": true
    },
    "kernelspec": {
      "display_name": "Python 3",
      "name": "python3"
    },
    "language_info": {
      "name": "python"
    }
  },
  "cells": [
    {
      "cell_type": "markdown",
      "metadata": {
        "id": "view-in-github",
        "colab_type": "text"
      },
      "source": [
        "<a href=\"https://colab.research.google.com/github/Niguzmang/AlgorithmsUN2021II/blob/main/lab1/niguzmang_QuanconnectTutortials.ipynb\" target=\"_parent\"><img src=\"https://colab.research.google.com/assets/colab-badge.svg\" alt=\"Open In Colab\"/></a>"
      ]
    },
    {
      "cell_type": "markdown",
      "metadata": {
        "id": "eC2aDCS3BsZk"
      },
      "source": [
        "# ***LABORATORIO 1:***\n",
        "Data Types and Data Structures"
      ]
    },
    {
      "cell_type": "code",
      "metadata": {
        "colab": {
          "base_uri": "https://localhost:8080/"
        },
        "id": "1jGrUfIN6kwp",
        "outputId": "87a57c45-2685-4777-e219-f96c12b399e5"
      },
      "source": [
        "my_string1 = 'Welcome to'\n",
        "my_string2 = \"QuantConnect\"\n",
        "print(my_string1 + ' ' + my_string2)"
      ],
      "execution_count": 25,
      "outputs": [
        {
          "output_type": "stream",
          "name": "stdout",
          "text": [
            "Welcome to QuantConnect\n"
          ]
        }
      ]
    },
    {
      "cell_type": "code",
      "metadata": {
        "colab": {
          "base_uri": "https://localhost:8080/"
        },
        "id": "P4yKFSdACGhe",
        "outputId": "9b983e8e-f013-4bc5-fa0a-dba356e5698b"
      },
      "source": [
        "my_string1 = 'Simple'\n",
        "my_string2 = \"    Trial\"\n",
        "print(my_string1 + ' ' + my_string2)"
      ],
      "execution_count": 26,
      "outputs": [
        {
          "output_type": "stream",
          "name": "stdout",
          "text": [
            "Simple     Trial\n"
          ]
        }
      ]
    },
    {
      "cell_type": "code",
      "metadata": {
        "colab": {
          "base_uri": "https://localhost:8080/"
        },
        "id": "6WvMH7HrCbJu",
        "outputId": "8685ee78-3a96-41b7-b042-ff25ba54fe01"
      },
      "source": [
        "my_int = 10\n",
        "print(my_int)\n",
        "print(type(my_int))"
      ],
      "execution_count": 27,
      "outputs": [
        {
          "output_type": "stream",
          "name": "stdout",
          "text": [
            "10\n",
            "<class 'int'>\n"
          ]
        }
      ]
    },
    {
      "cell_type": "code",
      "metadata": {
        "colab": {
          "base_uri": "https://localhost:8080/"
        },
        "id": "IsiacEMlCvUh",
        "outputId": "62bed0d7-bf62-4632-97e9-24c8ff88cffa"
      },
      "source": [
        "my_int = 0\n",
        "print(my_int)\n",
        "print(type(my_int))"
      ],
      "execution_count": 28,
      "outputs": [
        {
          "output_type": "stream",
          "name": "stdout",
          "text": [
            "0\n",
            "<class 'int'>\n"
          ]
        }
      ]
    },
    {
      "cell_type": "code",
      "metadata": {
        "colab": {
          "base_uri": "https://localhost:8080/"
        },
        "id": "x_mOSpXeFWs8",
        "outputId": "1adca8ce-c7bf-4b72-ae0c-7844f7fe73c8"
      },
      "source": [
        "my_string = \"100\"\n",
        "print(type(my_string))\n",
        "my_int = int(my_string)\n",
        "print(type(my_int))\n",
        "print()\n",
        "#My example################\n",
        "my_string = \"9\"\n",
        "print(type(my_string))\n",
        "my_int = int(my_string)\n",
        "print(type(my_int))"
      ],
      "execution_count": 29,
      "outputs": [
        {
          "output_type": "stream",
          "name": "stdout",
          "text": [
            "<class 'str'>\n",
            "<class 'int'>\n",
            "\n",
            "<class 'str'>\n",
            "<class 'int'>\n"
          ]
        }
      ]
    },
    {
      "cell_type": "code",
      "metadata": {
        "colab": {
          "base_uri": "https://localhost:8080/"
        },
        "id": "KzDWNaMsGhZk",
        "outputId": "cb9b1e69-50a0-4a8e-b0c7-83970cf8bd2a"
      },
      "source": [
        "my_float = 1.0\n",
        "print(type(my_float))\n",
        "my_int = 1\n",
        "print(type(my_int))\n",
        "print()\n",
        "#My Example########\n",
        "my_2float = 8.98\n",
        "print(type(my_2float))\n",
        "my_2int = 9\n",
        "print(type(my_2int))"
      ],
      "execution_count": 30,
      "outputs": [
        {
          "output_type": "stream",
          "name": "stdout",
          "text": [
            "<class 'float'>\n",
            "<class 'int'>\n",
            "\n",
            "<class 'float'>\n",
            "<class 'int'>\n"
          ]
        }
      ]
    },
    {
      "cell_type": "code",
      "metadata": {
        "colab": {
          "base_uri": "https://localhost:8080/"
        },
        "id": "8dhJMLgTHT5D",
        "outputId": "2e420933-f76b-47ff-cb4f-9b0b0304a870"
      },
      "source": [
        "my_string = \"100\"\n",
        "my_float = float(my_string)\n",
        "print(type(my_float))\n",
        "print()\n",
        "#My Example###\n",
        "my_string2 = \"0\"\n",
        "my_float2 = float(my_string2)\n",
        "print(type(my_float2))"
      ],
      "execution_count": 31,
      "outputs": [
        {
          "output_type": "stream",
          "name": "stdout",
          "text": [
            "<class 'float'>\n",
            "\n",
            "<class 'float'>\n"
          ]
        }
      ]
    },
    {
      "cell_type": "code",
      "metadata": {
        "colab": {
          "base_uri": "https://localhost:8080/"
        },
        "id": "tHRgrq87HG5G",
        "outputId": "b9f925f2-2daf-4fe4-dcf7-0371df55fb23"
      },
      "source": [
        "my_bool = False\n",
        "print(my_bool)\n",
        "print(type(my_bool))\n",
        "print()\n",
        "#MY EXAMPLE ############\n",
        "my_bool2 = True\n",
        "print(my_bool2)\n",
        "print(type(my_bool2))\n"
      ],
      "execution_count": 32,
      "outputs": [
        {
          "output_type": "stream",
          "name": "stdout",
          "text": [
            "False\n",
            "<class 'bool'>\n",
            "\n",
            "True\n",
            "<class 'bool'>\n"
          ]
        }
      ]
    },
    {
      "cell_type": "code",
      "metadata": {
        "colab": {
          "base_uri": "https://localhost:8080/"
        },
        "id": "RyX1d0eSIkOR",
        "outputId": "0124e4f2-ca49-4705-cc9b-a8415ee3764e"
      },
      "source": [
        "print(\"Addition \", 1+1)\n",
        "print(\"Subtraction \", 5-2)\n",
        "print(\"Multiplication \", 2*3)\n",
        "print(\"Division\", 10/2)\n",
        "print(\"exponent\", 2**3)\n",
        "print()\n",
        "#MY EXAMPLE#######\n",
        "print(\"Addition \", 9+0)\n",
        "print(\"Subtraction \", -8-2)\n",
        "print(\"Multiplication \", 77*-3)\n",
        "print(\"Division\", 10/3)\n",
        "print(\"exponent\", 2**-2)"
      ],
      "execution_count": 33,
      "outputs": [
        {
          "output_type": "stream",
          "name": "stdout",
          "text": [
            "Addition  2\n",
            "Subtraction  3\n",
            "Multiplication  6\n",
            "Division 5.0\n",
            "exponent 8\n",
            "\n",
            "Addition  9\n",
            "Subtraction  -10\n",
            "Multiplication  -231\n",
            "Division 3.3333333333333335\n",
            "exponent 0.25\n"
          ]
        }
      ]
    },
    {
      "cell_type": "code",
      "metadata": {
        "colab": {
          "base_uri": "https://localhost:8080/"
        },
        "id": "OZfZZscWbNgB",
        "outputId": "2f088a76-605a-4dec-9e98-065d41899248"
      },
      "source": [
        "my_list = ['Quant', 'Connect', 1,2,3]\n",
        "print(my_list)\n",
        "print()\n",
        "#MY EXAMPLE#######\n",
        "my_list2 = ['Bit', False, int(1.0),2.4]\n",
        "print(my_list2)"
      ],
      "execution_count": 34,
      "outputs": [
        {
          "output_type": "stream",
          "name": "stdout",
          "text": [
            "['Quant', 'Connect', 1, 2, 3]\n",
            "\n",
            "['Bit', False, 1, 2.4]\n"
          ]
        }
      ]
    },
    {
      "cell_type": "code",
      "metadata": {
        "colab": {
          "base_uri": "https://localhost:8080/"
        },
        "id": "Kc6tdDnNcBn8",
        "outputId": "80122284-8710-45cd-c704-99e3648856ae"
      },
      "source": [
        "my_list = ['Quant', 'Connect', 1,2,3]\n",
        "print(len(my_list))\n",
        "print(my_list[0])\n",
        "print(my_list[len(my_list) - 1])\n",
        "print()\n",
        "#MY EXAMPLE#######\n",
        "my_list2 = ['Bit', False, int(1.0),2.4]\n",
        "print(len(my_list2))\n",
        "print(my_list2[0])\n",
        "print(my_list2[len(my_list2) - 1])"
      ],
      "execution_count": 35,
      "outputs": [
        {
          "output_type": "stream",
          "name": "stdout",
          "text": [
            "5\n",
            "Quant\n",
            "3\n",
            "\n",
            "4\n",
            "Bit\n",
            "2.4\n"
          ]
        }
      ]
    },
    {
      "cell_type": "code",
      "metadata": {
        "colab": {
          "base_uri": "https://localhost:8080/"
        },
        "id": "AAoSd2vId-oS",
        "outputId": "cd96910e-491f-4566-9d6a-4f513638030a"
      },
      "source": [
        "my_list = ['Quant','Connect',1,2,3]\n",
        "my_list[2] = 'go'\n",
        "print(my_list)\n",
        "print()\n",
        "#MY EXAMPLE#######\n",
        "my_list2 = ['Bit', False, int(1.0),2.4]\n",
        "my_list2[len(my_list2)-1] = 'coin'\n",
        "print(my_list2)"
      ],
      "execution_count": 36,
      "outputs": [
        {
          "output_type": "stream",
          "name": "stdout",
          "text": [
            "['Quant', 'Connect', 'go', 2, 3]\n",
            "\n",
            "['Bit', False, 1, 'coin']\n"
          ]
        }
      ]
    },
    {
      "cell_type": "code",
      "metadata": {
        "colab": {
          "base_uri": "https://localhost:8080/"
        },
        "id": "AvvXhK4_exLD",
        "outputId": "f71010af-db84-424d-f960-f6c6a8eb93d4"
      },
      "source": [
        "my_list = ['Quant','Connect',1,2,3]\n",
        "print(my_list[1:3])\n",
        "print(my_list[1:])\n",
        "print(my_list[:3])\n",
        "print()\n",
        "#MY EXAMPLE#######\n",
        "my_list2 = ['Bit', False, int(1.0),2.4, 7]\n",
        "print(my_list2[2:4])\n",
        "print(my_list2[2:])\n",
        "print(my_list2[:2])"
      ],
      "execution_count": 37,
      "outputs": [
        {
          "output_type": "stream",
          "name": "stdout",
          "text": [
            "['Connect', 1]\n",
            "['Connect', 1, 2, 3]\n",
            "['Quant', 'Connect', 1]\n",
            "\n",
            "[1, 2.4]\n",
            "[1, 2.4, 7]\n",
            "['Bit', False]\n"
          ]
        }
      ]
    },
    {
      "cell_type": "code",
      "metadata": {
        "colab": {
          "base_uri": "https://localhost:8080/"
        },
        "id": "FCKwe8krkLca",
        "outputId": "bcef31ed-5ab0-45ca-b0ad-eb3ea6437071"
      },
      "source": [
        "my_list = ['Hello', 'Quant']\n",
        "my_list.append('Hello')\n",
        "print(my_list)\n",
        "my_list.remove('Hello')\n",
        "print(my_list)\n",
        "print()\n",
        "#MY EXAMPLE#######\n",
        "my_list2 = []\n",
        "my_list2.append('3')\n",
        "print(my_list2)\n",
        "my_list2.remove(\"3\")\n",
        "print(my_list2)"
      ],
      "execution_count": 38,
      "outputs": [
        {
          "output_type": "stream",
          "name": "stdout",
          "text": [
            "['Hello', 'Quant', 'Hello']\n",
            "['Quant', 'Hello']\n",
            "\n",
            "['3']\n",
            "[]\n"
          ]
        }
      ]
    },
    {
      "cell_type": "code",
      "metadata": {
        "colab": {
          "base_uri": "https://localhost:8080/"
        },
        "id": "hMSy1c85l3sz",
        "outputId": "93dcf92e-b907-47bf-a25e-12b77b4376e4"
      },
      "source": [
        "my_tuple = ('Welcome','to','QuantConnect')\n",
        "print(my_tuple[1:])\n",
        "print()\n",
        "#MY EXAMPLE#######\n",
        "my_tuple2=(500, False, \"åþ\", \"®©œ\", 5, True)\n",
        "print(my_tuple2[2:])"
      ],
      "execution_count": 39,
      "outputs": [
        {
          "output_type": "stream",
          "name": "stdout",
          "text": [
            "('to', 'QuantConnect')\n",
            "\n",
            "('åþ', '®©œ', 5, True)\n"
          ]
        }
      ]
    },
    {
      "cell_type": "code",
      "metadata": {
        "colab": {
          "base_uri": "https://localhost:8080/"
        },
        "id": "KDhOqUEnomEG",
        "outputId": "411f8a66-6dd1-4c1b-c2f8-572dfef080b5"
      },
      "source": [
        "stock_list = ['AAPL','GOOG','IBM','AAPL','IBM','FB','F','GOOG']\n",
        "stock_set = set(stock_list)\n",
        "print(stock_set)\n",
        "print()\n",
        "#MY EXAMPLE#######\n",
        "stock_list2 = [3.00,3,3.00,3.,'Bitcoin','Satoshi','satoshi']\n",
        "stock_set2 = set(stock_list2)\n",
        "print(stock_set2)"
      ],
      "execution_count": 40,
      "outputs": [
        {
          "output_type": "stream",
          "name": "stdout",
          "text": [
            "{'IBM', 'AAPL', 'GOOG', 'FB', 'F'}\n",
            "\n",
            "{'Bitcoin', 3.0, 'Satoshi', 'satoshi'}\n"
          ]
        }
      ]
    },
    {
      "cell_type": "code",
      "metadata": {
        "colab": {
          "base_uri": "https://localhost:8080/"
        },
        "id": "_JctFZcxqNJT",
        "outputId": "288b5c85-d635-4022-8320-1e6a2a732702"
      },
      "source": [
        "my_dic = {'AAPL': 'Apple', 'FB': 'FaceBook', 'GOOG': 'Alphabet'}\n",
        "print(my_dic['GOOG'])\n",
        "print()\n",
        "#MY EXAMPLE#######\n",
        "my_dicci = {True: False, 4: 'FaceBook', 1.9: [3,5,\"Liubliana\"]}\n",
        "print(my_dicci[True])\n",
        "print(my_dicci[1.9])"
      ],
      "execution_count": 41,
      "outputs": [
        {
          "output_type": "stream",
          "name": "stdout",
          "text": [
            "Alphabet\n",
            "\n",
            "False\n",
            "[3, 5, 'Liubliana']\n"
          ]
        }
      ]
    },
    {
      "cell_type": "code",
      "metadata": {
        "colab": {
          "base_uri": "https://localhost:8080/"
        },
        "id": "SPLYtkRNtZgX",
        "outputId": "9b0cda98-1e79-480a-b0a9-3b71632740e7"
      },
      "source": [
        "my_dic = {'AAPL': 'Apple', 'FB': 'FaceBook', 'GOOG': 'Alphabet'}\n",
        "my_dic['GOOG'] = 'Alphabet Company'\n",
        "print(my_dic['GOOG'])\n",
        "print(my_dic.keys())\n",
        "print()\n",
        "#MY EXAMPLE#######\n",
        "my_dicci = {True: False, 4: 'FaceBook', 1.9: [3,5,\"Liubliana\"]}\n",
        "my_dicci[4]=4\n",
        "print(my_dicci[4])\n",
        "print(my_dicci.keys())"
      ],
      "execution_count": 42,
      "outputs": [
        {
          "output_type": "stream",
          "name": "stdout",
          "text": [
            "Alphabet Company\n",
            "dict_keys(['AAPL', 'FB', 'GOOG'])\n",
            "\n",
            "4\n",
            "dict_keys([True, 4, 1.9])\n"
          ]
        }
      ]
    },
    {
      "cell_type": "code",
      "metadata": {
        "colab": {
          "base_uri": "https://localhost:8080/"
        },
        "id": "3is1beW5u6PO",
        "outputId": "c61add45-c337-4394-c1d6-4879403a9ae9"
      },
      "source": [
        "my_str = 'Welcome to QuantConnect'\n",
        "print(my_str[8:])\n",
        "print()\n",
        "#MY EXAMPLE#######\n",
        "my_str2 = 'Undermining bitcoins'\n",
        "print(my_str2[12:15])"
      ],
      "execution_count": 43,
      "outputs": [
        {
          "output_type": "stream",
          "name": "stdout",
          "text": [
            "to QuantConnect\n",
            "\n",
            "bit\n"
          ]
        }
      ]
    },
    {
      "cell_type": "code",
      "metadata": {
        "colab": {
          "base_uri": "https://localhost:8080/"
        },
        "id": "LOnN0QOkv09e",
        "outputId": "aec52f82-a73d-499a-a97a-6c67efad1e1a"
      },
      "source": [
        "print(\"Counting the number of e's in this sentence\".count('e'))\n",
        "print('The first time e appears in this sentence'.find('e'))\n",
        "print('all the a in this sentence now becomes e'.replace('a','e'))\n",
        "print()\n",
        "#MY EXAMPLE#######\n",
        "print('I am on a seafood diet. I see food, and I eat it.'.count(\"2\"))\n",
        "print('I finally realized that people are prisoners of their phones... that is why it is called a \"cell\" phone.'.find('.'))\n",
        "print('Light travels faster than sound. This is why some people appear bright until you hear them speak.'.replace('a','4'))"
      ],
      "execution_count": 44,
      "outputs": [
        {
          "output_type": "stream",
          "name": "stdout",
          "text": [
            "6\n",
            "2\n",
            "ell the e in this sentence now becomes e\n",
            "\n",
            "0\n",
            "60\n",
            "Light tr4vels f4ster th4n sound. This is why some people 4ppe4r bright until you he4r them spe4k.\n"
          ]
        }
      ]
    },
    {
      "cell_type": "code",
      "metadata": {
        "colab": {
          "base_uri": "https://localhost:8080/"
        },
        "id": "1Ou-oLQg0LjU",
        "outputId": "879ec033-f84e-4722-8791-fda3078f1e80"
      },
      "source": [
        "Time = '2016-04-01 09:43:00'\n",
        "splited_list = Time.split(' ')\n",
        "date = splited_list[0]\n",
        "time = splited_list[1]\n",
        "print(date, time)\n",
        "hour = time.split(':')[0]\n",
        "print(hour)\n",
        "print()\n",
        "#MY EXAMPLE#######\n",
        "string = 'Сблъсък на кланове е най-добрата игра някога.'\n",
        "splited_list1 = string.split(' ')\n",
        "first = splited_list1[0]\n",
        "third = splited_list1[3]\n",
        "print(first, third)\n",
        "weirdestWord = string.split(' ')[4]\n",
        "print(weirdestWord)"
      ],
      "execution_count": 45,
      "outputs": [
        {
          "output_type": "stream",
          "name": "stdout",
          "text": [
            "2016-04-01 09:43:00\n",
            "09\n",
            "\n",
            "Сблъсък е\n",
            "най-добрата\n"
          ]
        }
      ]
    },
    {
      "cell_type": "code",
      "metadata": {
        "colab": {
          "base_uri": "https://localhost:8080/"
        },
        "id": "bvEA8KAP2JF-",
        "outputId": "226505eb-f227-48d2-8524-144a6d049c83"
      },
      "source": [
        "my_time = 'Hour: {}, Minute: {}'.format(9, 43)\n",
        "print(my_time)\n",
        "print()\n",
        "#MY EXAMPLE#######\n",
        "my_time2 = 'Introduction: {}, MEssage: {}'.format(True, ('Welcome','to','QuantConnect'))\n",
        "print(my_time2)"
      ],
      "execution_count": 46,
      "outputs": [
        {
          "output_type": "stream",
          "name": "stdout",
          "text": [
            "Hour: 9, Minute: 43\n",
            "\n",
            "Introduction: True, MEssage: ('Welcome', 'to', 'QuantConnect')\n"
          ]
        }
      ]
    },
    {
      "cell_type": "code",
      "metadata": {
        "colab": {
          "base_uri": "https://localhost:8080/"
        },
        "id": "P3BUuKAy3yh9",
        "outputId": "a3e33df6-80dc-4268-f9d5-239dbfb11092"
      },
      "source": [
        "print ('pi is %f' % 3.14)\n",
        "print('%s to %s' % ('Welcome', 'QuantConnect'))\n",
        "print()\n",
        "#MY EXAMPLE#######\n",
        "print ('parte entera de pi es %i' % 3.14)\n",
        "print('%s or %f' % ('', 3.))"
      ],
      "execution_count": 47,
      "outputs": [
        {
          "output_type": "stream",
          "name": "stdout",
          "text": [
            "pi is 3.140000\n",
            "Welcome to QuantConnect\n",
            "\n",
            "parte entera de pi es 3\n",
            " or 3.000000\n"
          ]
        }
      ]
    },
    {
      "cell_type": "markdown",
      "metadata": {
        "id": "yi3ofdq27SnX"
      },
      "source": [
        "# ***Logical Operations and Loops***"
      ]
    },
    {
      "cell_type": "code",
      "metadata": {
        "colab": {
          "base_uri": "https://localhost:8080/"
        },
        "id": "oOnEHORs7gGm",
        "outputId": "e69696ed-0b47-4751-d88c-0a85bf136ae7"
      },
      "source": [
        "print (1 == 0)    # 1 equals 0\n",
        "print (1 == 1)    # 1 equals 1\n",
        "print (1 != 0)    # 1 is not equal to 0\n",
        "print (5 >= 5)    # 5 is greater than or equal to 5\n",
        "print (5 >= 6)    # 5 is greater than or equal to 6\n",
        "print()\n",
        "#MY EXAMPLE#######\n",
        "print(3.0==3)\n",
        "print(0==3.)\n",
        "print(87!=87)\n",
        "print(4<4)\n",
        "print(-9.2<=-9.3)"
      ],
      "execution_count": 48,
      "outputs": [
        {
          "output_type": "stream",
          "name": "stdout",
          "text": [
            "False\n",
            "True\n",
            "True\n",
            "True\n",
            "False\n",
            "\n",
            "True\n",
            "False\n",
            "False\n",
            "False\n",
            "False\n"
          ]
        }
      ]
    },
    {
      "cell_type": "code",
      "metadata": {
        "colab": {
          "base_uri": "https://localhost:8080/"
        },
        "id": "nP3yfsXL8yOw",
        "outputId": "7185906e-e5e8-48a4-84df-430f967e9bd5"
      },
      "source": [
        "print (2 > 1 and 3 > 2)\n",
        "print (2 > 1 and 3 < 2)\n",
        "print (2 > 1 or  3 < 2)\n",
        "print (2 < 1 and 3 < 2)\n",
        "print()\n",
        "#MY EXAMPLE#######\n",
        "print (9 > 7 or 3 <= 5)\n",
        "print (26 >= 10 and 87 < 9)\n",
        "print (25 < 17 or  34 > 6)\n",
        "print (72 > 10 and 90 < 43)"
      ],
      "execution_count": 49,
      "outputs": [
        {
          "output_type": "stream",
          "name": "stdout",
          "text": [
            "True\n",
            "False\n",
            "True\n",
            "False\n",
            "\n",
            "True\n",
            "False\n",
            "True\n",
            "False\n"
          ]
        }
      ]
    },
    {
      "cell_type": "code",
      "metadata": {
        "colab": {
          "base_uri": "https://localhost:8080/"
        },
        "id": "D4SKtTE5AOcz",
        "outputId": "cd547cac-0d7f-46fc-9b70-b54fe302b5da"
      },
      "source": [
        "print ((3 > 2 or 1 < 3) and (1!=3 and 4>3) and not ( 3 < 2 or 1 < 3 and (1!=3 and 4>3)))\n",
        "print (3 > 2 or 1 < 3 and (1!=3 and 4>3) and not ( 3 < 2 or 1 < 3 and (1!=3 and 4>3)))\n",
        "print()\n",
        "#MY EXAMPLE#######\n",
        "print ((3 > 2 or 1 < 3) and (1!=3 and 4>3) and ( 3 < 2 and 1 < 3 and (1!=3 and not 4>3)))\n",
        "print ((3 > 2 or 1 < 3) and (1!=3 and 4>3) and ( 3 < 2 or 1 < 3 and (1!=3 and 4>3)))"
      ],
      "execution_count": 50,
      "outputs": [
        {
          "output_type": "stream",
          "name": "stdout",
          "text": [
            "False\n",
            "True\n",
            "\n",
            "False\n",
            "True\n"
          ]
        }
      ]
    },
    {
      "cell_type": "code",
      "metadata": {
        "colab": {
          "base_uri": "https://localhost:8080/"
        },
        "id": "nrakqu2DDXIq",
        "outputId": "9bb17886-a511-4202-fd37-a5249e88ef2e"
      },
      "source": [
        "i = 0\n",
        "if i == 0: print ('i == 0 is True')\n",
        "print()\n",
        "#MY EXAMPLE#######\n",
        "j = 2\n",
        "if j != 1: print ('j == 1 is False')"
      ],
      "execution_count": 51,
      "outputs": [
        {
          "output_type": "stream",
          "name": "stdout",
          "text": [
            "i == 0 is True\n",
            "\n",
            "j == 1 is False\n"
          ]
        }
      ]
    },
    {
      "cell_type": "code",
      "metadata": {
        "colab": {
          "base_uri": "https://localhost:8080/"
        },
        "id": "cypw-2LfD-i-",
        "outputId": "28d9f036-e84e-41bd-c61b-aa0de30cd280"
      },
      "source": [
        "p = 1 > 0\n",
        "q = 2 > 3\n",
        "if p and q:\n",
        "    print ('p and q is true')\n",
        "elif p and not q:\n",
        "    print ('q is false')\n",
        "elif q and not p:\n",
        "    print ('p is false')\n",
        "else:\n",
        "    print ('None of p and q is true')\n",
        "print()\n",
        "#MY EXAMPLE#######\n",
        "a=1\n",
        "b=1\n",
        "if(a == 0) and (b == 0):\n",
        "    print (True)\n",
        "elif(a == 0) and (b == 1):\n",
        "    print (False)\n",
        "elif(a == 1) and (b == 0):\n",
        "    print (False)\n",
        "elif(a == 1) and (b == 1):\n",
        "    print (True)"
      ],
      "execution_count": 52,
      "outputs": [
        {
          "output_type": "stream",
          "name": "stdout",
          "text": [
            "q is false\n",
            "\n",
            "True\n"
          ]
        }
      ]
    },
    {
      "cell_type": "code",
      "metadata": {
        "colab": {
          "base_uri": "https://localhost:8080/"
        },
        "id": "NAv_hlpFFaSY",
        "outputId": "3f18afe4-a7e7-464d-c7b5-1ef797b3cf37"
      },
      "source": [
        "i = 0\n",
        "while i < 5:\n",
        "    print (i)\n",
        "    i += 1\n",
        "print()\n",
        "#MY EXAMPLE#######\n",
        "h = 0\n",
        "while h > -5:\n",
        "    print (h)\n",
        "    h -= 1"
      ],
      "execution_count": 53,
      "outputs": [
        {
          "output_type": "stream",
          "name": "stdout",
          "text": [
            "0\n",
            "1\n",
            "2\n",
            "3\n",
            "4\n",
            "\n",
            "0\n",
            "-1\n",
            "-2\n",
            "-3\n",
            "-4\n"
          ]
        }
      ]
    },
    {
      "cell_type": "code",
      "metadata": {
        "colab": {
          "base_uri": "https://localhost:8080/"
        },
        "id": "t3XEPyN7F4h6",
        "outputId": "937649b3-1971-4a8a-acb3-b14538e32bd6"
      },
      "source": [
        "stocks = ['AAPL','GOOG','IBM','FB','F','V', 'G', 'GE']\n",
        "selected = ['AAPL','IBM']\n",
        "new_list = []\n",
        "for stock in stocks:\n",
        "    if stock not in selected:\n",
        "        new_list.append(stock)\n",
        "print (new_list)\n",
        "print()\n",
        "#MY EXAMPLE#######\n",
        "stock_list2 = [3.00,3,3.0,3.,'Bitcoin','Satoshi','satoshi']\n",
        "selected2 = [3]\n",
        "new_list2 = []\n",
        "for s in stock_list2:\n",
        "    if s not in selected2:\n",
        "        new_list2.append(s)\n",
        "print (new_list2)"
      ],
      "execution_count": 54,
      "outputs": [
        {
          "output_type": "stream",
          "name": "stdout",
          "text": [
            "['GOOG', 'FB', 'F', 'V', 'G', 'GE']\n",
            "\n",
            "['Bitcoin', 'Satoshi', 'satoshi']\n"
          ]
        }
      ]
    },
    {
      "cell_type": "code",
      "metadata": {
        "colab": {
          "base_uri": "https://localhost:8080/"
        },
        "id": "mQj1tXoOQX5F",
        "outputId": "fbf3ef37-2f3b-4743-d779-39d9c059185a"
      },
      "source": [
        "stocks = ['AAPL','GOOG','IBM','FB','F','V', 'G', 'GE']\n",
        "for stock in stocks:\n",
        "    print (stock)\n",
        "    if stock == 'FB': break\n",
        "print()\n",
        "#MY EXAMPLE#######\n",
        "stock_list2 = [3.00,3,3.0,3.,'Bitcoin','Satoshi','satoshi']\n",
        "for item in stock_list2:\n",
        "    print (item)\n",
        "    if item == 'Satoshi': break"
      ],
      "execution_count": 55,
      "outputs": [
        {
          "output_type": "stream",
          "name": "stdout",
          "text": [
            "AAPL\n",
            "GOOG\n",
            "IBM\n",
            "FB\n",
            "\n",
            "3.0\n",
            "3\n",
            "3.0\n",
            "3.0\n",
            "Bitcoin\n",
            "Satoshi\n"
          ]
        }
      ]
    },
    {
      "cell_type": "code",
      "metadata": {
        "colab": {
          "base_uri": "https://localhost:8080/"
        },
        "id": "JxTlwKGYuVVK",
        "outputId": "562b602b-8ecc-466f-e985-42c8b3581b0d"
      },
      "source": [
        "stocks = ['AAPL','GOOG','IBM','FB','F','V', 'G', 'GE']\n",
        "for stock in stocks:\n",
        "    if stock == 'FB': continue\n",
        "    print (stock)\n",
        "print()\n",
        "#MY EXAMPLE#######\n",
        "stock_list2 = [3.00,3,3.0,3.,'Bitcoin','Satoshi','satoshi']\n",
        "for item in stock_list2:\n",
        "    if item == 'Satoshi': continue\n",
        "    print (item)\n",
        "    "
      ],
      "execution_count": 56,
      "outputs": [
        {
          "output_type": "stream",
          "name": "stdout",
          "text": [
            "AAPL\n",
            "GOOG\n",
            "IBM\n",
            "F\n",
            "V\n",
            "G\n",
            "GE\n",
            "\n",
            "3.0\n",
            "3\n",
            "3.0\n",
            "3.0\n",
            "Bitcoin\n",
            "satoshi\n"
          ]
        }
      ]
    },
    {
      "cell_type": "code",
      "metadata": {
        "colab": {
          "base_uri": "https://localhost:8080/"
        },
        "id": "WRKgwtaswoGD",
        "outputId": "612ab31d-644d-453e-9b9e-de84a9a69bfa"
      },
      "source": [
        "squares = []\n",
        "for i in [1,2,3,4,5]:\n",
        "    squares.append(i**2)\n",
        "print (squares)\n",
        "print()\n",
        "#MY EXAMPLE#######\n",
        "sqr_root = []\n",
        "for i in [1,2,3,4,5]:\n",
        "    sqr_root.append(i**(1/2))\n",
        "print (sqr_root)"
      ],
      "execution_count": 57,
      "outputs": [
        {
          "output_type": "stream",
          "name": "stdout",
          "text": [
            "[1, 4, 9, 16, 25]\n",
            "\n",
            "[1.0, 1.4142135623730951, 1.7320508075688772, 2.0, 2.23606797749979]\n"
          ]
        }
      ]
    },
    {
      "cell_type": "code",
      "metadata": {
        "colab": {
          "base_uri": "https://localhost:8080/"
        },
        "id": "jIpqQMaNxM7M",
        "outputId": "9bc1eb34-e5a5-413e-98f7-8d40113b6663"
      },
      "source": [
        "foo = [1,2,3,4,5]\n",
        "squares = [x**2 for x in foo]\n",
        "print (squares)\n",
        "print()\n",
        "#MY EXAMPLE#######\n",
        "foo2 = [1,2,3,4,5]\n",
        "sqr_root2 = [x**(1/2) for x in foo2]\n",
        "print (sqr_root2)"
      ],
      "execution_count": 58,
      "outputs": [
        {
          "output_type": "stream",
          "name": "stdout",
          "text": [
            "[1, 4, 9, 16, 25]\n",
            "\n",
            "[1.0, 1.4142135623730951, 1.7320508075688772, 2.0, 2.23606797749979]\n"
          ]
        }
      ]
    },
    {
      "cell_type": "code",
      "metadata": {
        "colab": {
          "base_uri": "https://localhost:8080/"
        },
        "id": "HyECD2-myYUk",
        "outputId": "265b3c65-9430-45a2-e043-777d849828ea"
      },
      "source": [
        "stocks = ['AAPL','GOOG','IBM','FB','F','V', 'G', 'GE']\n",
        "selected = ['AAPL','IBM']\n",
        "new_list = [x for x in stocks if x not in selected]\n",
        "print (new_list)\n",
        "print()\n",
        "#MY EXAMPLE#######\n",
        "stock_list2 = [3.00,3,3.0,3.,'Bitcoin','Satoshi','satoshi']\n",
        "selected2 = [3]\n",
        "new_list22 = [x for x in stock_list2 if x not in selected2]\n",
        "print (new_list22)"
      ],
      "execution_count": 59,
      "outputs": [
        {
          "output_type": "stream",
          "name": "stdout",
          "text": [
            "['GOOG', 'FB', 'F', 'V', 'G', 'GE']\n",
            "\n",
            "['Bitcoin', 'Satoshi', 'satoshi']\n"
          ]
        }
      ]
    },
    {
      "cell_type": "code",
      "metadata": {
        "colab": {
          "base_uri": "https://localhost:8080/"
        },
        "id": "bxmexpiDzacL",
        "outputId": "dd932fdf-b399-47a2-874f-fdd2cfb183a8"
      },
      "source": [
        "print ([(x, y) for x in [1,2,3] for y in [3,1,4] if x != y])\n",
        "print ([str(x) + ' vs ' + str(y) for x in ['AAPL','GOOG','IBM','FB'] for y in ['F','V','G','GE'] if x != y])\n",
        "print()\n",
        "#MY EXAMPLE#######\n",
        "print ([(x, y) for x in [1,2,3] for y in [3,1,4] if x != y])\n",
        "print ([str(x) + ' vs ' + str(y) for x in ['AAPL','GOOG','IBM','FB'] for y in ['F','V','G','GE'] if x != y])"
      ],
      "execution_count": 60,
      "outputs": [
        {
          "output_type": "stream",
          "name": "stdout",
          "text": [
            "[(1, 3), (1, 4), (2, 3), (2, 1), (2, 4), (3, 1), (3, 4)]\n",
            "['AAPL vs F', 'AAPL vs V', 'AAPL vs G', 'AAPL vs GE', 'GOOG vs F', 'GOOG vs V', 'GOOG vs G', 'GOOG vs GE', 'IBM vs F', 'IBM vs V', 'IBM vs G', 'IBM vs GE', 'FB vs F', 'FB vs V', 'FB vs G', 'FB vs GE']\n",
            "\n",
            "[(1, 3), (1, 4), (2, 3), (2, 1), (2, 4), (3, 1), (3, 4)]\n",
            "['AAPL vs F', 'AAPL vs V', 'AAPL vs G', 'AAPL vs GE', 'GOOG vs F', 'GOOG vs V', 'GOOG vs G', 'GOOG vs GE', 'IBM vs F', 'IBM vs V', 'IBM vs G', 'IBM vs GE', 'FB vs F', 'FB vs V', 'FB vs G', 'FB vs GE']\n"
          ]
        }
      ]
    },
    {
      "cell_type": "markdown",
      "metadata": {
        "id": "FPv8puqGZtBu"
      },
      "source": [
        "# ***Functions and Objective-Oriented Programming***"
      ]
    },
    {
      "cell_type": "code",
      "metadata": {
        "colab": {
          "base_uri": "https://localhost:8080/"
        },
        "id": "iL2JRu36Zr_5",
        "outputId": "09b321de-dc20-400a-cb9f-224818e187e3"
      },
      "source": [
        "def product(x,y):\n",
        "    return x*y\n",
        "print (product(2,3))\n",
        "print (product(5,10))\n",
        "print()\n",
        "#MY EXAMPLE#######\n",
        "def suma(x,y):\n",
        "    return x+y\n",
        "print (suma(2,3))\n",
        "print (suma(5,10))"
      ],
      "execution_count": 61,
      "outputs": [
        {
          "output_type": "stream",
          "name": "stdout",
          "text": [
            "6\n",
            "50\n",
            "\n",
            "5\n",
            "15\n"
          ]
        }
      ]
    },
    {
      "cell_type": "code",
      "metadata": {
        "colab": {
          "base_uri": "https://localhost:8080/"
        },
        "id": "qZqncMofbSzz",
        "outputId": "822d4437-cb79-4c06-ecbd-7153ebf99a4a"
      },
      "source": [
        "def say_hi():\n",
        "    print ('Welcome to QuantConnect')\n",
        "say_hi()\n",
        "print()\n",
        "#MY EXAMPLE#######\n",
        "def say_hallo():\n",
        "    print ('Hallo')\n",
        "say_hallo()"
      ],
      "execution_count": 62,
      "outputs": [
        {
          "output_type": "stream",
          "name": "stdout",
          "text": [
            "Welcome to QuantConnect\n",
            "\n",
            "Hallo\n"
          ]
        }
      ]
    },
    {
      "cell_type": "code",
      "metadata": {
        "colab": {
          "base_uri": "https://localhost:8080/"
        },
        "id": "1FeiwhgAeSDr",
        "outputId": "7c571f1e-a1ef-4e9e-84a3-73f34f0dbcae"
      },
      "source": [
        "print (range(10))\n",
        "print (range(1, 11))\n",
        "print (range(1, 11, 2))\n",
        "print()\n",
        "#MY EXAMPLE#######\n",
        "print (range(0))\n",
        "print (range(1, 2))\n",
        "print (range(0, 10, 10))"
      ],
      "execution_count": 63,
      "outputs": [
        {
          "output_type": "stream",
          "name": "stdout",
          "text": [
            "range(0, 10)\n",
            "range(1, 11)\n",
            "range(1, 11, 2)\n",
            "\n",
            "range(0, 0)\n",
            "range(1, 2)\n",
            "range(0, 10, 10)\n"
          ]
        }
      ]
    },
    {
      "cell_type": "code",
      "metadata": {
        "colab": {
          "base_uri": "https://localhost:8080/"
        },
        "id": "v-kqPSjagpN_",
        "outputId": "1d151f36-3576-4b5e-9b70-1b280d99976f"
      },
      "source": [
        "tickers = ['AAPL', 'GOOGL', 'IBM', 'FB', 'F', 'V', 'G', 'GE']\n",
        "print (\"The number of tickers is {}\".format(len(tickers)))\n",
        "for k in range(len(tickers)):\n",
        "    print( k + 1, tickers[k])\n",
        "print()\n",
        "#MY EXAMPLE#######\n",
        "actions = [3.00,3,3.0,3.,'Bitcoin','Satoshi','satoshi']\n",
        "print (\"The number of actions is {}\".format(len(actions)))\n",
        "for k in range(len(actions)):\n",
        "    print( k + 1, actions[k])"
      ],
      "execution_count": 64,
      "outputs": [
        {
          "output_type": "stream",
          "name": "stdout",
          "text": [
            "The number of tickers is 8\n",
            "1 AAPL\n",
            "2 GOOGL\n",
            "3 IBM\n",
            "4 FB\n",
            "5 F\n",
            "6 V\n",
            "7 G\n",
            "8 GE\n",
            "\n",
            "The number of actions is 7\n",
            "1 3.0\n",
            "2 3\n",
            "3 3.0\n",
            "4 3.0\n",
            "5 Bitcoin\n",
            "6 Satoshi\n",
            "7 satoshi\n"
          ]
        }
      ]
    },
    {
      "cell_type": "code",
      "metadata": {
        "colab": {
          "base_uri": "https://localhost:8080/"
        },
        "id": "xyQVWRMbjFnR",
        "outputId": "538249cd-b35e-400a-a5a8-1c13f0c54291"
      },
      "source": [
        "tickers = ['AAPL','GOOG','IBM','FB','F','V', 'G', 'GE']\n",
        "print(list(map(len,tickers)))\n",
        "print()\n",
        "#MY EXAMPLE#######\n",
        "actions = ['Bitcoin','Satoshi','satoshi']\n",
        "print(list(map(len,actions)))"
      ],
      "execution_count": 65,
      "outputs": [
        {
          "output_type": "stream",
          "name": "stdout",
          "text": [
            "[4, 4, 3, 2, 1, 1, 1, 2]\n",
            "\n",
            "[7, 7, 7]\n"
          ]
        }
      ]
    },
    {
      "cell_type": "code",
      "metadata": {
        "colab": {
          "base_uri": "https://localhost:8080/"
        },
        "id": "Ldk3jIJok-hA",
        "outputId": "79075e75-d301-4956-afb8-6373d1f13602"
      },
      "source": [
        "print(list(map(lambda x: x**2, range(10))))\n",
        "print()\n",
        "#MY EXAMPLE#######\n",
        "print(list(map(lambda x: x*2, range(10))))\n"
      ],
      "execution_count": 66,
      "outputs": [
        {
          "output_type": "stream",
          "name": "stdout",
          "text": [
            "[0, 1, 4, 9, 16, 25, 36, 49, 64, 81]\n",
            "\n",
            "[0, 2, 4, 6, 8, 10, 12, 14, 16, 18]\n"
          ]
        }
      ]
    },
    {
      "cell_type": "code",
      "metadata": {
        "colab": {
          "base_uri": "https://localhost:8080/"
        },
        "id": "CVhdYTOOaiB_",
        "outputId": "dd739d01-427a-468a-dac1-0fa1016ac6ac"
      },
      "source": [
        "print(list(map(lambda x, y: x+y, [1,2,3,4,5], [5,4,3,2,1])))\n",
        "print()\n",
        "#MY EXAMPLE#######\n",
        "print(list(map(lambda x, y, z: x+y*z, [1,2,3,4,5], [5,4,3,2,1], [1,2,3,0,0])))"
      ],
      "execution_count": 67,
      "outputs": [
        {
          "output_type": "stream",
          "name": "stdout",
          "text": [
            "[6, 6, 6, 6, 6]\n",
            "\n",
            "[6, 10, 12, 4, 5]\n"
          ]
        }
      ]
    },
    {
      "cell_type": "code",
      "metadata": {
        "colab": {
          "base_uri": "https://localhost:8080/"
        },
        "id": "F0t_TtSgfIcA",
        "outputId": "18778345-dc89-462d-c11a-86d37b7a677a"
      },
      "source": [
        "print(sorted([5,2,3,4,1]))\n",
        "print()\n",
        "#MY EXAMPLE#######\n",
        "sorted([2.5,-2,1.3,4.02,1])"
      ],
      "execution_count": 68,
      "outputs": [
        {
          "output_type": "stream",
          "name": "stdout",
          "text": [
            "[1, 2, 3, 4, 5]\n",
            "\n"
          ]
        },
        {
          "output_type": "execute_result",
          "data": {
            "text/plain": [
              "[-2, 1, 1.3, 2.5, 4.02]"
            ]
          },
          "metadata": {},
          "execution_count": 68
        }
      ]
    },
    {
      "cell_type": "code",
      "metadata": {
        "colab": {
          "base_uri": "https://localhost:8080/"
        },
        "id": "bu9UqOrTaAhY",
        "outputId": "5181a39d-9af5-4213-d700-868aad57d3b8"
      },
      "source": [
        "price_list = [('AAPL', 144.09), ('GOOGL', 911.71), ('MSFT', 69), ('FB', 150), ('WMT', 75.32)]\n",
        "print(sorted(price_list, key = lambda x: x[1]))\n",
        "print()\n",
        "#MY EXAMPLE#######\n",
        "actions = [('Bitcoin',7),('Satoshi',-3),('xatoshi',0)]\n",
        "print(sorted(actions, key = lambda x: x[0]))"
      ],
      "execution_count": 69,
      "outputs": [
        {
          "output_type": "stream",
          "name": "stdout",
          "text": [
            "[('MSFT', 69), ('WMT', 75.32), ('AAPL', 144.09), ('FB', 150), ('GOOGL', 911.71)]\n",
            "\n",
            "[('Bitcoin', 7), ('Satoshi', -3), ('xatoshi', 0)]\n"
          ]
        }
      ]
    },
    {
      "cell_type": "code",
      "metadata": {
        "colab": {
          "base_uri": "https://localhost:8080/"
        },
        "id": "_-6xVQLC9Z91",
        "outputId": "8cecfc15-3a5d-4df2-f973-84126db26783"
      },
      "source": [
        "price_list = [('AAPL', 144.09), ('GOOGL', 911.71), ('MSFT', 69), ('FB', 150), ('WMT', 75.32)]\n",
        "print(sorted(price_list, key = lambda x: x[1], reverse=True))\n",
        "print()\n",
        "#MY EXAMPLE#######\n",
        "actions = [('Bitcoin',7),('Satoshi',-3),('xatoshi',0)]\n",
        "print(sorted(actions, key = lambda x: x[0], reverse=True))"
      ],
      "execution_count": 70,
      "outputs": [
        {
          "output_type": "stream",
          "name": "stdout",
          "text": [
            "[('GOOGL', 911.71), ('FB', 150), ('AAPL', 144.09), ('WMT', 75.32), ('MSFT', 69)]\n",
            "\n",
            "[('xatoshi', 0), ('Satoshi', -3), ('Bitcoin', 7)]\n"
          ]
        }
      ]
    },
    {
      "cell_type": "code",
      "metadata": {
        "colab": {
          "base_uri": "https://localhost:8080/"
        },
        "id": "_5BtuELY-Eu-",
        "outputId": "75a9ce02-7a08-4176-c1e2-367d5126c7cb"
      },
      "source": [
        "price_list = [('AAPL', 144.09), ('GOOGL', 911.71), ('MSFT', 69), ('FB', 150), ('WMT', 75.32)]\n",
        "price_list.sort(key = lambda x: x[1])\n",
        "print (price_list)\n",
        "print()\n",
        "#MY EXAMPLE#######\n",
        "actions = [('Bitcoin',7),('Satoshi',-3),('xatoshi',0)]\n",
        "actions.sort(key = lambda x: x[0], reverse=True)\n",
        "print(actions)"
      ],
      "execution_count": 71,
      "outputs": [
        {
          "output_type": "stream",
          "name": "stdout",
          "text": [
            "[('MSFT', 69), ('WMT', 75.32), ('AAPL', 144.09), ('FB', 150), ('GOOGL', 911.71)]\n",
            "\n",
            "[('xatoshi', 0), ('Satoshi', -3), ('Bitcoin', 7)]\n"
          ]
        }
      ]
    },
    {
      "cell_type": "code",
      "metadata": {
        "colab": {
          "base_uri": "https://localhost:8080/"
        },
        "id": "K5TCJFBo_xZr",
        "outputId": "cddbe9b0-04f8-4206-8968-4fc0da32a113"
      },
      "source": [
        "class Stock:\n",
        "    def __init__(self, ticker, open, close, volume):\n",
        "        self.ticker = ticker\n",
        "        self.open = open\n",
        "        self.close = close\n",
        "        self.volume = volume\n",
        "        self.rate_return = float(close)/open - 1\n",
        "\n",
        "    def update(self, open, close):\n",
        "        self.open = open\n",
        "        self.close = close\n",
        "        self.rate_return = float(self.close)/self.open - 1\n",
        "\n",
        "    def print_return(self):\n",
        "        print (self.rate_return)\n",
        "\n",
        "apple  = Stock('AAPL', 143.69, 144.09, 20109375)\n",
        "google = Stock('GOOGL', 898.7, 911.7, 1561616)\n",
        "\n",
        "print(apple.ticker)\n",
        "google.print_return()\n",
        "google.update(912.8,913.4)\n",
        "google.print_return()\n",
        "print()\n",
        "#MY EXAMPLE#######\n",
        "class cripto:\n",
        "    def __init__(self, ticker, val_today, val_yesterday, volume):\n",
        "        self.ticker = ticker\n",
        "        self.val_today = val_today\n",
        "        self.val_yesterday = val_yesterday\n",
        "        self.volume = volume\n",
        "        self.rate_return = val_today-val_yesterday\n",
        "\n",
        "    def update(self, val_today, val_yesterday):\n",
        "        self.val_today= val_today\n",
        "        self.val_yesterday = val_yesterday\n",
        "        self.rate_return = val_today-val_yesterday\n",
        "\n",
        "    def print_return(self):\n",
        "        print (self.rate_return)\n",
        "\n",
        "bitcoin  = cripto('BTC', 62776, 61667.3, 20)\n",
        "ethereum = cripto('ETH', 3803.6, 3852, 156)\n",
        "\n",
        "print(bitcoin.ticker)\n",
        "ethereum.print_return()\n",
        "ethereum.update(912.8,913.4)\n",
        "bitcoin.print_return()"
      ],
      "execution_count": 72,
      "outputs": [
        {
          "output_type": "stream",
          "name": "stdout",
          "text": [
            "AAPL\n",
            "0.014465338822744034\n",
            "0.0006573181419806673\n",
            "\n",
            "BTC\n",
            "-48.40000000000009\n",
            "1108.699999999997\n"
          ]
        }
      ]
    },
    {
      "cell_type": "code",
      "metadata": {
        "colab": {
          "base_uri": "https://localhost:8080/"
        },
        "id": "PK4trm48G5gc",
        "outputId": "6b4a0966-a885-4059-da5b-086005b15efd"
      },
      "source": [
        "apple.ceo = 'Tim Cook'\n",
        "print(apple.ceo)\n",
        "print()\n",
        "#MY EXAMPLE#######\n",
        "bitcoin.potential = 'Very high.'\n",
        "print(bitcoin.potential)"
      ],
      "execution_count": 73,
      "outputs": [
        {
          "output_type": "stream",
          "name": "stdout",
          "text": [
            "Tim Cook\n",
            "\n",
            "Very high.\n"
          ]
        }
      ]
    },
    {
      "cell_type": "code",
      "metadata": {
        "colab": {
          "base_uri": "https://localhost:8080/"
        },
        "id": "oGNIZ45jHa8b",
        "outputId": "422ad5dc-d88d-4d2e-d5da-6580c9e1d774"
      },
      "source": [
        "print(dir(apple))\n",
        "print()\n",
        "#MY EXAMPLE#######\n",
        "dir(bitcoin)"
      ],
      "execution_count": 74,
      "outputs": [
        {
          "output_type": "stream",
          "name": "stdout",
          "text": [
            "['__class__', '__delattr__', '__dict__', '__dir__', '__doc__', '__eq__', '__format__', '__ge__', '__getattribute__', '__gt__', '__hash__', '__init__', '__init_subclass__', '__le__', '__lt__', '__module__', '__ne__', '__new__', '__reduce__', '__reduce_ex__', '__repr__', '__setattr__', '__sizeof__', '__str__', '__subclasshook__', '__weakref__', 'ceo', 'close', 'open', 'print_return', 'rate_return', 'ticker', 'update', 'volume']\n",
            "\n"
          ]
        },
        {
          "output_type": "execute_result",
          "data": {
            "text/plain": [
              "['__class__',\n",
              " '__delattr__',\n",
              " '__dict__',\n",
              " '__dir__',\n",
              " '__doc__',\n",
              " '__eq__',\n",
              " '__format__',\n",
              " '__ge__',\n",
              " '__getattribute__',\n",
              " '__gt__',\n",
              " '__hash__',\n",
              " '__init__',\n",
              " '__init_subclass__',\n",
              " '__le__',\n",
              " '__lt__',\n",
              " '__module__',\n",
              " '__ne__',\n",
              " '__new__',\n",
              " '__reduce__',\n",
              " '__reduce_ex__',\n",
              " '__repr__',\n",
              " '__setattr__',\n",
              " '__sizeof__',\n",
              " '__str__',\n",
              " '__subclasshook__',\n",
              " '__weakref__',\n",
              " 'potential',\n",
              " 'print_return',\n",
              " 'rate_return',\n",
              " 'ticker',\n",
              " 'update',\n",
              " 'val_today',\n",
              " 'val_yesterday',\n",
              " 'volume']"
            ]
          },
          "metadata": {},
          "execution_count": 74
        }
      ]
    },
    {
      "cell_type": "code",
      "metadata": {
        "colab": {
          "base_uri": "https://localhost:8080/"
        },
        "id": "_zp943LDIeM5",
        "outputId": "8df66718-6a3e-412b-ea13-f4ffdca51040"
      },
      "source": [
        "class Child(Stock):\n",
        "    def __init__(self, name):\n",
        "        self.name = name\n",
        "\n",
        "aa = Child('AA')\n",
        "print (aa.name)\n",
        "aa.update(100, 102)\n",
        "print (aa.open)\n",
        "print (aa.close)\n",
        "print (aa.print_return())\n",
        "print()\n",
        "#MY EXAMPLE#######\n",
        "class cbs(cripto):\n",
        "    def __init__(self, name):\n",
        "        self.name = name\n",
        "\n",
        "ex = cbs('example1')\n",
        "print (ex.name)\n",
        "ex.update(98, 1054)\n",
        "print (ex.val_today)\n",
        "print (ex.val_yesterday)\n",
        "print (ex.print_return())"
      ],
      "execution_count": 75,
      "outputs": [
        {
          "output_type": "stream",
          "name": "stdout",
          "text": [
            "AA\n",
            "100\n",
            "102\n",
            "0.020000000000000018\n",
            "None\n",
            "\n",
            "example1\n",
            "98\n",
            "1054\n",
            "-956\n",
            "None\n"
          ]
        }
      ]
    },
    {
      "cell_type": "markdown",
      "metadata": {
        "id": "OqtuW4tIbIYq"
      },
      "source": [
        "# **4. NumPy and Basic Pandas**"
      ]
    },
    {
      "cell_type": "code",
      "metadata": {
        "colab": {
          "base_uri": "https://localhost:8080/"
        },
        "id": "ljgi9bThb9Os",
        "outputId": "83c819de-1ca8-4564-bfe2-a6c518d1c057"
      },
      "source": [
        "import numpy as np\n",
        "\n",
        "price_list = [143.73, 145.83, 143.68, 144.02, 143.5, 142.62]\n",
        "price_array = np.array(price_list)\n",
        "print (price_array, type(price_array))\n",
        "print()\n",
        "#MY EXAMPLE#######\n",
        "price_list2 = [2, 14.83, 83.2, 142, 54.8]\n",
        "price_array2 = np.array(price_list2)\n",
        "print (price_array2, type(price_array2))"
      ],
      "execution_count": 76,
      "outputs": [
        {
          "output_type": "stream",
          "name": "stdout",
          "text": [
            "[143.73 145.83 143.68 144.02 143.5  142.62] <class 'numpy.ndarray'>\n",
            "\n",
            "[  2.    14.83  83.2  142.    54.8 ] <class 'numpy.ndarray'>\n"
          ]
        }
      ]
    },
    {
      "cell_type": "code",
      "metadata": {
        "colab": {
          "base_uri": "https://localhost:8080/"
        },
        "id": "W2oJhRmsmtiT",
        "outputId": "67eb3200-1e6c-4be4-c0ae-ef67c31b70c5"
      },
      "source": [
        "Ar = np.array([[1,3], [2,4]])\n",
        "print(Ar, type(Ar))\n",
        "print()\n",
        "#MY EXAMPLE#######\n",
        "hn = np.array([[77,8.9], [0,4],[33,10]])\n",
        "print(hn, type(hn))"
      ],
      "execution_count": 77,
      "outputs": [
        {
          "output_type": "stream",
          "name": "stdout",
          "text": [
            "[[1 3]\n",
            " [2 4]] <class 'numpy.ndarray'>\n",
            "\n",
            "[[77.   8.9]\n",
            " [ 0.   4. ]\n",
            " [33.  10. ]] <class 'numpy.ndarray'>\n"
          ]
        }
      ]
    },
    {
      "cell_type": "code",
      "metadata": {
        "colab": {
          "base_uri": "https://localhost:8080/"
        },
        "id": "EscwUkGLnj9k",
        "outputId": "0cc0617b-fd46-4544-c178-bc639b7fed2c"
      },
      "source": [
        "print (Ar.shape)\n",
        "print()\n",
        "#MY EXAMPLE#######\n",
        "print(hn.shape)"
      ],
      "execution_count": 78,
      "outputs": [
        {
          "output_type": "stream",
          "name": "stdout",
          "text": [
            "(2, 2)\n",
            "\n",
            "(3, 2)\n"
          ]
        }
      ]
    },
    {
      "cell_type": "code",
      "metadata": {
        "colab": {
          "base_uri": "https://localhost:8080/"
        },
        "id": "0hx2NGpsoAI8",
        "outputId": "982a2050-6c72-409d-9aa4-a8b687ededa3"
      },
      "source": [
        "print (Ar[0])\n",
        "print (Ar[1])\n",
        "print()\n",
        "#MY EXAMPLE#######\n",
        "print (hn[0][1])\n",
        "print (hn[1][0])"
      ],
      "execution_count": 79,
      "outputs": [
        {
          "output_type": "stream",
          "name": "stdout",
          "text": [
            "[1 3]\n",
            "[2 4]\n",
            "\n",
            "8.9\n",
            "0.0\n"
          ]
        }
      ]
    },
    {
      "cell_type": "code",
      "metadata": {
        "colab": {
          "base_uri": "https://localhost:8080/"
        },
        "id": "48qhTO2vojcs",
        "outputId": "b8ebd9db-b60a-41fd-c72b-c9df2bc47146"
      },
      "source": [
        "print ('First column:', Ar[:,0])\n",
        "print ('Second column:', Ar[:,1])\n",
        "print()\n",
        "#MY EXAMPLE#######\n",
        "print ('Second column:', hn[:,1])\n",
        "print ('first column:', hn[:,0])"
      ],
      "execution_count": 80,
      "outputs": [
        {
          "output_type": "stream",
          "name": "stdout",
          "text": [
            "First column: [1 2]\n",
            "Second column: [3 4]\n",
            "\n",
            "Second column: [ 8.9  4.  10. ]\n",
            "first column: [77.  0. 33.]\n"
          ]
        }
      ]
    },
    {
      "cell_type": "code",
      "metadata": {
        "colab": {
          "base_uri": "https://localhost:8080/"
        },
        "id": "pMLwxV1Go-8n",
        "outputId": "0bbde4b9-ad45-40ad-b22b-02c05be83bd0"
      },
      "source": [
        "print(np.log(price_array))\n",
        "print(np.log(price_array2))"
      ],
      "execution_count": 81,
      "outputs": [
        {
          "output_type": "stream",
          "name": "stdout",
          "text": [
            "[4.96793654 4.98244156 4.9675886  4.96995218 4.96633504 4.96018375]\n",
            "[0.69314718 2.69665216 4.42124735 4.95582706 4.00369019]\n"
          ]
        }
      ]
    },
    {
      "cell_type": "code",
      "metadata": {
        "colab": {
          "base_uri": "https://localhost:8080/"
        },
        "id": "QPctg9CVpfe7",
        "outputId": "d69344b9-4d15-4c89-d2f6-6cd3991a6701"
      },
      "source": [
        "print(np.mean(price_array))\n",
        "print (np.std(price_array))\n",
        "print (np.sum(price_array))\n",
        "print (np.max(price_array))\n",
        "print()\n",
        "#MY EXAMPLE#######\n",
        "print(np.mean(price_array2))\n",
        "print (np.std(price_array2))\n",
        "print (np.sum(price_array2))\n",
        "print (np.max(price_array2))"
      ],
      "execution_count": 82,
      "outputs": [
        {
          "output_type": "stream",
          "name": "stdout",
          "text": [
            "143.89666666666668\n",
            "0.9673790478515796\n",
            "863.38\n",
            "145.83\n",
            "\n",
            "59.366\n",
            "50.38174097825521\n",
            "296.83\n",
            "142.0\n"
          ]
        }
      ]
    },
    {
      "cell_type": "code",
      "metadata": {
        "colab": {
          "base_uri": "https://localhost:8080/"
        },
        "id": "KzRl-Rztp0k1",
        "outputId": "201e29ed-77d8-4f6e-a586-5edc4c27deb7"
      },
      "source": [
        "import pandas as pd\n",
        "price = [143.73, 145.83, 143.68, 144.02, 143.5, 142.62]\n",
        "s = pd.Series(price)\n",
        "print (s)\n",
        "print()\n",
        "#MY EXAMPLE#######\n",
        "precio= [[314,3.3], [[1.8, 3.68], [14.2, 4.5]], 122]\n",
        "p = pd.Series(precio)\n",
        "print (p)"
      ],
      "execution_count": 83,
      "outputs": [
        {
          "output_type": "stream",
          "name": "stdout",
          "text": [
            "0    143.73\n",
            "1    145.83\n",
            "2    143.68\n",
            "3    144.02\n",
            "4    143.50\n",
            "5    142.62\n",
            "dtype: float64\n",
            "\n",
            "0                    [314, 3.3]\n",
            "1    [[1.8, 3.68], [14.2, 4.5]]\n",
            "2                           122\n",
            "dtype: object\n"
          ]
        }
      ]
    },
    {
      "cell_type": "code",
      "metadata": {
        "colab": {
          "base_uri": "https://localhost:8080/"
        },
        "id": "ONFk2oubsz2l",
        "outputId": "96bed0ad-4c0f-41ca-d47d-5e826c0c03c1"
      },
      "source": [
        "s = pd.Series(price, index = ['a', 'b', 'c', 'd', 'e', 'f'])\n",
        "print(s)\n",
        "print()\n",
        "#MY EXAMPLE#######\n",
        "p = pd.Series(precio, index = [['a',2], True,'11'])\n",
        "print(p)"
      ],
      "execution_count": 84,
      "outputs": [
        {
          "output_type": "stream",
          "name": "stdout",
          "text": [
            "a    143.73\n",
            "b    145.83\n",
            "c    143.68\n",
            "d    144.02\n",
            "e    143.50\n",
            "f    142.62\n",
            "dtype: float64\n",
            "\n",
            "[a, 2]                    [314, 3.3]\n",
            "True      [[1.8, 3.68], [14.2, 4.5]]\n",
            "11                               122\n",
            "dtype: object\n"
          ]
        }
      ]
    },
    {
      "cell_type": "code",
      "metadata": {
        "colab": {
          "base_uri": "https://localhost:8080/"
        },
        "id": "DG4QexzNuC-V",
        "outputId": "98b5f226-ff00-452a-df66-c7917475a152"
      },
      "source": [
        "s.index = [6,5,4,3,2,1]\n",
        "print (s)\n",
        "print()\n",
        "#MY EXAMPLE#######\n",
        "p.index = [3,2,1]\n",
        "print (p)"
      ],
      "execution_count": 85,
      "outputs": [
        {
          "output_type": "stream",
          "name": "stdout",
          "text": [
            "6    143.73\n",
            "5    145.83\n",
            "4    143.68\n",
            "3    144.02\n",
            "2    143.50\n",
            "1    142.62\n",
            "dtype: float64\n",
            "\n",
            "3                    [314, 3.3]\n",
            "2    [[1.8, 3.68], [14.2, 4.5]]\n",
            "1                           122\n",
            "dtype: object\n"
          ]
        }
      ]
    },
    {
      "cell_type": "code",
      "metadata": {
        "colab": {
          "base_uri": "https://localhost:8080/"
        },
        "id": "cFNpLKKuuX4K",
        "outputId": "0c8e4c16-446c-48a1-a423-ba3a10777e17"
      },
      "source": [
        "print (s[1:])\n",
        "print (s[:-2])\n",
        "print()\n",
        "#MY EXAMPLE#######\n",
        "print (p[1:])\n",
        "print (p[:-2])"
      ],
      "execution_count": 86,
      "outputs": [
        {
          "output_type": "stream",
          "name": "stdout",
          "text": [
            "5    145.83\n",
            "4    143.68\n",
            "3    144.02\n",
            "2    143.50\n",
            "1    142.62\n",
            "dtype: float64\n",
            "6    143.73\n",
            "5    145.83\n",
            "4    143.68\n",
            "3    144.02\n",
            "dtype: float64\n",
            "\n",
            "2    [[1.8, 3.68], [14.2, 4.5]]\n",
            "1                           122\n",
            "dtype: object\n",
            "3    [314, 3.3]\n",
            "dtype: object\n"
          ]
        }
      ]
    },
    {
      "cell_type": "code",
      "metadata": {
        "colab": {
          "base_uri": "https://localhost:8080/"
        },
        "id": "tDE_ZtdtGmU4",
        "outputId": "c51a9253-3685-4b21-8e60-e695ec09b047"
      },
      "source": [
        "print (s[4])\n",
        "s[4] = 0\n",
        "print (s)\n",
        "print()\n",
        "#MY EXAMPLE#######\n",
        "print (p[2])\n",
        "p[2] = 0\n",
        "print (p)"
      ],
      "execution_count": 87,
      "outputs": [
        {
          "output_type": "stream",
          "name": "stdout",
          "text": [
            "143.68\n",
            "6    143.73\n",
            "5    145.83\n",
            "4      0.00\n",
            "3    144.02\n",
            "2    143.50\n",
            "1    142.62\n",
            "dtype: float64\n",
            "\n",
            "[[1.8, 3.68], [14.2, 4.5]]\n",
            "3    [314, 3.3]\n",
            "2             0\n",
            "1           122\n",
            "dtype: object\n"
          ]
        }
      ]
    },
    {
      "cell_type": "code",
      "metadata": {
        "colab": {
          "base_uri": "https://localhost:8080/"
        },
        "id": "60cnmEQTH2y8",
        "outputId": "8f885161-371c-4f19-c200-feeb42081b21"
      },
      "source": [
        "s = pd.Series(price, name = 'Apple Prices')\n",
        "print (s)\n",
        "print (s.name)\n",
        "print()\n",
        "#MY EXAMPLE#######\n",
        "p = pd.Series(precio, name = 'bµh')\n",
        "print (p)\n",
        "print (p.name)"
      ],
      "execution_count": 88,
      "outputs": [
        {
          "output_type": "stream",
          "name": "stdout",
          "text": [
            "0    143.73\n",
            "1    145.83\n",
            "2    143.68\n",
            "3    144.02\n",
            "4    143.50\n",
            "5    142.62\n",
            "Name: Apple Prices, dtype: float64\n",
            "Apple Prices\n",
            "\n",
            "0                    [314, 3.3]\n",
            "1    [[1.8, 3.68], [14.2, 4.5]]\n",
            "2                           122\n",
            "Name: bµh, dtype: object\n",
            "bµh\n"
          ]
        }
      ]
    },
    {
      "cell_type": "code",
      "metadata": {
        "colab": {
          "base_uri": "https://localhost:8080/"
        },
        "id": "oSyMzb-8IgI8",
        "outputId": "8eebbfcd-5f6b-4a01-92b8-d9fe888715fd"
      },
      "source": [
        "print (s.describe())\n",
        "print()\n",
        "#MY EXAMPLE#######\n",
        "print (p.describe())"
      ],
      "execution_count": 89,
      "outputs": [
        {
          "output_type": "stream",
          "name": "stdout",
          "text": [
            "count      6.000000\n",
            "mean     143.896667\n",
            "std        1.059711\n",
            "min      142.620000\n",
            "25%      143.545000\n",
            "50%      143.705000\n",
            "75%      143.947500\n",
            "max      145.830000\n",
            "Name: Apple Prices, dtype: float64\n",
            "\n",
            "count              3\n",
            "unique             3\n",
            "top       [314, 3.3]\n",
            "freq               1\n",
            "Name: bµh, dtype: object\n"
          ]
        }
      ]
    },
    {
      "cell_type": "code",
      "metadata": {
        "colab": {
          "base_uri": "https://localhost:8080/"
        },
        "id": "J7qA4hTEJDeq",
        "outputId": "afde46ae-c167-40b1-c65a-556417994a23"
      },
      "source": [
        "time_index = pd.date_range('2017-01-01', periods = len(s), freq = 'D')\n",
        "print (time_index)\n",
        "s.index = time_index\n",
        "print (s)\n",
        "print()\n",
        "#MY EXAMPLE#######\n",
        "time_index2 = pd.date_range('2021-12-31', periods = len(p), freq = 'Y')\n",
        "print (time_index2)\n",
        "p.index = time_index2\n",
        "print (p)"
      ],
      "execution_count": 90,
      "outputs": [
        {
          "output_type": "stream",
          "name": "stdout",
          "text": [
            "DatetimeIndex(['2017-01-01', '2017-01-02', '2017-01-03', '2017-01-04',\n",
            "               '2017-01-05', '2017-01-06'],\n",
            "              dtype='datetime64[ns]', freq='D')\n",
            "2017-01-01    143.73\n",
            "2017-01-02    145.83\n",
            "2017-01-03    143.68\n",
            "2017-01-04    144.02\n",
            "2017-01-05    143.50\n",
            "2017-01-06    142.62\n",
            "Freq: D, Name: Apple Prices, dtype: float64\n",
            "\n",
            "DatetimeIndex(['2021-12-31', '2022-12-31', '2023-12-31'], dtype='datetime64[ns]', freq='A-DEC')\n",
            "2021-12-31                    [314, 3.3]\n",
            "2022-12-31    [[1.8, 3.68], [14.2, 4.5]]\n",
            "2023-12-31                           122\n",
            "Freq: A-DEC, Name: bµh, dtype: object\n"
          ]
        }
      ]
    },
    {
      "cell_type": "code",
      "metadata": {
        "colab": {
          "base_uri": "https://localhost:8080/"
        },
        "id": "LCtOoF6HSN3f",
        "outputId": "275bbc09-7d38-4d8b-d8d1-09badbff73a7"
      },
      "source": [
        "s.index = [6,5,4,3,2,1]\n",
        "print (s)\n",
        "print (s[1])\n",
        "print()\n",
        "#MY EXAMPLE#######\n",
        "p.index = [3,2,1]\n",
        "print (p)\n",
        "print (p[2])"
      ],
      "execution_count": 91,
      "outputs": [
        {
          "output_type": "stream",
          "name": "stdout",
          "text": [
            "6    143.73\n",
            "5    145.83\n",
            "4    143.68\n",
            "3    144.02\n",
            "2    143.50\n",
            "1    142.62\n",
            "Name: Apple Prices, dtype: float64\n",
            "142.62\n",
            "\n",
            "3                    [314, 3.3]\n",
            "2    [[1.8, 3.68], [14.2, 4.5]]\n",
            "1                           122\n",
            "Name: bµh, dtype: object\n",
            "[[1.8, 3.68], [14.2, 4.5]]\n"
          ]
        }
      ]
    },
    {
      "cell_type": "code",
      "metadata": {
        "colab": {
          "base_uri": "https://localhost:8080/"
        },
        "id": "Vb4Ntd-DcGjP",
        "outputId": "cac15ce0-9b5d-4c00-ee87-6b7023aa9737"
      },
      "source": [
        "print (s.iloc[1])\n",
        "print()\n",
        "#MY EXAMPLE#######\n",
        "print (p.iloc[0])"
      ],
      "execution_count": 92,
      "outputs": [
        {
          "output_type": "stream",
          "name": "stdout",
          "text": [
            "145.83\n",
            "\n",
            "[314, 3.3]\n"
          ]
        }
      ]
    },
    {
      "cell_type": "code",
      "metadata": {
        "colab": {
          "base_uri": "https://localhost:8080/"
        },
        "id": "UrBKBZqMcdja",
        "outputId": "cf644221-0c98-4fa7-d6cf-01f11d522bc7"
      },
      "source": [
        "s.index = time_index\n",
        "print (s['2017-01-03'])\n",
        "print()\n",
        "#MY EXAMPLE#######\n",
        "p.index = time_index2\n",
        "print (p['2023-12-31'])"
      ],
      "execution_count": 93,
      "outputs": [
        {
          "output_type": "stream",
          "name": "stdout",
          "text": [
            "143.68\n",
            "\n",
            "122\n"
          ]
        }
      ]
    },
    {
      "cell_type": "code",
      "metadata": {
        "colab": {
          "base_uri": "https://localhost:8080/"
        },
        "id": "9d6Wf-I7dE4D",
        "outputId": "34f15b14-32b5-4fd2-f349-97d819618ca7"
      },
      "source": [
        "print (s['2017-01-02':'2017-01-05'])\n",
        "print()\n",
        "#MY EXAMPLE#######\n",
        "print (p['2021-12-31':'2022-12-31'])"
      ],
      "execution_count": 94,
      "outputs": [
        {
          "output_type": "stream",
          "name": "stdout",
          "text": [
            "2017-01-02    145.83\n",
            "2017-01-03    143.68\n",
            "2017-01-04    144.02\n",
            "2017-01-05    143.50\n",
            "Freq: D, Name: Apple Prices, dtype: float64\n",
            "\n",
            "2021-12-31                    [314, 3.3]\n",
            "2022-12-31    [[1.8, 3.68], [14.2, 4.5]]\n",
            "Freq: A-DEC, Name: bµh, dtype: object\n"
          ]
        }
      ]
    },
    {
      "cell_type": "markdown",
      "metadata": {
        "id": "WdF4PRfpb5kF"
      },
      "source": [
        "# ***05 Pandas-Resampling and DataFrame***"
      ]
    },
    {
      "cell_type": "code",
      "metadata": {
        "colab": {
          "base_uri": "https://localhost:8080/"
        },
        "id": "ceeee07zbyuZ",
        "outputId": "6289783e-a1e0-473f-c0f4-069ceb8c3453"
      },
      "source": [
        "\n",
        "\n",
        "!pip install yfinance\n",
        "\n"
      ],
      "execution_count": 2,
      "outputs": [
        {
          "output_type": "stream",
          "name": "stdout",
          "text": [
            "Collecting yfinance\n",
            "  Downloading yfinance-0.1.64.tar.gz (26 kB)\n",
            "Requirement already satisfied: pandas>=0.24 in /usr/local/lib/python3.7/dist-packages (from yfinance) (1.1.5)\n",
            "Requirement already satisfied: numpy>=1.15 in /usr/local/lib/python3.7/dist-packages (from yfinance) (1.19.5)\n",
            "Requirement already satisfied: requests>=2.20 in /usr/local/lib/python3.7/dist-packages (from yfinance) (2.23.0)\n",
            "Requirement already satisfied: multitasking>=0.0.7 in /usr/local/lib/python3.7/dist-packages (from yfinance) (0.0.9)\n",
            "Collecting lxml>=4.5.1\n",
            "  Downloading lxml-4.6.3-cp37-cp37m-manylinux2014_x86_64.whl (6.3 MB)\n",
            "\u001b[K     |████████████████████████████████| 6.3 MB 6.1 MB/s \n",
            "\u001b[?25hRequirement already satisfied: pytz>=2017.2 in /usr/local/lib/python3.7/dist-packages (from pandas>=0.24->yfinance) (2018.9)\n",
            "Requirement already satisfied: python-dateutil>=2.7.3 in /usr/local/lib/python3.7/dist-packages (from pandas>=0.24->yfinance) (2.8.2)\n",
            "Requirement already satisfied: six>=1.5 in /usr/local/lib/python3.7/dist-packages (from python-dateutil>=2.7.3->pandas>=0.24->yfinance) (1.15.0)\n",
            "Requirement already satisfied: idna<3,>=2.5 in /usr/local/lib/python3.7/dist-packages (from requests>=2.20->yfinance) (2.10)\n",
            "Requirement already satisfied: certifi>=2017.4.17 in /usr/local/lib/python3.7/dist-packages (from requests>=2.20->yfinance) (2021.5.30)\n",
            "Requirement already satisfied: urllib3!=1.25.0,!=1.25.1,<1.26,>=1.21.1 in /usr/local/lib/python3.7/dist-packages (from requests>=2.20->yfinance) (1.24.3)\n",
            "Requirement already satisfied: chardet<4,>=3.0.2 in /usr/local/lib/python3.7/dist-packages (from requests>=2.20->yfinance) (3.0.4)\n",
            "Building wheels for collected packages: yfinance\n",
            "  Building wheel for yfinance (setup.py) ... \u001b[?25l\u001b[?25hdone\n",
            "  Created wheel for yfinance: filename=yfinance-0.1.64-py2.py3-none-any.whl size=24109 sha256=9a59c3b32ba46cec4776c3166fa227ba1a1fad4571a0f05466409e7f3f728fa8\n",
            "  Stored in directory: /root/.cache/pip/wheels/86/fe/9b/a4d3d78796b699e37065e5b6c27b75cff448ddb8b24943c288\n",
            "Successfully built yfinance\n",
            "Installing collected packages: lxml, yfinance\n",
            "  Attempting uninstall: lxml\n",
            "    Found existing installation: lxml 4.2.6\n",
            "    Uninstalling lxml-4.2.6:\n",
            "      Successfully uninstalled lxml-4.2.6\n",
            "Successfully installed lxml-4.6.3 yfinance-0.1.64\n"
          ]
        }
      ]
    },
    {
      "cell_type": "code",
      "metadata": {
        "colab": {
          "base_uri": "https://localhost:8080/"
        },
        "id": "m_GSUKfNcBe7",
        "outputId": "6d755e9f-c722-45d9-dc7e-4a3043d2ce8b"
      },
      "source": [
        "import yfinance as yf\n",
        "\n",
        "aapl = yf.Ticker(\"AAPL\")\n",
        "\n",
        "# get stock info\n",
        "print(aapl.info)\n",
        "\n",
        "# get historical market data\n",
        "aapl_table = aapl.history(start=\"2016-01-01\",  end=\"2017-12-31\")\n",
        "print(aapl_table)\n",
        "\n",
        "print()\n",
        "#MY EXAMPLE#######\n",
        "\n",
        "btc = yf.Ticker(\"BTC-USD\")\n",
        "\n",
        "# get stock info\n",
        "print(btc.info)\n",
        "\n",
        "# get historical market data\n",
        "btc_table = btc.history(start=\"2016-01-01\",  end=\"2017-12-31\")\n",
        "print(btc_table)"
      ],
      "execution_count": 3,
      "outputs": [
        {
          "output_type": "stream",
          "name": "stdout",
          "text": [
            "{'zip': '95014', 'sector': 'Technology', 'fullTimeEmployees': 147000, 'longBusinessSummary': 'Apple Inc. designs, manufactures, and markets smartphones, personal computers, tablets, wearables, and accessories worldwide. It also sells various related services. The company offers iPhone, a line of smartphones; Mac, a line of personal computers; iPad, a line of multi-purpose tablets; and wearables, home, and accessories comprising AirPods, Apple TV, Apple Watch, Beats products, HomePod, iPod touch, and other Apple-branded and third-party accessories. It also provides AppleCare support services; cloud services store services; and operates various platforms, including the App Store, that allow customers to discover and download applications and digital content, such as books, music, video, games, and podcasts. In addition, the company offers various services, such as Apple Arcade, a game subscription service; Apple Music, which offers users a curated listening experience with on-demand radio stations; Apple News+, a subscription news and magazine service; Apple TV+, which offers exclusive original content; Apple Card, a co-branded credit card; and Apple Pay, a cashless payment service, as well as licenses its intellectual property. The company serves consumers, and small and mid-sized businesses; and the education, enterprise, and government markets. It sells and delivers third-party applications for its products through the App Store. The company also sells its products through its retail and online stores, and direct sales force; and third-party cellular network carriers, wholesalers, retailers, and resellers. Apple Inc. was founded in 1977 and is headquartered in Cupertino, California.', 'city': 'Cupertino', 'phone': '408-996-1010', 'state': 'CA', 'country': 'United States', 'companyOfficers': [], 'website': 'http://www.apple.com', 'maxAge': 1, 'address1': 'One Apple Park Way', 'industry': 'Consumer Electronics', 'ebitdaMargins': 0.31955, 'profitMargins': 0.25004, 'grossMargins': 0.41005, 'operatingCashflow': 104414003200, 'revenueGrowth': 0.364, 'operatingMargins': 0.28788, 'ebitda': 110934999040, 'targetLowPrice': 132, 'recommendationKey': 'buy', 'grossProfits': 104956000000, 'freeCashflow': 80625876992, 'targetMedianPrice': 170, 'currentPrice': 149.48, 'earningsGrowth': 1, 'currentRatio': 1.062, 'returnOnAssets': 0.19302, 'numberOfAnalystOpinions': 41, 'targetMeanPrice': 168.35, 'debtToEquity': 210.782, 'returnOnEquity': 1.27125, 'targetHighPrice': 190, 'totalCash': 61696000000, 'totalDebt': 135491002368, 'totalRevenue': 347155005440, 'totalCashPerShare': 3.732, 'financialCurrency': 'USD', 'revenuePerShare': 20.61, 'quickRatio': 0.887, 'recommendationMean': 1.9, 'exchange': 'NMS', 'shortName': 'Apple Inc.', 'longName': 'Apple Inc.', 'exchangeTimezoneName': 'America/New_York', 'exchangeTimezoneShortName': 'EDT', 'isEsgPopulated': False, 'gmtOffSetMilliseconds': '-14400000', 'quoteType': 'EQUITY', 'symbol': 'AAPL', 'messageBoardId': 'finmb_24937', 'market': 'us_market', 'annualHoldingsTurnover': None, 'enterpriseToRevenue': 7.32, 'beta3Year': None, 'enterpriseToEbitda': 22.906, '52WeekChange': 0.28950322, 'morningStarRiskRating': None, 'forwardEps': 5.67, 'revenueQuarterlyGrowth': None, 'sharesOutstanding': 16530199552, 'fundInceptionDate': None, 'annualReportExpenseRatio': None, 'totalAssets': None, 'bookValue': 3.882, 'sharesShort': 101107412, 'sharesPercentSharesOut': 0.0061000003, 'fundFamily': None, 'lastFiscalYearEnd': 1601078400, 'heldPercentInstitutions': 0.58674, 'netIncomeToCommon': 86801997824, 'trailingEps': 5.108, 'lastDividendValue': 0.22, 'SandP52WeekChange': 0.313509, 'priceToBook': 38.505924, 'heldPercentInsiders': 0.00072999997, 'nextFiscalYearEnd': 1664150400, 'yield': None, 'mostRecentQuarter': 1624665600, 'shortRatio': 1.18, 'sharesShortPreviousMonthDate': 1630368000, 'floatShares': 16512974627, 'beta': 1.222222, 'enterpriseValue': 2541087621120, 'priceHint': 2, 'threeYearAverageReturn': None, 'lastSplitDate': 1598832000, 'lastSplitFactor': '4:1', 'legalType': None, 'lastDividendDate': 1628208000, 'morningStarOverallRating': None, 'earningsQuarterlyGrowth': 0.932, 'priceToSalesTrailing12Months': 7.1176686, 'dateShortInterest': 1632960000, 'pegRatio': 1.38, 'ytdReturn': None, 'forwardPE': 26.363314, 'lastCapGain': None, 'shortPercentOfFloat': 0.0061000003, 'sharesShortPriorMonth': 96838699, 'impliedSharesOutstanding': None, 'category': None, 'fiveYearAverageReturn': None, 'previousClose': 149.26, 'regularMarketOpen': 148.81, 'twoHundredDayAverage': 139.08286, 'trailingAnnualDividendYield': 0.005594265, 'payoutRatio': 0.16309999, 'volume24Hr': None, 'regularMarketDayHigh': 149.64, 'navPrice': None, 'averageDailyVolume10Day': 71794737, 'regularMarketPreviousClose': 149.26, 'fiftyDayAverage': 146.39772, 'trailingAnnualDividendRate': 0.835, 'open': 148.81, 'toCurrency': None, 'averageVolume10days': 71794737, 'expireDate': None, 'algorithm': None, 'dividendRate': 0.88, 'exDividendDate': 1628208000, 'circulatingSupply': None, 'startDate': None, 'regularMarketDayLow': 147.87, 'currency': 'USD', 'trailingPE': 29.2639, 'regularMarketVolume': 61222219, 'lastMarket': None, 'maxSupply': None, 'openInterest': None, 'marketCap': 2470934216704, 'volumeAllCurrencies': None, 'strikePrice': None, 'averageVolume': 76263192, 'dayLow': 147.87, 'ask': 149.52, 'askSize': 1800, 'volume': 61222219, 'fiftyTwoWeekHigh': 157.26, 'fromCurrency': None, 'fiveYearAvgDividendYield': 1.24, 'fiftyTwoWeekLow': 107.32, 'bid': 149.2, 'tradeable': False, 'dividendYield': 0.0058999998, 'bidSize': 3200, 'dayHigh': 149.64, 'regularMarketPrice': 149.48, 'preMarketPrice': 148.83, 'logo_url': 'https://logo.clearbit.com/apple.com'}\n",
            "                 Open       High        Low  ...     Volume  Dividends  Stock Splits\n",
            "Date                                         ...                                    \n",
            "2016-01-04  23.655166  24.291443  23.514540  ...  270597600        0.0             0\n",
            "2016-01-05  24.379045  24.402098  23.609059  ...  223164000        0.0             0\n",
            "2016-01-06  23.182569  23.599838  23.023501  ...  273829600        0.0             0\n",
            "2016-01-07  22.749164  23.083439  22.230461  ...  324377600        0.0             0\n",
            "2016-01-08  22.719199  22.848298  22.306542  ...  283192000        0.0             0\n",
            "...               ...        ...        ...  ...        ...        ...           ...\n",
            "2017-12-22  41.827756  42.004953  41.784656  ...   65397600        0.0             0\n",
            "2017-12-26  40.898675  41.059108  40.630484  ...  132742000        0.0             0\n",
            "2017-12-27  40.731054  40.893880  40.637667  ...   85992800        0.0             0\n",
            "2017-12-28  40.946568  41.150105  40.822051  ...   65920800        0.0             0\n",
            "2017-12-29  40.831629  40.848389  40.520339  ...  103999600        0.0             0\n",
            "\n",
            "[503 rows x 7 columns]\n",
            "\n",
            "{'companyOfficers': [], 'name': 'Bitcoin', 'startDate': 1367107200, 'description': 'Bitcoin (BTC) is a cryptocurrency . Users are able to generate BTC through the process of mining. Bitcoin has a current supply of 18,847,193. The last known price of Bitcoin is 60,843.63534697 USD and is down -0.02 over the last 24 hours. It is currently trading on 8362 active market(s) with $35,402,634,758.68 traded over the last 24 hours. More information can be found at https://bitcoin.org/.', 'maxAge': 1, 'exchange': 'CCC', 'shortName': 'Bitcoin USD', 'exchangeTimezoneName': 'Europe/London', 'exchangeTimezoneShortName': 'BST', 'isEsgPopulated': False, 'gmtOffSetMilliseconds': '3600000', 'quoteType': 'CRYPTOCURRENCY', 'symbol': 'BTC-USD', 'messageBoardId': 'finmb_BTC_CCC', 'market': 'ccc_market', 'previousClose': 65919.14, 'regularMarketOpen': 65919.14, 'twoHundredDayAverage': 45201.406, 'trailingAnnualDividendYield': None, 'payoutRatio': None, 'volume24Hr': 46524461056, 'regularMarketDayHigh': 66561.13, 'navPrice': None, 'averageDailyVolume10Day': 39640026234, 'totalAssets': None, 'regularMarketPreviousClose': 65919.14, 'fiftyDayAverage': 50005.87, 'trailingAnnualDividendRate': None, 'open': 65919.14, 'toCurrency': 'USD=X', 'averageVolume10days': 39640026234, 'expireDate': None, 'yield': None, 'algorithm': None, 'dividendRate': None, 'exDividendDate': None, 'beta': None, 'circulatingSupply': 18850362, 'regularMarketDayLow': 62519.363, 'priceHint': 2, 'currency': 'USD', 'regularMarketVolume': 46524461056, 'lastMarket': 'CoinMarketCap', 'maxSupply': None, 'openInterest': None, 'marketCap': 1186092941312, 'volumeAllCurrencies': 46524461056, 'strikePrice': None, 'averageVolume': 34771012437, 'priceToSalesTrailing12Months': None, 'dayLow': 62519.363, 'ask': None, 'ytdReturn': None, 'askSize': None, 'volume': 46524461056, 'fiftyTwoWeekHigh': 66930.39, 'forwardPE': None, 'fromCurrency': 'BTC', 'fiveYearAvgDividendYield': None, 'fiftyTwoWeekLow': 12717.094, 'bid': None, 'tradeable': False, 'dividendYield': None, 'bidSize': None, 'dayHigh': 66561.13, 'regularMarketPrice': 62921.496, 'preMarketPrice': None, 'logo_url': ''}\n",
            "                    Open          High  ...  Dividends  Stock Splits\n",
            "Date                                    ...                         \n",
            "2016-01-01    430.721008    436.246002  ...          0             0\n",
            "2016-01-02    434.622009    436.062012  ...          0             0\n",
            "2016-01-03    433.578003    433.743011  ...          0             0\n",
            "2016-01-04    430.061005    434.516998  ...          0             0\n",
            "2016-01-05    433.069000    434.182007  ...          0             0\n",
            "...                  ...           ...  ...        ...           ...\n",
            "2017-12-27  16163.500000  16930.900391  ...          0             0\n",
            "2017-12-28  15864.099609  15888.400391  ...          0             0\n",
            "2017-12-29  14695.799805  15279.000000  ...          0             0\n",
            "2017-12-30  14681.900391  14681.900391  ...          0             0\n",
            "2017-12-31  12897.700195  14377.400391  ...          0             0\n",
            "\n",
            "[731 rows x 7 columns]\n"
          ]
        }
      ]
    },
    {
      "cell_type": "code",
      "metadata": {
        "colab": {
          "base_uri": "https://localhost:8080/"
        },
        "id": "Dj39VbQacOEd",
        "outputId": "e00fff80-2faa-43e2-a9b1-607f955cc0a4"
      },
      "source": [
        "aapl = aapl_table['Close']['2017']\n",
        "print(aapl)\n",
        "\n",
        "print()\n",
        "#MY EXAMPLE#######\n",
        "\n",
        "btc = btc_table['Close']['2017']\n",
        "print(btc)"
      ],
      "execution_count": 4,
      "outputs": [
        {
          "output_type": "stream",
          "name": "stdout",
          "text": [
            "Date\n",
            "2017-01-03    27.372364\n",
            "2017-01-04    27.341722\n",
            "2017-01-05    27.480764\n",
            "2017-01-06    27.787130\n",
            "2017-01-09    28.041647\n",
            "                ...    \n",
            "2017-12-22    41.906776\n",
            "2017-12-26    40.843601\n",
            "2017-12-27    40.850780\n",
            "2017-12-28    40.965725\n",
            "2017-12-29    40.522732\n",
            "Name: Close, Length: 251, dtype: float64\n",
            "\n",
            "Date\n",
            "2017-01-01      998.325012\n",
            "2017-01-02     1021.750000\n",
            "2017-01-03     1043.839966\n",
            "2017-01-04     1154.729980\n",
            "2017-01-05     1013.380005\n",
            "                  ...     \n",
            "2017-12-27    15838.500000\n",
            "2017-12-28    14606.500000\n",
            "2017-12-29    14656.200195\n",
            "2017-12-30    12952.200195\n",
            "2017-12-31    14156.400391\n",
            "Name: Close, Length: 365, dtype: float64\n"
          ]
        }
      ]
    },
    {
      "cell_type": "code",
      "metadata": {
        "colab": {
          "base_uri": "https://localhost:8080/"
        },
        "id": "EO_ecbn_cY5H",
        "outputId": "22bc078d-a407-469c-bc42-fddb64ca030c"
      },
      "source": [
        "print(aapl['2017-3'])\n",
        "\n",
        "print()\n",
        "#MY EXAMPLE#######\n",
        "\n",
        "print(btc['2017-8'])"
      ],
      "execution_count": 6,
      "outputs": [
        {
          "output_type": "stream",
          "name": "stdout",
          "text": [
            "Date\n",
            "2017-03-01    33.086285\n",
            "2017-03-02    32.889835\n",
            "2017-03-03    33.083916\n",
            "2017-03-06    32.979774\n",
            "2017-03-07    33.022381\n",
            "2017-03-08    32.899296\n",
            "2017-03-09    32.823566\n",
            "2017-03-10    32.932446\n",
            "2017-03-13    32.946636\n",
            "2017-03-14    32.896938\n",
            "2017-03-15    33.244869\n",
            "2017-03-16    33.299301\n",
            "2017-03-17    33.133629\n",
            "2017-03-20    33.481548\n",
            "2017-03-21    33.098118\n",
            "2017-03-22    33.472088\n",
            "2017-03-23    33.353741\n",
            "2017-03-24    33.287468\n",
            "2017-03-27    33.344273\n",
            "2017-03-28    34.035397\n",
            "2017-03-29    34.111130\n",
            "2017-03-30    34.066166\n",
            "2017-03-31    34.002262\n",
            "Name: Close, dtype: float64\n",
            "\n",
            "Date\n",
            "2017-08-01    2718.260010\n",
            "2017-08-02    2710.669922\n",
            "2017-08-03    2804.729980\n",
            "2017-08-04    2895.889893\n",
            "2017-08-05    3252.909912\n",
            "2017-08-06    3213.939941\n",
            "2017-08-07    3378.939941\n",
            "2017-08-08    3419.939941\n",
            "2017-08-09    3342.469971\n",
            "2017-08-10    3381.280029\n",
            "2017-08-11    3650.620117\n",
            "2017-08-12    3884.709961\n",
            "2017-08-13    4073.260010\n",
            "2017-08-14    4325.129883\n",
            "2017-08-15    4181.930176\n",
            "2017-08-16    4376.629883\n",
            "2017-08-17    4331.689941\n",
            "2017-08-18    4160.620117\n",
            "2017-08-19    4193.700195\n",
            "2017-08-20    4087.659912\n",
            "2017-08-21    4001.739990\n",
            "2017-08-22    4100.520020\n",
            "2017-08-23    4151.520020\n",
            "2017-08-24    4334.680176\n",
            "2017-08-25    4371.600098\n",
            "2017-08-26    4352.399902\n",
            "2017-08-27    4382.879883\n",
            "2017-08-28    4382.660156\n",
            "2017-08-29    4579.020020\n",
            "2017-08-30    4565.299805\n",
            "2017-08-31    4703.390137\n",
            "Name: Close, dtype: float64\n"
          ]
        }
      ]
    },
    {
      "cell_type": "code",
      "metadata": {
        "colab": {
          "base_uri": "https://localhost:8080/"
        },
        "id": "Ag0ILU4occJ7",
        "outputId": "9535351e-7fe3-4e75-d571-402d39b22e99"
      },
      "source": [
        "print(aapl['2017-2':'2017-4'])\n",
        "\n",
        "print()\n",
        "#MY EXAMPLE#######\n",
        "\n",
        "print(btc['2017-1':'2017-3'])"
      ],
      "execution_count": 9,
      "outputs": [
        {
          "output_type": "stream",
          "name": "stdout",
          "text": [
            "Date\n",
            "2017-02-01    30.341728\n",
            "2017-02-02    30.289881\n",
            "2017-02-03    30.419497\n",
            "2017-02-06    30.704649\n",
            "2017-02-07    30.996870\n",
            "                ...    \n",
            "2017-04-24    33.997524\n",
            "2017-04-25    34.208183\n",
            "2017-04-26    34.006985\n",
            "2017-04-27    34.033028\n",
            "2017-04-28    33.999882\n",
            "Name: Close, Length: 61, dtype: float64\n",
            "\n",
            "Date\n",
            "2017-01-01     998.325012\n",
            "2017-01-02    1021.750000\n",
            "2017-01-03    1043.839966\n",
            "2017-01-04    1154.729980\n",
            "2017-01-05    1013.380005\n",
            "                 ...     \n",
            "2017-03-27    1045.770020\n",
            "2017-03-28    1047.150024\n",
            "2017-03-29    1039.969971\n",
            "2017-03-30    1026.430054\n",
            "2017-03-31    1071.790039\n",
            "Name: Close, Length: 90, dtype: float64\n"
          ]
        }
      ]
    },
    {
      "cell_type": "code",
      "metadata": {
        "colab": {
          "base_uri": "https://localhost:8080/"
        },
        "id": "SnylBZa_cgZ4",
        "outputId": "c43ed091-5e72-4a91-ed24-40fcf2e2a4a7"
      },
      "source": [
        "print(aapl.head(5))\n",
        "print(aapl.tail(10))\n",
        "\n",
        "print()\n",
        "#MY EXAMPLE#######\n",
        "\n",
        "print(btc.head(3))\n",
        "print(btc.tail(2))"
      ],
      "execution_count": 10,
      "outputs": [
        {
          "output_type": "stream",
          "name": "stdout",
          "text": [
            "Date\n",
            "2017-01-03    27.372364\n",
            "2017-01-04    27.341722\n",
            "2017-01-05    27.480764\n",
            "2017-01-06    27.787130\n",
            "2017-01-09    28.041647\n",
            "Name: Close, dtype: float64\n",
            "Date\n",
            "2017-12-15    41.657749\n",
            "2017-12-18    42.244408\n",
            "2017-12-19    41.794228\n",
            "2017-12-20    41.748737\n",
            "2017-12-21    41.906776\n",
            "2017-12-22    41.906776\n",
            "2017-12-26    40.843601\n",
            "2017-12-27    40.850780\n",
            "2017-12-28    40.965725\n",
            "2017-12-29    40.522732\n",
            "Name: Close, dtype: float64\n",
            "\n",
            "Date\n",
            "2017-01-01     998.325012\n",
            "2017-01-02    1021.750000\n",
            "2017-01-03    1043.839966\n",
            "Name: Close, dtype: float64\n",
            "Date\n",
            "2017-12-30    12952.200195\n",
            "2017-12-31    14156.400391\n",
            "Name: Close, dtype: float64\n"
          ]
        }
      ]
    },
    {
      "cell_type": "code",
      "metadata": {
        "colab": {
          "base_uri": "https://localhost:8080/"
        },
        "id": "ulj9JbPecpZK",
        "outputId": "ae7a1bd5-5bb2-4550-a36c-e25a51db3ba7"
      },
      "source": [
        "by_month = aapl.resample('M').mean()\n",
        "print(by_month)\n",
        "\n",
        "print()\n",
        "#MY EXAMPLE#######\n",
        "\n",
        "by_hour = btc.resample('H').mean()\n",
        "print(by_hour)"
      ],
      "execution_count": 11,
      "outputs": [
        {
          "output_type": "stream",
          "name": "stdout",
          "text": [
            "Date\n",
            "2017-01-31    28.178332\n",
            "2017-02-28    31.606276\n",
            "2017-03-31    33.282220\n",
            "2017-04-30    33.819263\n",
            "2017-05-31    36.125684\n",
            "2017-06-30    35.133983\n",
            "2017-07-31    35.245241\n",
            "2017-08-31    37.897227\n",
            "2017-09-30    37.604738\n",
            "2017-10-31    37.654551\n",
            "2017-11-30    41.233916\n",
            "2017-12-31    41.160039\n",
            "Freq: M, Name: Close, dtype: float64\n",
            "\n",
            "Date\n",
            "2017-01-01 00:00:00      998.325012\n",
            "2017-01-01 01:00:00             NaN\n",
            "2017-01-01 02:00:00             NaN\n",
            "2017-01-01 03:00:00             NaN\n",
            "2017-01-01 04:00:00             NaN\n",
            "                           ...     \n",
            "2017-12-30 20:00:00             NaN\n",
            "2017-12-30 21:00:00             NaN\n",
            "2017-12-30 22:00:00             NaN\n",
            "2017-12-30 23:00:00             NaN\n",
            "2017-12-31 00:00:00    14156.400391\n",
            "Freq: H, Name: Close, Length: 8737, dtype: float64\n"
          ]
        }
      ]
    },
    {
      "cell_type": "code",
      "metadata": {
        "colab": {
          "base_uri": "https://localhost:8080/"
        },
        "id": "-73tieZDc7zd",
        "outputId": "f4da18a2-7dc2-4d9f-c63e-c72e964ef135"
      },
      "source": [
        "by_week = aapl.resample('W').mean()\n",
        "print(by_week.head())\n",
        "\n",
        "print()\n",
        "#MY EXAMPLE#######\n",
        "\n",
        "by_week2 = btc.resample('W').mean()\n",
        "print(by_week2.head())"
      ],
      "execution_count": 12,
      "outputs": [
        {
          "output_type": "stream",
          "name": "stdout",
          "text": [
            "Date\n",
            "2017-01-08    27.495495\n",
            "2017-01-15    28.097735\n",
            "2017-01-22    28.266119\n",
            "2017-01-29    28.553980\n",
            "2017-02-05    29.662544\n",
            "Freq: W-SUN, Name: Close, dtype: float64\n",
            "\n",
            "Date\n",
            "2017-01-01    998.325012\n",
            "2017-01-08    993.669277\n",
            "2017-01-15    836.755999\n",
            "2017-01-22    895.235849\n",
            "2017-01-29    913.380432\n",
            "Freq: W-SUN, Name: Close, dtype: float64\n"
          ]
        }
      ]
    },
    {
      "cell_type": "code",
      "metadata": {
        "colab": {
          "base_uri": "https://localhost:8080/"
        },
        "id": "-zzsbuWoc-6V",
        "outputId": "76edb5a6-eedd-40dd-9f2e-d09299dbfea6"
      },
      "source": [
        "print(aapl.resample('M').max())\n",
        "\n",
        "print()\n",
        "#MY EXAMPLE#######\n",
        "\n",
        "print(btc.resample('M').max())"
      ],
      "execution_count": 13,
      "outputs": [
        {
          "output_type": "stream",
          "name": "stdout",
          "text": [
            "Date\n",
            "2017-01-31    28.739214\n",
            "2017-02-28    32.451973\n",
            "2017-03-31    34.111130\n",
            "2017-04-30    34.264977\n",
            "2017-05-31    37.099133\n",
            "2017-06-30    36.944649\n",
            "2017-07-31    36.471699\n",
            "2017-08-31    39.129723\n",
            "2017-09-30    39.141655\n",
            "2017-10-31    40.332245\n",
            "2017-11-30    42.050148\n",
            "2017-12-31    42.244408\n",
            "Freq: M, Name: Close, dtype: float64\n",
            "\n",
            "Date\n",
            "2017-01-31     1154.729980\n",
            "2017-02-28     1179.969971\n",
            "2017-03-31     1274.989990\n",
            "2017-04-30     1347.890015\n",
            "2017-05-31     2443.639893\n",
            "2017-06-30     2958.110107\n",
            "2017-07-31     2875.340088\n",
            "2017-08-31     4703.390137\n",
            "2017-09-30     4892.009766\n",
            "2017-10-31     6468.399902\n",
            "2017-11-30    10233.599609\n",
            "2017-12-31    19497.400391\n",
            "Freq: M, Name: Close, dtype: float64\n"
          ]
        }
      ]
    },
    {
      "cell_type": "code",
      "metadata": {
        "colab": {
          "base_uri": "https://localhost:8080/"
        },
        "id": "mukzAPMCdExo",
        "outputId": "b9586a6e-9bab-4114-f80c-a0c91b037431"
      },
      "source": [
        "three_day = aapl.resample('3D').mean()\n",
        "two_week = aapl.resample('2W').mean()\n",
        "two_month = aapl.resample('2M').mean()\n",
        "print(three_day)\n",
        "print(two_week)\n",
        "print(two_month )\n",
        "\n",
        "print()\n",
        "#MY EXAMPLE#######\n",
        "\n",
        "four_day = btc.resample('4D').mean()\n",
        "three_week = btc.resample('3W').mean()\n",
        "one_month = btc.resample('1M').mean()\n",
        "print(four_day)\n",
        "print(three_week)\n",
        "print(one_month )"
      ],
      "execution_count": 14,
      "outputs": [
        {
          "output_type": "stream",
          "name": "stdout",
          "text": [
            "Date\n",
            "2017-01-03    27.398284\n",
            "2017-01-06    27.787130\n",
            "2017-01-09    28.110774\n",
            "2017-01-12    28.078176\n",
            "2017-01-15    28.279669\n",
            "                ...    \n",
            "2017-12-17    42.019318\n",
            "2017-12-20    41.854097\n",
            "2017-12-23          NaN\n",
            "2017-12-26    40.886702\n",
            "2017-12-29    40.522732\n",
            "Freq: 3D, Name: Close, Length: 121, dtype: float64\n",
            "Date\n",
            "2017-01-08    27.495495\n",
            "2017-01-22    28.172572\n",
            "2017-02-05    29.108262\n",
            "2017-02-19    31.516815\n",
            "2017-03-05    32.595558\n",
            "2017-03-19    33.017884\n",
            "2017-04-02    33.625219\n",
            "2017-04-16    33.849728\n",
            "2017-04-30    33.791845\n",
            "2017-05-14    35.697631\n",
            "2017-05-28    36.496180\n",
            "2017-06-11    36.515005\n",
            "2017-06-25    34.529045\n",
            "2017-07-09    34.265133\n",
            "2017-07-23    35.278869\n",
            "2017-08-06    36.272776\n",
            "2017-08-20    37.904119\n",
            "2017-09-03    38.458791\n",
            "2017-09-17    38.282708\n",
            "2017-10-01    36.840874\n",
            "2017-10-15    37.071595\n",
            "2017-10-29    37.757321\n",
            "2017-11-12    41.032240\n",
            "2017-11-26    41.204377\n",
            "2017-12-10    40.867067\n",
            "2017-12-24    41.620868\n",
            "2018-01-07    40.795710\n",
            "Freq: 2W-SUN, Name: Close, dtype: float64\n",
            "Date\n",
            "2017-01-31    28.178332\n",
            "2017-03-31    32.524055\n",
            "2017-05-31    35.056855\n",
            "2017-07-31    35.186963\n",
            "2017-09-30    37.761186\n",
            "2017-11-30    39.402613\n",
            "2018-01-31    41.160039\n",
            "Freq: 2M, Name: Close, dtype: float64\n",
            "\n",
            "Date\n",
            "2017-01-01     1054.661240\n",
            "2017-01-05      933.841248\n",
            "2017-01-09      848.274506\n",
            "2017-01-13      823.931992\n",
            "2017-01-17      897.163742\n",
            "                  ...     \n",
            "2017-12-15    18864.825195\n",
            "2017-12-19    16008.999756\n",
            "2017-12-23    14687.849854\n",
            "2017-12-27    14513.350098\n",
            "2017-12-31    14156.400391\n",
            "Freq: 4D, Name: Close, Length: 92, dtype: float64\n",
            "Date\n",
            "2017-01-01      998.325012\n",
            "2017-01-22      908.553708\n",
            "2017-02-12      977.841861\n",
            "2017-03-05     1131.975324\n",
            "2017-03-26     1119.449617\n",
            "2017-04-16     1134.467157\n",
            "2017-05-07     1344.746187\n",
            "2017-05-28     1971.726644\n",
            "2017-06-18     2596.610968\n",
            "2017-07-09     2580.976190\n",
            "2017-07-30     2490.519996\n",
            "2017-08-20     3583.824754\n",
            "2017-09-10     4398.430466\n",
            "2017-10-01     3900.357143\n",
            "2017-10-22     5159.958101\n",
            "2017-11-12     6520.786156\n",
            "2017-12-03     8772.868513\n",
            "2017-12-24    16114.895275\n",
            "2018-01-14    14619.457171\n",
            "Freq: 3W-SUN, Name: Close, dtype: float64\n",
            "Date\n",
            "2017-01-31      914.916159\n",
            "2017-02-28     1062.533672\n",
            "2017-03-31     1129.365228\n",
            "2017-04-30     1206.641007\n",
            "2017-05-31     1895.383529\n",
            "2017-06-30     2636.204346\n",
            "2017-07-31     2519.418386\n",
            "2017-08-31     3880.989998\n",
            "2017-09-30     4064.836312\n",
            "2017-10-31     5360.071604\n",
            "2017-11-30     7813.132975\n",
            "2017-12-31    15294.270980\n",
            "Freq: M, Name: Close, dtype: float64\n"
          ]
        }
      ]
    },
    {
      "cell_type": "code",
      "metadata": {
        "colab": {
          "base_uri": "https://localhost:8080/"
        },
        "id": "RE0jItQQdM3c",
        "outputId": "eb270ad8-0e8a-4ee5-b78f-6a41338e0031"
      },
      "source": [
        "std = aapl.resample('W').std()\n",
        "max = aapl.resample('W').max()\n",
        "min = aapl.resample('W').min()\n",
        "print(std)\n",
        "print(max)\n",
        "print(min)\n",
        "\n",
        "print()\n",
        "#MY EXAMPLE#######\n",
        "\n",
        "std2 = btc.resample('W').std()\n",
        "max2 = btc.resample('W').max()\n",
        "min2 = btc.resample('W').min()\n",
        "print(std2)\n",
        "print(max2)\n",
        "print(min2)"
      ],
      "execution_count": 16,
      "outputs": [
        {
          "output_type": "stream",
          "name": "stdout",
          "text": [
            "Date\n",
            "2017-01-08    0.203368\n",
            "2017-01-15    0.072527\n",
            "2017-01-22    0.025553\n",
            "2017-01-29    0.245286\n",
            "2017-02-05    0.943260\n",
            "2017-02-12    0.252000\n",
            "2017-02-19    0.231395\n",
            "2017-02-26    0.059347\n",
            "2017-03-05    0.340089\n",
            "2017-03-12    0.076285\n",
            "2017-03-19    0.177836\n",
            "2017-03-26    0.157265\n",
            "2017-04-02    0.319808\n",
            "2017-04-09    0.128688\n",
            "2017-04-16    0.212476\n",
            "2017-04-23    0.174674\n",
            "2017-04-30    0.090031\n",
            "2017-05-07    0.235638\n",
            "2017-05-14    0.352982\n",
            "2017-05-21    0.536092\n",
            "2017-05-28    0.060395\n",
            "2017-06-04    0.281224\n",
            "2017-06-11    0.620034\n",
            "2017-06-18    0.382563\n",
            "2017-06-25    0.128891\n",
            "2017-07-02    0.264112\n",
            "2017-07-09    0.158886\n",
            "2017-07-16    0.404281\n",
            "2017-07-23    0.124989\n",
            "2017-07-30    0.384440\n",
            "2017-08-06    0.924396\n",
            "2017-08-13    0.467470\n",
            "2017-08-20    0.435246\n",
            "2017-08-27    0.275769\n",
            "2017-09-03    0.251727\n",
            "2017-09-10    0.381640\n",
            "2017-09-17    0.294140\n",
            "2017-09-24    0.735193\n",
            "2017-10-01    0.354847\n",
            "2017-10-08    0.204856\n",
            "2017-10-15    0.118735\n",
            "2017-10-22    0.516999\n",
            "2017-10-29    0.680456\n",
            "2017-11-05    0.560685\n",
            "2017-11-12    0.190974\n",
            "2017-11-19    0.436201\n",
            "2017-11-26    0.563044\n",
            "2017-12-03    0.427444\n",
            "2017-12-10    0.073129\n",
            "2017-12-17    0.205267\n",
            "2017-12-24    0.194126\n",
            "2017-12-31    0.190393\n",
            "Freq: W-SUN, Name: Close, dtype: float64\n",
            "Date\n",
            "2017-01-08    27.787130\n",
            "2017-01-15    28.220747\n",
            "2017-01-22    28.279669\n",
            "2017-01-29    28.739214\n",
            "2017-02-05    30.419497\n",
            "2017-02-12    31.341909\n",
            "2017-02-19    32.122978\n",
            "2017-02-26    32.451973\n",
            "2017-03-05    33.086285\n",
            "2017-03-12    33.022381\n",
            "2017-03-19    33.299301\n",
            "2017-03-26    33.481548\n",
            "2017-04-02    34.111130\n",
            "2017-04-09    34.264977\n",
            "2017-04-16    33.886284\n",
            "2017-04-23    33.713505\n",
            "2017-04-30    34.208183\n",
            "2017-05-07    35.256691\n",
            "2017-05-14    37.099133\n",
            "2017-05-21    37.004066\n",
            "2017-05-28    36.597668\n",
            "2017-06-04    36.944649\n",
            "2017-06-11    36.925640\n",
            "2017-06-18    34.838955\n",
            "2017-06-25    34.779541\n",
            "2017-07-02    34.658333\n",
            "2017-07-09    34.266190\n",
            "2017-07-16    35.421223\n",
            "2017-07-23    35.891800\n",
            "2017-07-30    36.471699\n",
            "2017-08-06    37.346294\n",
            "2017-08-13    38.277931\n",
            "2017-08-20    38.557091\n",
            "2017-08-27    38.170563\n",
            "2017-09-03    39.141655\n",
            "2017-09-10    38.671623\n",
            "2017-09-17    38.533237\n",
            "2017-09-24    37.872318\n",
            "2017-10-01    36.798641\n",
            "2017-10-08    37.075413\n",
            "2017-10-15    37.457169\n",
            "2017-10-22    38.287487\n",
            "2017-10-29    38.903061\n",
            "2017-11-05    41.157795\n",
            "2017-11-12    42.050148\n",
            "2017-11-19    41.657749\n",
            "2017-11-26    41.897198\n",
            "2017-12-03    41.686474\n",
            "2017-12-10    40.659222\n",
            "2017-12-17    41.657749\n",
            "2017-12-24    42.244408\n",
            "2017-12-31    40.965725\n",
            "Freq: W-SUN, Name: Close, dtype: float64\n",
            "Date\n",
            "2017-01-08    27.341722\n",
            "2017-01-15    28.041647\n",
            "2017-01-22    28.227825\n",
            "2017-01-29    28.272596\n",
            "2017-02-05    28.597813\n",
            "2017-02-12    30.704649\n",
            "2017-02-19    31.547823\n",
            "2017-02-26    32.314690\n",
            "2017-03-05    32.409367\n",
            "2017-03-12    32.823566\n",
            "2017-03-19    32.896938\n",
            "2017-03-26    33.098118\n",
            "2017-04-02    33.344273\n",
            "2017-04-09    33.926514\n",
            "2017-04-16    33.384510\n",
            "2017-04-23    33.296932\n",
            "2017-04-30    33.997524\n",
            "2017-05-07    34.681545\n",
            "2017-05-14    36.215260\n",
            "2017-05-21    35.708809\n",
            "2017-05-28    36.443176\n",
            "2017-06-04    36.305332\n",
            "2017-06-11    35.406971\n",
            "2017-06-18    33.812260\n",
            "2017-06-25    34.463451\n",
            "2017-07-02    34.147354\n",
            "2017-07-09    33.921585\n",
            "2017-07-16    34.475334\n",
            "2017-07-23    35.544811\n",
            "2017-07-30    35.530556\n",
            "2017-08-06    35.347549\n",
            "2017-08-13    37.058708\n",
            "2017-08-20    37.578857\n",
            "2017-08-27    37.509651\n",
            "2017-09-03    38.526073\n",
            "2017-09-10    37.848461\n",
            "2017-09-17    37.764957\n",
            "2017-09-24    36.240322\n",
            "2017-10-01    35.920605\n",
            "2017-10-08    36.619686\n",
            "2017-10-15    37.182774\n",
            "2017-10-22    37.216183\n",
            "2017-10-29    37.261528\n",
            "2017-11-05    39.778709\n",
            "2017-11-12    41.575329\n",
            "2017-11-19    40.486816\n",
            "2017-11-26    40.702324\n",
            "2017-12-03    40.582592\n",
            "2017-12-10    40.470055\n",
            "2017-12-17    41.114185\n",
            "2017-12-24    41.748737\n",
            "2017-12-31    40.522732\n",
            "Freq: W-SUN, Name: Close, dtype: float64\n",
            "\n",
            "Date\n",
            "2017-01-01            NaN\n",
            "2017-01-08      93.132358\n",
            "2017-01-15      49.360659\n",
            "2017-01-22      31.304739\n",
            "2017-01-29      11.472162\n",
            "2017-02-05      42.715201\n",
            "2017-02-12      32.132019\n",
            "2017-02-19      24.993839\n",
            "2017-02-26      34.578571\n",
            "2017-03-05      39.742763\n",
            "2017-03-12      51.789697\n",
            "2017-03-19     109.833322\n",
            "2017-03-26      63.699405\n",
            "2017-04-02      26.544926\n",
            "2017-04-09      25.965790\n",
            "2017-04-16      14.934545\n",
            "2017-04-23      13.327878\n",
            "2017-04-30      35.090542\n",
            "2017-05-07      65.820976\n",
            "2017-05-14      46.773227\n",
            "2017-05-21     140.876483\n",
            "2017-05-28     132.486311\n",
            "2017-06-04     138.001985\n",
            "2017-06-11     101.711145\n",
            "2017-06-18      95.202786\n",
            "2017-06-25      66.314504\n",
            "2017-07-02      49.004892\n",
            "2017-07-09      38.381018\n",
            "2017-07-16     191.616013\n",
            "2017-07-23     264.263088\n",
            "2017-07-30     102.635082\n",
            "2017-08-06     222.660755\n",
            "2017-08-13     289.358687\n",
            "2017-08-20     107.450057\n",
            "2017-08-27     154.568705\n",
            "2017-09-03     155.225927\n",
            "2017-09-10     190.700485\n",
            "2017-09-17     351.477265\n",
            "2017-09-24     167.337766\n",
            "2017-10-01     191.278897\n",
            "2017-10-08     119.284887\n",
            "2017-10-15     472.119519\n",
            "2017-10-22     198.484191\n",
            "2017-10-29     194.574441\n",
            "2017-11-05     484.350228\n",
            "2017-11-12     527.779450\n",
            "2017-11-19     601.522902\n",
            "2017-11-26     472.073800\n",
            "2017-12-03     623.935987\n",
            "2017-12-10    2298.682096\n",
            "2017-12-17    1219.407507\n",
            "2017-12-24    1998.838374\n",
            "2017-12-31    1082.023195\n",
            "Freq: W-SUN, Name: Close, dtype: float64\n",
            "Date\n",
            "2017-01-01      998.325012\n",
            "2017-01-08     1154.729980\n",
            "2017-01-15      907.679016\n",
            "2017-01-22      924.672974\n",
            "2017-01-29      921.590027\n",
            "2017-02-05     1042.900024\n",
            "2017-02-12     1063.069946\n",
            "2017-02-19     1054.420044\n",
            "2017-02-26     1173.680054\n",
            "2017-03-05     1274.989990\n",
            "2017-03-12     1272.829956\n",
            "2017-03-19     1249.609985\n",
            "2017-03-26     1120.540039\n",
            "2017-04-02     1102.170044\n",
            "2017-04-09     1187.869995\n",
            "2017-04-16     1205.010010\n",
            "2017-04-23     1231.709961\n",
            "2017-04-30     1347.890015\n",
            "2017-05-07     1596.709961\n",
            "2017-05-14     1848.569946\n",
            "2017-05-21     2084.729980\n",
            "2017-05-28     2443.639893\n",
            "2017-06-04     2515.350098\n",
            "2017-06-11     2958.110107\n",
            "2017-06-18     2717.020020\n",
            "2017-06-25     2744.909912\n",
            "2017-07-02     2574.790039\n",
            "2017-07-09     2608.560059\n",
            "2017-07-16     2398.840088\n",
            "2017-07-23     2817.600098\n",
            "2017-07-30     2809.010010\n",
            "2017-08-06     3252.909912\n",
            "2017-08-13     4073.260010\n",
            "2017-08-20     4376.629883\n",
            "2017-08-27     4382.879883\n",
            "2017-09-03     4892.009766\n",
            "2017-09-10     4599.879883\n",
            "2017-09-17     4161.270020\n",
            "2017-09-24     4065.199951\n",
            "2017-10-01     4403.740234\n",
            "2017-10-08     4610.479980\n",
            "2017-10-15     5831.790039\n",
            "2017-10-22     6031.600098\n",
            "2017-10-29     6153.850098\n",
            "2017-11-05     7407.410156\n",
            "2017-11-12     7459.689941\n",
            "2017-11-19     8036.490234\n",
            "2017-11-26     9330.549805\n",
            "2017-12-03    11323.200195\n",
            "2017-12-10    17899.699219\n",
            "2017-12-17    19497.400391\n",
            "2017-12-24    19114.199219\n",
            "2017-12-31    16099.799805\n",
            "Freq: W-SUN, Name: Close, dtype: float64\n",
            "Date\n",
            "2017-01-01      998.325012\n",
            "2017-01-08      902.200989\n",
            "2017-01-15      777.757019\n",
            "2017-01-22      831.533997\n",
            "2017-01-29      892.687012\n",
            "2017-02-05      920.382019\n",
            "2017-02-12      988.674011\n",
            "2017-02-19      990.642029\n",
            "2017-02-26     1079.979980\n",
            "2017-03-05     1179.969971\n",
            "2017-03-12     1116.719971\n",
            "2017-03-19      973.817993\n",
            "2017-03-26      937.520020\n",
            "2017-04-02     1026.430054\n",
            "2017-04-09     1124.780029\n",
            "2017-04-16     1167.540039\n",
            "2017-04-23     1193.910034\n",
            "2017-04-30     1250.150024\n",
            "2017-05-07     1421.599976\n",
            "2017-05-14     1723.349976\n",
            "2017-05-21     1734.449951\n",
            "2017-05-28     2038.869995\n",
            "2017-06-04     2175.469971\n",
            "2017-06-11     2686.810059\n",
            "2017-06-18     2464.580078\n",
            "2017-06-25     2589.409912\n",
            "2017-07-02     2434.550049\n",
            "2017-07-09     2518.439941\n",
            "2017-07-16     1929.819946\n",
            "2017-07-23     2228.409912\n",
            "2017-07-30     2529.449951\n",
            "2017-08-06     2710.669922\n",
            "2017-08-13     3342.469971\n",
            "2017-08-20     4087.659912\n",
            "2017-08-27     4001.739990\n",
            "2017-09-03     4382.660156\n",
            "2017-09-10     4122.939941\n",
            "2017-09-17     3154.949951\n",
            "2017-09-24     3630.699951\n",
            "2017-10-01     3892.350098\n",
            "2017-10-08     4229.359863\n",
            "2017-10-15     4772.020020\n",
            "2017-10-22     5590.689941\n",
            "2017-10-29     5526.640137\n",
            "2017-11-05     6130.529785\n",
            "2017-11-12     5950.069824\n",
            "2017-11-19     6559.490234\n",
            "2017-11-26     8038.770020\n",
            "2017-12-03     9818.349609\n",
            "2017-12-10    11657.200195\n",
            "2017-12-17    16408.199219\n",
            "2017-12-24    13831.799805\n",
            "2017-12-31    12952.200195\n",
            "Freq: W-SUN, Name: Close, dtype: float64\n"
          ]
        }
      ]
    },
    {
      "cell_type": "code",
      "metadata": {
        "colab": {
          "base_uri": "https://localhost:8080/"
        },
        "id": "yEafsTTidSvX",
        "outputId": "fff21157-df97-4eab-cbde-c0d9ffe8410d"
      },
      "source": [
        "last_day = aapl.resample('M').agg(lambda x: x[-1])\n",
        "print(last_day)\n",
        "\n",
        "print()\n",
        "#MY EXAMPLE#######\n",
        "\n",
        "last_dayb = btc.resample('M').agg(lambda x: x[-1])\n",
        "print(last_dayb)\n"
      ],
      "execution_count": 17,
      "outputs": [
        {
          "output_type": "stream",
          "name": "stdout",
          "text": [
            "Date\n",
            "2017-01-31    28.597813\n",
            "2017-02-28    32.423569\n",
            "2017-03-31    34.002262\n",
            "2017-04-30    33.999882\n",
            "2017-05-31    36.305332\n",
            "2017-06-30    34.228161\n",
            "2017-07-31    35.347549\n",
            "2017-08-31    39.129723\n",
            "2017-09-30    36.772400\n",
            "2017-10-31    40.332245\n",
            "2017-11-30    41.150105\n",
            "2017-12-31    40.522732\n",
            "Freq: M, Name: Close, dtype: float64\n",
            "\n",
            "Date\n",
            "2017-01-31      970.403015\n",
            "2017-02-28     1179.969971\n",
            "2017-03-31     1071.790039\n",
            "2017-04-30     1347.890015\n",
            "2017-05-31     2286.409912\n",
            "2017-06-30     2480.840088\n",
            "2017-07-31     2875.340088\n",
            "2017-08-31     4703.390137\n",
            "2017-09-30     4338.709961\n",
            "2017-10-31     6468.399902\n",
            "2017-11-30    10233.599609\n",
            "2017-12-31    14156.400391\n",
            "Freq: M, Name: Close, dtype: float64\n"
          ]
        }
      ]
    },
    {
      "cell_type": "code",
      "metadata": {
        "colab": {
          "base_uri": "https://localhost:8080/"
        },
        "id": "_G-i28tkdWTQ",
        "outputId": "c3ea0851-6ae2-4a01-97fa-35d6f0ca5a24"
      },
      "source": [
        "monthly_return = aapl.resample('M').agg(lambda x: x[-1]/x[0] - 1)\n",
        "print(monthly_return)\n",
        "\n",
        "print()\n",
        "#MY EXAMPLE#######\n",
        "\n",
        "monthly_returnb = btc.resample('M').agg(lambda x: x[-1]/x[0] - 1)\n",
        "print(monthly_returnb)\n"
      ],
      "execution_count": 18,
      "outputs": [
        {
          "output_type": "stream",
          "name": "stdout",
          "text": [
            "Date\n",
            "2017-01-31    0.044770\n",
            "2017-02-28    0.068613\n",
            "2017-03-31    0.027685\n",
            "2017-04-30   -0.000348\n",
            "2017-05-31    0.046463\n",
            "2017-06-30   -0.059799\n",
            "2017-07-31    0.036446\n",
            "2017-08-31    0.097261\n",
            "2017-09-30   -0.060530\n",
            "2017-10-31    0.099018\n",
            "2017-11-30    0.033422\n",
            "2017-12-31   -0.010640\n",
            "Freq: M, Name: Close, dtype: float64\n",
            "\n",
            "Date\n",
            "2017-01-31   -0.027969\n",
            "2017-02-28    0.193066\n",
            "2017-03-31   -0.123280\n",
            "2017-04-30    0.247469\n",
            "2017-05-31    0.608336\n",
            "2017-06-30    0.030301\n",
            "2017-07-31    0.181056\n",
            "2017-08-31    0.730294\n",
            "2017-09-30   -0.113103\n",
            "2017-10-31    0.468842\n",
            "2017-11-30    0.512211\n",
            "2017-12-31    0.289807\n",
            "Freq: M, Name: Close, dtype: float64\n"
          ]
        }
      ]
    },
    {
      "cell_type": "code",
      "metadata": {
        "colab": {
          "base_uri": "https://localhost:8080/"
        },
        "id": "8ffTbVnsdZ-s",
        "outputId": "612544ff-e8f3-4da0-f8d7-358726541b16"
      },
      "source": [
        "print(monthly_return.mean())\n",
        "print(monthly_return.std())\n",
        "print(monthly_return.max())\n",
        "\n",
        "print()\n",
        "#MY EXAMPLE#######\n",
        "\n",
        "print(monthly_returnb.mean())\n",
        "print(monthly_returnb.std())\n",
        "print(monthly_returnb.max())"
      ],
      "execution_count": 19,
      "outputs": [
        {
          "output_type": "stream",
          "name": "stdout",
          "text": [
            "0.02686329302976818\n",
            "0.052258579476360076\n",
            "0.09901829189254818\n",
            "\n",
            "0.2497524756046424\n",
            "0.283169523310554\n",
            "0.7302944235729267\n"
          ]
        }
      ]
    },
    {
      "cell_type": "code",
      "metadata": {
        "colab": {
          "base_uri": "https://localhost:8080/"
        },
        "id": "K9acsB9Tduek",
        "outputId": "231c5378-fdc3-42c0-a396-4c58b0690334"
      },
      "source": [
        "print(last_day.diff())\n",
        "print(last_day.pct_change())\n",
        "\n",
        "print()\n",
        "#MY EXAMPLE#######\n",
        "\n",
        "print(last_dayb.diff())\n",
        "print(last_dayb.pct_change())"
      ],
      "execution_count": 20,
      "outputs": [
        {
          "output_type": "stream",
          "name": "stdout",
          "text": [
            "Date\n",
            "2017-01-31         NaN\n",
            "2017-02-28    3.825756\n",
            "2017-03-31    1.578693\n",
            "2017-04-30   -0.002380\n",
            "2017-05-31    2.305450\n",
            "2017-06-30   -2.077171\n",
            "2017-07-31    1.119389\n",
            "2017-08-31    3.782173\n",
            "2017-09-30   -2.357323\n",
            "2017-10-31    3.559845\n",
            "2017-11-30    0.817860\n",
            "2017-12-31   -0.627373\n",
            "Freq: M, Name: Close, dtype: float64\n",
            "Date\n",
            "2017-01-31         NaN\n",
            "2017-02-28    0.133778\n",
            "2017-03-31    0.048690\n",
            "2017-04-30   -0.000070\n",
            "2017-05-31    0.067808\n",
            "2017-06-30   -0.057214\n",
            "2017-07-31    0.032704\n",
            "2017-08-31    0.107000\n",
            "2017-09-30   -0.060244\n",
            "2017-10-31    0.096808\n",
            "2017-11-30    0.020278\n",
            "2017-12-31   -0.015246\n",
            "Freq: M, Name: Close, dtype: float64\n",
            "\n",
            "Date\n",
            "2017-01-31            NaN\n",
            "2017-02-28     209.566956\n",
            "2017-03-31    -108.179932\n",
            "2017-04-30     276.099976\n",
            "2017-05-31     938.519897\n",
            "2017-06-30     194.430176\n",
            "2017-07-31     394.500000\n",
            "2017-08-31    1828.050049\n",
            "2017-09-30    -364.680176\n",
            "2017-10-31    2129.689941\n",
            "2017-11-30    3765.199707\n",
            "2017-12-31    3922.800781\n",
            "Freq: M, Name: Close, dtype: float64\n",
            "Date\n",
            "2017-01-31         NaN\n",
            "2017-02-28    0.215959\n",
            "2017-03-31   -0.091680\n",
            "2017-04-30    0.257606\n",
            "2017-05-31    0.696288\n",
            "2017-06-30    0.085037\n",
            "2017-07-31    0.159019\n",
            "2017-08-31    0.635768\n",
            "2017-09-30   -0.077536\n",
            "2017-10-31    0.490858\n",
            "2017-11-30    0.582091\n",
            "2017-12-31    0.383326\n",
            "Freq: M, Name: Close, dtype: float64\n"
          ]
        }
      ]
    },
    {
      "cell_type": "code",
      "metadata": {
        "colab": {
          "base_uri": "https://localhost:8080/"
        },
        "id": "y92Cg0YBdyWs",
        "outputId": "e2cc138c-d279-4746-f902-6f1063f1e298"
      },
      "source": [
        "daily_return = last_day.pct_change()\n",
        "print(daily_return.fillna(0))\n",
        "\n",
        "print()\n",
        "#MY EXAMPLE#######\n",
        "\n",
        "daily_returnb = last_dayb.pct_change()\n",
        "print(daily_returnb.fillna(0))"
      ],
      "execution_count": 21,
      "outputs": [
        {
          "output_type": "stream",
          "name": "stdout",
          "text": [
            "Date\n",
            "2017-01-31    0.000000\n",
            "2017-02-28    0.133778\n",
            "2017-03-31    0.048690\n",
            "2017-04-30   -0.000070\n",
            "2017-05-31    0.067808\n",
            "2017-06-30   -0.057214\n",
            "2017-07-31    0.032704\n",
            "2017-08-31    0.107000\n",
            "2017-09-30   -0.060244\n",
            "2017-10-31    0.096808\n",
            "2017-11-30    0.020278\n",
            "2017-12-31   -0.015246\n",
            "Freq: M, Name: Close, dtype: float64\n",
            "\n",
            "Date\n",
            "2017-01-31    0.000000\n",
            "2017-02-28    0.215959\n",
            "2017-03-31   -0.091680\n",
            "2017-04-30    0.257606\n",
            "2017-05-31    0.696288\n",
            "2017-06-30    0.085037\n",
            "2017-07-31    0.159019\n",
            "2017-08-31    0.635768\n",
            "2017-09-30   -0.077536\n",
            "2017-10-31    0.490858\n",
            "2017-11-30    0.582091\n",
            "2017-12-31    0.383326\n",
            "Freq: M, Name: Close, dtype: float64\n"
          ]
        }
      ]
    },
    {
      "cell_type": "code",
      "metadata": {
        "colab": {
          "base_uri": "https://localhost:8080/"
        },
        "id": "3519HJeJd71S",
        "outputId": "ef05a3fc-7e1d-4732-ff90-b700bb7acc7f"
      },
      "source": [
        "daily_return = last_day.pct_change()\n",
        "print(daily_return.fillna(method = 'bfill'))\n",
        "\n",
        "print()\n",
        "#MY EXAMPLE#######\n",
        "\n",
        "daily_returnb = last_dayb.pct_change()\n",
        "print(daily_returnb.fillna(method = 'bfill'))"
      ],
      "execution_count": 22,
      "outputs": [
        {
          "output_type": "stream",
          "name": "stdout",
          "text": [
            "Date\n",
            "2017-01-31    0.133778\n",
            "2017-02-28    0.133778\n",
            "2017-03-31    0.048690\n",
            "2017-04-30   -0.000070\n",
            "2017-05-31    0.067808\n",
            "2017-06-30   -0.057214\n",
            "2017-07-31    0.032704\n",
            "2017-08-31    0.107000\n",
            "2017-09-30   -0.060244\n",
            "2017-10-31    0.096808\n",
            "2017-11-30    0.020278\n",
            "2017-12-31   -0.015246\n",
            "Freq: M, Name: Close, dtype: float64\n",
            "\n",
            "Date\n",
            "2017-01-31    0.215959\n",
            "2017-02-28    0.215959\n",
            "2017-03-31   -0.091680\n",
            "2017-04-30    0.257606\n",
            "2017-05-31    0.696288\n",
            "2017-06-30    0.085037\n",
            "2017-07-31    0.159019\n",
            "2017-08-31    0.635768\n",
            "2017-09-30   -0.077536\n",
            "2017-10-31    0.490858\n",
            "2017-11-30    0.582091\n",
            "2017-12-31    0.383326\n",
            "Freq: M, Name: Close, dtype: float64\n"
          ]
        }
      ]
    },
    {
      "cell_type": "code",
      "metadata": {
        "colab": {
          "base_uri": "https://localhost:8080/"
        },
        "id": "Mr8XzSg8eAn2",
        "outputId": "76d97c89-d4f9-49bd-b27b-b12e38c4c654"
      },
      "source": [
        "daily_return = last_day.pct_change()\n",
        "print(daily_return.dropna())\n",
        "print()\n",
        "#MY EXAMPLE#######\n",
        "\n",
        "daily_returnb = last_dayb.pct_change()\n",
        "print(daily_returnb.dropna())"
      ],
      "execution_count": 23,
      "outputs": [
        {
          "output_type": "stream",
          "name": "stdout",
          "text": [
            "Date\n",
            "2017-02-28    0.133778\n",
            "2017-03-31    0.048690\n",
            "2017-04-30   -0.000070\n",
            "2017-05-31    0.067808\n",
            "2017-06-30   -0.057214\n",
            "2017-07-31    0.032704\n",
            "2017-08-31    0.107000\n",
            "2017-09-30   -0.060244\n",
            "2017-10-31    0.096808\n",
            "2017-11-30    0.020278\n",
            "2017-12-31   -0.015246\n",
            "Freq: M, Name: Close, dtype: float64\n",
            "\n",
            "Date\n",
            "2017-02-28    0.215959\n",
            "2017-03-31   -0.091680\n",
            "2017-04-30    0.257606\n",
            "2017-05-31    0.696288\n",
            "2017-06-30    0.085037\n",
            "2017-07-31    0.159019\n",
            "2017-08-31    0.635768\n",
            "2017-09-30   -0.077536\n",
            "2017-10-31    0.490858\n",
            "2017-11-30    0.582091\n",
            "2017-12-31    0.383326\n",
            "Freq: M, Name: Close, dtype: float64\n"
          ]
        }
      ]
    },
    {
      "cell_type": "markdown",
      "metadata": {
        "id": "iClfiXqtea_m"
      },
      "source": [
        "\n",
        "**DataFrame**\n",
        "\n",
        "The DataFrame is the most commonly used data structure in Pandas. It is essentially a table, just like an Excel spreadsheet.\n",
        "\n",
        "More precisely, a DataFrame is a collection of Series objects, each of which may contain different data types. A DataFrame can be created from various data types: dictionary, 2-D numpy.ndarray, a Series or another DataFrame.\n",
        "Create DataFrames\n",
        "\n",
        "The most common method of creating a DataFrame is passing a dictionary:\n"
      ]
    },
    {
      "cell_type": "code",
      "metadata": {
        "colab": {
          "base_uri": "https://localhost:8080/"
        },
        "id": "EAfmUuJ_ek7M",
        "outputId": "4dc4e630-cab6-458f-9368-f3351e49ae17"
      },
      "source": [
        "import pandas as pd\n",
        "\n",
        "dict = {'AAPL': [143.5, 144.09, 142.73, 144.18, 143.77],'GOOG':[898.7, 911.71, 906.69, 918.59, 926.99],\n",
        "        'IBM':[155.58, 153.67, 152.36, 152.94, 153.49]}\n",
        "data_index = pd.date_range('2017-07-03',periods = 5, freq = 'D')\n",
        "df = pd.DataFrame(dict, index = data_index)\n",
        "print(df)\n",
        "\n",
        "print()\n",
        "#MY EXAMPLE#######\n",
        "\n",
        "dict2 = {'BTC': [13.5, 44.9, 36.7, 234.1, 321.98],'ETH':[54.2, 21.6, 59.08, 43.98, 51.23],\n",
        "        'BTCH':[155.58, 153.67, 152.36, 152.94, 153.49]}\n",
        "data_index2 = pd.date_range('2017-07-03',periods = 5, freq = 'D')\n",
        "df2 = pd.DataFrame(dict2, index = data_index2)\n",
        "print(df2)"
      ],
      "execution_count": 24,
      "outputs": [
        {
          "output_type": "stream",
          "name": "stdout",
          "text": [
            "              AAPL    GOOG     IBM\n",
            "2017-07-03  143.50  898.70  155.58\n",
            "2017-07-04  144.09  911.71  153.67\n",
            "2017-07-05  142.73  906.69  152.36\n",
            "2017-07-06  144.18  918.59  152.94\n",
            "2017-07-07  143.77  926.99  153.49\n",
            "\n",
            "               BTC    ETH    BTCH\n",
            "2017-07-03   13.50  54.20  155.58\n",
            "2017-07-04   44.90  21.60  153.67\n",
            "2017-07-05   36.70  59.08  152.36\n",
            "2017-07-06  234.10  43.98  152.94\n",
            "2017-07-07  321.98  51.23  153.49\n"
          ]
        }
      ]
    },
    {
      "cell_type": "markdown",
      "metadata": {
        "id": "JmiNi51metD3"
      },
      "source": [
        "\n",
        "**Manipulating DataFrames** \n",
        "\n",
        "We can fetch values in a DataFrame by columns and index. Each column in a DataFrame is essentially a Pandas Series. We can fetch a column by square brackets: df['column_name']\n",
        "\n",
        "If a column name contains no spaces, then we can also use df.column_name to fetch a column:\n"
      ]
    },
    {
      "cell_type": "code",
      "metadata": {
        "colab": {
          "base_uri": "https://localhost:8080/"
        },
        "id": "PeCC1g_vext5",
        "outputId": "55b353e7-5268-45f8-b6fc-676245e068b8"
      },
      "source": [
        "df = aapl_table\n",
        "print(df.Close.tail(5))\n",
        "print(df['Volume'].tail(5))\n",
        "\n",
        "print()\n",
        "#MY EXAMPLE#######\n",
        "\n",
        "df2 = btc_table\n",
        "print(df2.Close.tail(5))\n",
        "print(df2['Volume'].tail(5))"
      ],
      "execution_count": 25,
      "outputs": [
        {
          "output_type": "stream",
          "name": "stdout",
          "text": [
            "Date\n",
            "2017-12-22    41.906776\n",
            "2017-12-26    40.843601\n",
            "2017-12-27    40.850780\n",
            "2017-12-28    40.965725\n",
            "2017-12-29    40.522732\n",
            "Name: Close, dtype: float64\n",
            "Date\n",
            "2017-12-22     65397600\n",
            "2017-12-26    132742000\n",
            "2017-12-27     85992800\n",
            "2017-12-28     65920800\n",
            "2017-12-29    103999600\n",
            "Name: Volume, dtype: int64\n",
            "\n",
            "Date\n",
            "2017-12-27    15838.500000\n",
            "2017-12-28    14606.500000\n",
            "2017-12-29    14656.200195\n",
            "2017-12-30    12952.200195\n",
            "2017-12-31    14156.400391\n",
            "Name: Close, dtype: float64\n",
            "Date\n",
            "2017-12-27    12487600128\n",
            "2017-12-28    12336499712\n",
            "2017-12-29    13025500160\n",
            "2017-12-30    14452599808\n",
            "2017-12-31    12136299520\n",
            "Name: Volume, dtype: int64\n"
          ]
        }
      ]
    },
    {
      "cell_type": "code",
      "metadata": {
        "colab": {
          "base_uri": "https://localhost:8080/"
        },
        "id": "5YcXqC_pe6zN",
        "outputId": "2231e454-a5e1-43f5-ac73-3903a6af3469"
      },
      "source": [
        "aapl_2016 = df['2016']\n",
        "aapl_month = aapl_2016.resample('M').agg(lambda x: x[-1])\n",
        "print(aapl_month)\n",
        "\n",
        "print()\n",
        "#MY EXAMPLE#######\n",
        "\n",
        "btc_2016 = df2['2016']\n",
        "btc_month = btc_2016.resample('M').agg(lambda x: x[-1])\n",
        "print(btc_month)"
      ],
      "execution_count": 26,
      "outputs": [
        {
          "output_type": "stream",
          "name": "stdout",
          "text": [
            "                 Open       High        Low  ...     Volume  Dividends  Stock Splits\n",
            "Date                                         ...                                    \n",
            "2016-01-31  21.852392  22.440254  21.750956  ...  257666000        0.0             0\n",
            "2016-02-29  22.450757  22.768304  22.402082  ...  140865200        0.0             0\n",
            "2016-03-31  25.431520  25.473242  25.236819  ...  103553600        0.0             0\n",
            "2016-04-30  21.785533  21.954737  21.442491  ...  274126000        0.0             0\n",
            "2016-05-31  23.226405  23.412963  23.044512  ...  169228800        0.0             0\n",
            "2016-06-30  22.023114  22.333264  21.990466  ...  143345600        0.0             0\n",
            "2016-07-31  24.296784  24.380735  24.177853  ...  110934800        0.0             0\n",
            "2016-08-31  24.773058  24.986415  24.768367  ...  118649600        0.0             0\n",
            "2016-09-30  26.367384  26.580743  26.212641  ...  145516400        0.0             0\n",
            "2016-10-31  26.646392  26.782380  26.540884  ...  105677600        0.0             0\n",
            "2016-11-30  26.300090  26.441488  25.986656  ...  144649200        0.0             0\n",
            "2016-12-31  27.490193  27.619807  27.202683  ...  122345200        0.0             0\n",
            "\n",
            "[12 rows x 7 columns]\n",
            "\n",
            "                  Open        High  ...  Dividends  Stock Splits\n",
            "Date                                ...                         \n",
            "2016-01-31  378.292999  380.346985  ...          0             0\n",
            "2016-02-29  433.437988  441.506989  ...          0             0\n",
            "2016-03-31  415.256989  418.368988  ...          0             0\n",
            "2016-04-30  455.178009  455.587006  ...          0             0\n",
            "2016-05-31  534.190979  546.617981  ...          0             0\n",
            "2016-06-30  640.591003  675.403015  ...          0             0\n",
            "2016-07-31  655.099976  655.284973  ...          0             0\n",
            "2016-08-31  577.591003  577.861023  ...          0             0\n",
            "2016-09-30  605.715027  609.734985  ...          0             0\n",
            "2016-10-31  702.640015  709.289001  ...          0             0\n",
            "2016-11-30  736.283997  747.929016  ...          0             0\n",
            "2016-12-31  960.627014  963.742981  ...          0             0\n",
            "\n",
            "[12 rows x 7 columns]\n"
          ]
        }
      ]
    },
    {
      "cell_type": "code",
      "metadata": {
        "colab": {
          "base_uri": "https://localhost:8080/"
        },
        "id": "LhEoglXne96Z",
        "outputId": "6e7d2dd1-dd83-4344-e6c5-2e1c7e7deca0"
      },
      "source": [
        "aapl_bar = aapl_month[['Open', 'High', 'Low', 'Close']]\n",
        "print(aapl_bar)\n",
        "\n",
        "print()\n",
        "#MY EXAMPLE#######\n",
        "\n",
        "btc_bar = btc_month[['Open', 'High', 'Low', 'Close']]\n",
        "print(btc_bar)"
      ],
      "execution_count": 27,
      "outputs": [
        {
          "output_type": "stream",
          "name": "stdout",
          "text": [
            "                 Open       High        Low      Close\n",
            "Date                                                  \n",
            "2016-01-31  21.852392  22.440254  21.750956  22.440254\n",
            "2016-02-29  22.450757  22.768304  22.402082  22.411354\n",
            "2016-03-31  25.431520  25.473242  25.236819  25.262316\n",
            "2016-04-30  21.785533  21.954737  21.442491  21.727587\n",
            "2016-05-31  23.226405  23.412963  23.044512  23.287037\n",
            "2016-06-30  22.023114  22.333264  21.990466  22.293621\n",
            "2016-07-31  24.296784  24.380735  24.177853  24.301447\n",
            "2016-08-31  24.773058  24.986415  24.768367  24.876219\n",
            "2016-09-30  26.367384  26.580743  26.212641  26.505716\n",
            "2016-10-31  26.646392  26.782380  26.540884  26.620602\n",
            "2016-11-30  26.300090  26.441488  25.986656  26.045572\n",
            "2016-12-31  27.490193  27.619807  27.202683  27.294592\n",
            "\n",
            "                  Open        High         Low       Close\n",
            "Date                                                      \n",
            "2016-01-31  378.292999  380.346985  367.834991  368.766998\n",
            "2016-02-29  433.437988  441.506989  431.692993  437.696991\n",
            "2016-03-31  415.256989  418.368988  415.256989  416.729004\n",
            "2016-04-30  455.178009  455.587006  447.696991  448.317993\n",
            "2016-05-31  534.190979  546.617981  520.661987  531.385986\n",
            "2016-06-30  640.591003  675.403015  636.607971  673.336975\n",
            "2016-07-31  655.099976  655.284973  624.364990  624.681030\n",
            "2016-08-31  577.591003  577.861023  573.642029  575.471985\n",
            "2016-09-30  605.715027  609.734985  604.142029  609.734985\n",
            "2016-10-31  702.640015  709.289001  691.682007  700.971985\n",
            "2016-11-30  736.283997  747.929016  736.265015  745.690979\n",
            "2016-12-31  960.627014  963.742981  947.236023  963.742981\n"
          ]
        }
      ]
    },
    {
      "cell_type": "code",
      "metadata": {
        "colab": {
          "base_uri": "https://localhost:8080/"
        },
        "id": "GDYx-_ntfA5N",
        "outputId": "3c99e807-e2be-4a3f-bf00-7e3059921e07"
      },
      "source": [
        "print(aapl_month.loc['2016-03':'2016-06',['Open', 'High', 'Low', 'Close']])\n",
        "\n",
        "print()\n",
        "#MY EXAMPLE#######\n",
        "\n",
        "print(btc_month.loc['2016-05':'2016-07',['Open', 'High', 'Low', 'Close']])"
      ],
      "execution_count": 28,
      "outputs": [
        {
          "output_type": "stream",
          "name": "stdout",
          "text": [
            "                 Open       High        Low      Close\n",
            "Date                                                  \n",
            "2016-03-31  25.431520  25.473242  25.236819  25.262316\n",
            "2016-04-30  21.785533  21.954737  21.442491  21.727587\n",
            "2016-05-31  23.226405  23.412963  23.044512  23.287037\n",
            "2016-06-30  22.023114  22.333264  21.990466  22.293621\n",
            "                  Open        High         Low       Close\n",
            "Date                                                      \n",
            "2016-05-31  534.190979  546.617981  520.661987  531.385986\n",
            "2016-06-30  640.591003  675.403015  636.607971  673.336975\n",
            "2016-07-31  655.099976  655.284973  624.364990  624.681030\n"
          ]
        }
      ]
    },
    {
      "cell_type": "code",
      "metadata": {
        "colab": {
          "base_uri": "https://localhost:8080/"
        },
        "id": "Y3jdZlYkfEyA",
        "outputId": "1e834bf8-2222-44ea-c2c2-d3ec745b1cf5"
      },
      "source": [
        "import numpy as np\n",
        "\n",
        "above = aapl_bar[aapl_bar.Close > np.mean(aapl_bar.Close)]\n",
        "print(above)\n",
        "\n",
        "print()\n",
        "#MY EXAMPLE#######\n",
        "\n",
        "above2 = btc_bar[btc_bar.Close > np.mean(btc_bar.Close)]\n",
        "print(above2)"
      ],
      "execution_count": 29,
      "outputs": [
        {
          "output_type": "stream",
          "name": "stdout",
          "text": [
            "                 Open       High        Low      Close\n",
            "Date                                                  \n",
            "2016-03-31  25.431520  25.473242  25.236819  25.262316\n",
            "2016-08-31  24.773058  24.986415  24.768367  24.876219\n",
            "2016-09-30  26.367384  26.580743  26.212641  26.505716\n",
            "2016-10-31  26.646392  26.782380  26.540884  26.620602\n",
            "2016-11-30  26.300090  26.441488  25.986656  26.045572\n",
            "2016-12-31  27.490193  27.619807  27.202683  27.294592\n",
            "\n",
            "                  Open        High         Low       Close\n",
            "Date                                                      \n",
            "2016-06-30  640.591003  675.403015  636.607971  673.336975\n",
            "2016-07-31  655.099976  655.284973  624.364990  624.681030\n",
            "2016-09-30  605.715027  609.734985  604.142029  609.734985\n",
            "2016-10-31  702.640015  709.289001  691.682007  700.971985\n",
            "2016-11-30  736.283997  747.929016  736.265015  745.690979\n",
            "2016-12-31  960.627014  963.742981  947.236023  963.742981\n"
          ]
        }
      ]
    },
    {
      "cell_type": "markdown",
      "metadata": {
        "id": "uqav0g2efU7x"
      },
      "source": [
        "**Data Validation**"
      ]
    },
    {
      "cell_type": "code",
      "metadata": {
        "colab": {
          "base_uri": "https://localhost:8080/"
        },
        "id": "3lomsr8mfXLI",
        "outputId": "5f1c90b7-db5e-49c1-8403-090e96842a7b"
      },
      "source": [
        "aapl_bar['rate_return'] = aapl_bar.Close.pct_change()\n",
        "print(aapl_bar)\n",
        "\n",
        "print()\n",
        "#MY EXAMPLE#######\n",
        "\n",
        "btc_bar['rate_return'] = btc_bar.Close.pct_change()\n",
        "print(btc_bar)"
      ],
      "execution_count": 30,
      "outputs": [
        {
          "output_type": "stream",
          "name": "stdout",
          "text": [
            "                 Open       High        Low      Close  rate_return\n",
            "Date                                                               \n",
            "2016-01-31  21.852392  22.440254  21.750956  22.440254          NaN\n",
            "2016-02-29  22.450757  22.768304  22.402082  22.411354    -0.001288\n",
            "2016-03-31  25.431520  25.473242  25.236819  25.262316     0.127211\n",
            "2016-04-30  21.785533  21.954737  21.442491  21.727587    -0.139921\n",
            "2016-05-31  23.226405  23.412963  23.044512  23.287037     0.071773\n",
            "2016-06-30  22.023114  22.333264  21.990466  22.293621    -0.042660\n",
            "2016-07-31  24.296784  24.380735  24.177853  24.301447     0.090063\n",
            "2016-08-31  24.773058  24.986415  24.768367  24.876219     0.023652\n",
            "2016-09-30  26.367384  26.580743  26.212641  26.505716     0.065504\n",
            "2016-10-31  26.646392  26.782380  26.540884  26.620602     0.004334\n",
            "2016-11-30  26.300090  26.441488  25.986656  26.045572    -0.021601\n",
            "2016-12-31  27.490193  27.619807  27.202683  27.294592     0.047955\n",
            "\n",
            "                  Open        High         Low       Close  rate_return\n",
            "Date                                                                   \n",
            "2016-01-31  378.292999  380.346985  367.834991  368.766998          NaN\n",
            "2016-02-29  433.437988  441.506989  431.692993  437.696991     0.186920\n",
            "2016-03-31  415.256989  418.368988  415.256989  416.729004    -0.047905\n",
            "2016-04-30  455.178009  455.587006  447.696991  448.317993     0.075802\n",
            "2016-05-31  534.190979  546.617981  520.661987  531.385986     0.185288\n",
            "2016-06-30  640.591003  675.403015  636.607971  673.336975     0.267133\n",
            "2016-07-31  655.099976  655.284973  624.364990  624.681030    -0.072261\n",
            "2016-08-31  577.591003  577.861023  573.642029  575.471985    -0.078775\n",
            "2016-09-30  605.715027  609.734985  604.142029  609.734985     0.059539\n",
            "2016-10-31  702.640015  709.289001  691.682007  700.971985     0.149634\n",
            "2016-11-30  736.283997  747.929016  736.265015  745.690979     0.063796\n",
            "2016-12-31  960.627014  963.742981  947.236023  963.742981     0.292416\n"
          ]
        },
        {
          "output_type": "stream",
          "name": "stderr",
          "text": [
            "/usr/local/lib/python3.7/dist-packages/ipykernel_launcher.py:1: SettingWithCopyWarning: \n",
            "A value is trying to be set on a copy of a slice from a DataFrame.\n",
            "Try using .loc[row_indexer,col_indexer] = value instead\n",
            "\n",
            "See the caveats in the documentation: https://pandas.pydata.org/pandas-docs/stable/user_guide/indexing.html#returning-a-view-versus-a-copy\n",
            "  \"\"\"Entry point for launching an IPython kernel.\n",
            "/usr/local/lib/python3.7/dist-packages/ipykernel_launcher.py:7: SettingWithCopyWarning: \n",
            "A value is trying to be set on a copy of a slice from a DataFrame.\n",
            "Try using .loc[row_indexer,col_indexer] = value instead\n",
            "\n",
            "See the caveats in the documentation: https://pandas.pydata.org/pandas-docs/stable/user_guide/indexing.html#returning-a-view-versus-a-copy\n",
            "  import sys\n"
          ]
        }
      ]
    },
    {
      "cell_type": "code",
      "metadata": {
        "colab": {
          "base_uri": "https://localhost:8080/"
        },
        "id": "p7aa8k3Bfdil",
        "outputId": "e9f1c97a-4bad-4715-bfd2-dfad7c6077cc"
      },
      "source": [
        "missing = aapl_bar.isnull()\n",
        "print(missing)\n",
        "print('---------------------------------------------')\n",
        "print(missing.describe())\n",
        "\n",
        "print()\n",
        "#MY EXAMPLE#######\n",
        "\n",
        "missing2 = btc_bar.isnull()\n",
        "print(missing2)\n",
        "print('---------------------------------------------')\n",
        "print(missing2.describe())"
      ],
      "execution_count": 31,
      "outputs": [
        {
          "output_type": "stream",
          "name": "stdout",
          "text": [
            "             Open   High    Low  Close  rate_return\n",
            "Date                                               \n",
            "2016-01-31  False  False  False  False         True\n",
            "2016-02-29  False  False  False  False        False\n",
            "2016-03-31  False  False  False  False        False\n",
            "2016-04-30  False  False  False  False        False\n",
            "2016-05-31  False  False  False  False        False\n",
            "2016-06-30  False  False  False  False        False\n",
            "2016-07-31  False  False  False  False        False\n",
            "2016-08-31  False  False  False  False        False\n",
            "2016-09-30  False  False  False  False        False\n",
            "2016-10-31  False  False  False  False        False\n",
            "2016-11-30  False  False  False  False        False\n",
            "2016-12-31  False  False  False  False        False\n",
            "---------------------------------------------\n",
            "         Open   High    Low  Close rate_return\n",
            "count      12     12     12     12          12\n",
            "unique      1      1      1      1           2\n",
            "top     False  False  False  False       False\n",
            "freq       12     12     12     12          11\n",
            "\n",
            "             Open   High    Low  Close  rate_return\n",
            "Date                                               \n",
            "2016-01-31  False  False  False  False         True\n",
            "2016-02-29  False  False  False  False        False\n",
            "2016-03-31  False  False  False  False        False\n",
            "2016-04-30  False  False  False  False        False\n",
            "2016-05-31  False  False  False  False        False\n",
            "2016-06-30  False  False  False  False        False\n",
            "2016-07-31  False  False  False  False        False\n",
            "2016-08-31  False  False  False  False        False\n",
            "2016-09-30  False  False  False  False        False\n",
            "2016-10-31  False  False  False  False        False\n",
            "2016-11-30  False  False  False  False        False\n",
            "2016-12-31  False  False  False  False        False\n",
            "---------------------------------------------\n",
            "         Open   High    Low  Close rate_return\n",
            "count      12     12     12     12          12\n",
            "unique      1      1      1      1           2\n",
            "top     False  False  False  False       False\n",
            "freq       12     12     12     12          11\n"
          ]
        }
      ]
    },
    {
      "cell_type": "code",
      "metadata": {
        "colab": {
          "base_uri": "https://localhost:8080/"
        },
        "id": "nk6lv9DEfgOC",
        "outputId": "910341b7-2226-40cc-b766-9696fe919734"
      },
      "source": [
        "print(missing[missing.rate_return == True])\n",
        "\n",
        "print()\n",
        "#MY EXAMPLE#######\n",
        "\n",
        "print(missing2[missing2.rate_return == True])\n"
      ],
      "execution_count": 32,
      "outputs": [
        {
          "output_type": "stream",
          "name": "stdout",
          "text": [
            "             Open   High    Low  Close  rate_return\n",
            "Date                                               \n",
            "2016-01-31  False  False  False  False         True\n",
            "\n",
            "             Open   High    Low  Close  rate_return\n",
            "Date                                               \n",
            "2016-01-31  False  False  False  False         True\n"
          ]
        }
      ]
    },
    {
      "cell_type": "code",
      "metadata": {
        "colab": {
          "base_uri": "https://localhost:8080/"
        },
        "id": "nsY-cixIfhhS",
        "outputId": "52f48d11-0f3c-49b6-a086-5149939b7ce2"
      },
      "source": [
        "drop = aapl_bar.dropna()\n",
        "print(drop)\n",
        "print('\\n--------------------------------------------------\\n')\n",
        "fill = aapl_bar.fillna(0)\n",
        "print(fill)\n",
        "\n",
        "print()\n",
        "#MY EXAMPLE#######\n",
        "\n",
        "drop2 = btc_bar.dropna()\n",
        "print(drop2)\n",
        "print('\\n--------------------------------------------------\\n')\n",
        "fill2 = btc_bar.fillna(0)\n",
        "print(fill2)"
      ],
      "execution_count": 33,
      "outputs": [
        {
          "output_type": "stream",
          "name": "stdout",
          "text": [
            "                 Open       High        Low      Close  rate_return\n",
            "Date                                                               \n",
            "2016-02-29  22.450757  22.768304  22.402082  22.411354    -0.001288\n",
            "2016-03-31  25.431520  25.473242  25.236819  25.262316     0.127211\n",
            "2016-04-30  21.785533  21.954737  21.442491  21.727587    -0.139921\n",
            "2016-05-31  23.226405  23.412963  23.044512  23.287037     0.071773\n",
            "2016-06-30  22.023114  22.333264  21.990466  22.293621    -0.042660\n",
            "2016-07-31  24.296784  24.380735  24.177853  24.301447     0.090063\n",
            "2016-08-31  24.773058  24.986415  24.768367  24.876219     0.023652\n",
            "2016-09-30  26.367384  26.580743  26.212641  26.505716     0.065504\n",
            "2016-10-31  26.646392  26.782380  26.540884  26.620602     0.004334\n",
            "2016-11-30  26.300090  26.441488  25.986656  26.045572    -0.021601\n",
            "2016-12-31  27.490193  27.619807  27.202683  27.294592     0.047955\n",
            "\n",
            "--------------------------------------------------\n",
            "\n",
            "                 Open       High        Low      Close  rate_return\n",
            "Date                                                               \n",
            "2016-01-31  21.852392  22.440254  21.750956  22.440254     0.000000\n",
            "2016-02-29  22.450757  22.768304  22.402082  22.411354    -0.001288\n",
            "2016-03-31  25.431520  25.473242  25.236819  25.262316     0.127211\n",
            "2016-04-30  21.785533  21.954737  21.442491  21.727587    -0.139921\n",
            "2016-05-31  23.226405  23.412963  23.044512  23.287037     0.071773\n",
            "2016-06-30  22.023114  22.333264  21.990466  22.293621    -0.042660\n",
            "2016-07-31  24.296784  24.380735  24.177853  24.301447     0.090063\n",
            "2016-08-31  24.773058  24.986415  24.768367  24.876219     0.023652\n",
            "2016-09-30  26.367384  26.580743  26.212641  26.505716     0.065504\n",
            "2016-10-31  26.646392  26.782380  26.540884  26.620602     0.004334\n",
            "2016-11-30  26.300090  26.441488  25.986656  26.045572    -0.021601\n",
            "2016-12-31  27.490193  27.619807  27.202683  27.294592     0.047955\n",
            "\n",
            "                  Open        High         Low       Close  rate_return\n",
            "Date                                                                   \n",
            "2016-02-29  433.437988  441.506989  431.692993  437.696991     0.186920\n",
            "2016-03-31  415.256989  418.368988  415.256989  416.729004    -0.047905\n",
            "2016-04-30  455.178009  455.587006  447.696991  448.317993     0.075802\n",
            "2016-05-31  534.190979  546.617981  520.661987  531.385986     0.185288\n",
            "2016-06-30  640.591003  675.403015  636.607971  673.336975     0.267133\n",
            "2016-07-31  655.099976  655.284973  624.364990  624.681030    -0.072261\n",
            "2016-08-31  577.591003  577.861023  573.642029  575.471985    -0.078775\n",
            "2016-09-30  605.715027  609.734985  604.142029  609.734985     0.059539\n",
            "2016-10-31  702.640015  709.289001  691.682007  700.971985     0.149634\n",
            "2016-11-30  736.283997  747.929016  736.265015  745.690979     0.063796\n",
            "2016-12-31  960.627014  963.742981  947.236023  963.742981     0.292416\n",
            "\n",
            "--------------------------------------------------\n",
            "\n",
            "                  Open        High         Low       Close  rate_return\n",
            "Date                                                                   \n",
            "2016-01-31  378.292999  380.346985  367.834991  368.766998     0.000000\n",
            "2016-02-29  433.437988  441.506989  431.692993  437.696991     0.186920\n",
            "2016-03-31  415.256989  418.368988  415.256989  416.729004    -0.047905\n",
            "2016-04-30  455.178009  455.587006  447.696991  448.317993     0.075802\n",
            "2016-05-31  534.190979  546.617981  520.661987  531.385986     0.185288\n",
            "2016-06-30  640.591003  675.403015  636.607971  673.336975     0.267133\n",
            "2016-07-31  655.099976  655.284973  624.364990  624.681030    -0.072261\n",
            "2016-08-31  577.591003  577.861023  573.642029  575.471985    -0.078775\n",
            "2016-09-30  605.715027  609.734985  604.142029  609.734985     0.059539\n",
            "2016-10-31  702.640015  709.289001  691.682007  700.971985     0.149634\n",
            "2016-11-30  736.283997  747.929016  736.265015  745.690979     0.063796\n",
            "2016-12-31  960.627014  963.742981  947.236023  963.742981     0.292416\n"
          ]
        }
      ]
    },
    {
      "cell_type": "markdown",
      "metadata": {
        "id": "9R_gNXmafo9P"
      },
      "source": [
        "**DataFrame Concat**"
      ]
    },
    {
      "cell_type": "code",
      "metadata": {
        "colab": {
          "base_uri": "https://localhost:8080/"
        },
        "id": "LA8NBDLpfoLa",
        "outputId": "b671ddc8-116c-4e1e-d406-feb3b9aae44d"
      },
      "source": [
        "s1 = pd.Series([143.5, 144.09, 142.73, 144.18, 143.77], name = 'AAPL')\n",
        "s2 = pd.Series([898.7, 911.71, 906.69, 918.59, 926.99], name = 'GOOG')\n",
        "data_frame = pd.concat([s1,s2], axis = 1)\n",
        "print(data_frame)\n",
        "\n",
        "print()\n",
        "#MY EXAMPLE#######\n",
        "\n",
        "s3 = pd.Series([356.7, 35.1, 109.2, 34.9, 66.34], name = 'BTC')\n",
        "s4 = pd.Series([58.3, 88.94, 21.11, 918.59, 43/87], name = 'BTCH')\n",
        "data_Frame = pd.concat([s3,s4], axis = 1)\n",
        "print(data_Frame)"
      ],
      "execution_count": 34,
      "outputs": [
        {
          "output_type": "stream",
          "name": "stdout",
          "text": [
            "     AAPL    GOOG\n",
            "0  143.50  898.70\n",
            "1  144.09  911.71\n",
            "2  142.73  906.69\n",
            "3  144.18  918.59\n",
            "4  143.77  926.99\n",
            "\n",
            "      BTC        BTCH\n",
            "0  356.70   58.300000\n",
            "1   35.10   88.940000\n",
            "2  109.20   21.110000\n",
            "3   34.90  918.590000\n",
            "4   66.34    0.494253\n"
          ]
        }
      ]
    },
    {
      "cell_type": "code",
      "metadata": {
        "colab": {
          "base_uri": "https://localhost:8080/"
        },
        "id": "zsVlYgQufutg",
        "outputId": "204f8370-78d0-4f4f-f560-ca24c4b55dc3"
      },
      "source": [
        "log_price = np.log(aapl_bar.Close)\n",
        "log_price.name = 'log_price'\n",
        "print(log_price)\n",
        "print('\\n---------------------- separate line--------------------\\n')\n",
        "concat = pd.concat([aapl_bar, log_price], axis = 1)\n",
        "print(concat)\n",
        "\n",
        "print()\n",
        "#MY EXAMPLE#######\n",
        "\n",
        "log_price2 = np.log(btc_bar.Close)\n",
        "log_price2.name = 'log_price'\n",
        "print(log_price2)\n",
        "print('\\n---------------------- separate line--------------------\\n')\n",
        "concat2 = pd.concat([btc_bar, log_price2], axis = 1)\n",
        "print(concat2)"
      ],
      "execution_count": 35,
      "outputs": [
        {
          "output_type": "stream",
          "name": "stdout",
          "text": [
            "Date\n",
            "2016-01-31    3.110856\n",
            "2016-02-29    3.109568\n",
            "2016-03-31    3.229314\n",
            "2016-04-30    3.078583\n",
            "2016-05-31    3.147897\n",
            "2016-06-30    3.104301\n",
            "2016-07-31    3.190536\n",
            "2016-08-31    3.213912\n",
            "2016-09-30    3.277360\n",
            "2016-10-31    3.281685\n",
            "2016-11-30    3.259848\n",
            "2016-12-31    3.306689\n",
            "Freq: M, Name: log_price, dtype: float64\n",
            "\n",
            "---------------------- separate line--------------------\n",
            "\n",
            "                 Open       High        Low      Close  rate_return  log_price\n",
            "Date                                                                          \n",
            "2016-01-31  21.852392  22.440254  21.750956  22.440254          NaN   3.110856\n",
            "2016-02-29  22.450757  22.768304  22.402082  22.411354    -0.001288   3.109568\n",
            "2016-03-31  25.431520  25.473242  25.236819  25.262316     0.127211   3.229314\n",
            "2016-04-30  21.785533  21.954737  21.442491  21.727587    -0.139921   3.078583\n",
            "2016-05-31  23.226405  23.412963  23.044512  23.287037     0.071773   3.147897\n",
            "2016-06-30  22.023114  22.333264  21.990466  22.293621    -0.042660   3.104301\n",
            "2016-07-31  24.296784  24.380735  24.177853  24.301447     0.090063   3.190536\n",
            "2016-08-31  24.773058  24.986415  24.768367  24.876219     0.023652   3.213912\n",
            "2016-09-30  26.367384  26.580743  26.212641  26.505716     0.065504   3.277360\n",
            "2016-10-31  26.646392  26.782380  26.540884  26.620602     0.004334   3.281685\n",
            "2016-11-30  26.300090  26.441488  25.986656  26.045572    -0.021601   3.259848\n",
            "2016-12-31  27.490193  27.619807  27.202683  27.294592     0.047955   3.306689\n",
            "\n",
            "Date\n",
            "2016-01-31    5.910165\n",
            "2016-02-29    6.081527\n",
            "2016-03-31    6.032436\n",
            "2016-04-30    6.105503\n",
            "2016-05-31    6.275489\n",
            "2016-06-30    6.512246\n",
            "2016-07-31    6.437241\n",
            "2016-08-31    6.355191\n",
            "2016-09-30    6.413024\n",
            "2016-10-31    6.552468\n",
            "2016-11-30    6.614311\n",
            "2016-12-31    6.870825\n",
            "Freq: M, Name: log_price, dtype: float64\n",
            "\n",
            "---------------------- separate line--------------------\n",
            "\n",
            "                  Open        High  ...  rate_return  log_price\n",
            "Date                                ...                        \n",
            "2016-01-31  378.292999  380.346985  ...          NaN   5.910165\n",
            "2016-02-29  433.437988  441.506989  ...     0.186920   6.081527\n",
            "2016-03-31  415.256989  418.368988  ...    -0.047905   6.032436\n",
            "2016-04-30  455.178009  455.587006  ...     0.075802   6.105503\n",
            "2016-05-31  534.190979  546.617981  ...     0.185288   6.275489\n",
            "2016-06-30  640.591003  675.403015  ...     0.267133   6.512246\n",
            "2016-07-31  655.099976  655.284973  ...    -0.072261   6.437241\n",
            "2016-08-31  577.591003  577.861023  ...    -0.078775   6.355191\n",
            "2016-09-30  605.715027  609.734985  ...     0.059539   6.413024\n",
            "2016-10-31  702.640015  709.289001  ...     0.149634   6.552468\n",
            "2016-11-30  736.283997  747.929016  ...     0.063796   6.614311\n",
            "2016-12-31  960.627014  963.742981  ...     0.292416   6.870825\n",
            "\n",
            "[12 rows x 6 columns]\n"
          ]
        }
      ]
    },
    {
      "cell_type": "code",
      "metadata": {
        "colab": {
          "base_uri": "https://localhost:8080/"
        },
        "id": "S-HTpfBzfzRr",
        "outputId": "8c085549-020e-475e-859c-1c89d2c45c4a"
      },
      "source": [
        "df_volume = aapl_table.loc['2016-10':'2017-04',['Volume', 'Stock Splits']].resample('M').agg(lambda x: x[-1])\n",
        "print(df_volume)\n",
        "print('\\n---------------------- separate line--------------------\\n')\n",
        "df_2017 = aapl_table.loc['2016-10':'2017-04',['Open', 'High', 'Low', 'Close']].resample('M').agg(lambda x: x[-1])\n",
        "print(df_2017)\n",
        "\n",
        "print()\n",
        "#MY EXAMPLE#######\n",
        "\n",
        "df_volume2 = btc_table.loc['2016-10':'2017-04',['Volume', 'Stock Splits']].resample('M').agg(lambda x: x[-1])\n",
        "print(df_volume2)\n",
        "print('\\n---------------------- separate line--------------------\\n')\n",
        "df2_2017 = btc_table.loc['2016-10':'2017-04',['Open', 'High', 'Low', 'Close']].resample('M').agg(lambda x: x[-1])\n",
        "print(df2_2017)"
      ],
      "execution_count": 36,
      "outputs": [
        {
          "output_type": "stream",
          "name": "stdout",
          "text": [
            "               Volume  Stock Splits\n",
            "Date                               \n",
            "2016-10-31  105677600             0\n",
            "2016-11-30  144649200             0\n",
            "2016-12-31  122345200             0\n",
            "2017-01-31  196804000             0\n",
            "2017-02-28   93931600             0\n",
            "2017-03-31   78646800             0\n",
            "2017-04-30   83441600             0\n",
            "\n",
            "---------------------- separate line--------------------\n",
            "\n",
            "                 Open       High        Low      Close\n",
            "Date                                                  \n",
            "2016-10-31  26.646392  26.782380  26.540884  26.620602\n",
            "2016-11-30  26.300090  26.441488  25.986656  26.045572\n",
            "2016-12-31  27.490193  27.619807  27.202683  27.294592\n",
            "2017-01-31  28.550681  28.607239  28.425779  28.597813\n",
            "2017-02-28  32.444870  32.530077  32.354928  32.423569\n",
            "2017-03-31  34.016463  34.146641  33.848414  34.002262\n",
            "2017-04-30  34.104024  34.153730  33.909944  33.999882\n",
            "\n",
            "               Volume  Stock Splits\n",
            "Date                               \n",
            "2016-10-31   97064400             0\n",
            "2016-11-30   84070800             0\n",
            "2016-12-31   99135104             0\n",
            "2017-01-31  164582000             0\n",
            "2017-02-28  184956000             0\n",
            "2017-03-31  447287008             0\n",
            "2017-04-30  413115008             0\n",
            "\n",
            "---------------------- separate line--------------------\n",
            "\n",
            "                   Open         High          Low        Close\n",
            "Date                                                          \n",
            "2016-10-31   702.640015   709.289001   691.682007   700.971985\n",
            "2016-11-30   736.283997   747.929016   736.265015   745.690979\n",
            "2016-12-31   960.627014   963.742981   947.236023   963.742981\n",
            "2017-01-31   920.958984   972.018982   920.958984   970.403015\n",
            "2017-02-28  1180.719971  1193.250000  1171.819946  1179.969971\n",
            "2017-03-31  1026.640015  1074.920044  1026.640015  1071.790039\n",
            "2017-04-30  1321.869995  1347.910034  1314.920044  1347.890015\n"
          ]
        }
      ]
    },
    {
      "cell_type": "code",
      "metadata": {
        "colab": {
          "base_uri": "https://localhost:8080/"
        },
        "id": "yLTpoSuXf3mB",
        "outputId": "1bb13b05-8b5e-42cd-ad1e-0b4e8c061d23"
      },
      "source": [
        "concat = pd.concat([aapl_bar, df_volume], axis = 1)\n",
        "print(concat)\n",
        "\n",
        "print()\n",
        "#MY EXAMPLE#######\n",
        "\n",
        "concat2 = pd.concat([btc_bar, df_volume2], axis = 1)\n",
        "print(concat)\n"
      ],
      "execution_count": 37,
      "outputs": [
        {
          "output_type": "stream",
          "name": "stdout",
          "text": [
            "                 Open       High  ...       Volume  Stock Splits\n",
            "Date                              ...                           \n",
            "2016-01-31  21.852392  22.440254  ...          NaN           NaN\n",
            "2016-02-29  22.450757  22.768304  ...          NaN           NaN\n",
            "2016-03-31  25.431520  25.473242  ...          NaN           NaN\n",
            "2016-04-30  21.785533  21.954737  ...          NaN           NaN\n",
            "2016-05-31  23.226405  23.412963  ...          NaN           NaN\n",
            "2016-06-30  22.023114  22.333264  ...          NaN           NaN\n",
            "2016-07-31  24.296784  24.380735  ...          NaN           NaN\n",
            "2016-08-31  24.773058  24.986415  ...          NaN           NaN\n",
            "2016-09-30  26.367384  26.580743  ...          NaN           NaN\n",
            "2016-10-31  26.646392  26.782380  ...  105677600.0           0.0\n",
            "2016-11-30  26.300090  26.441488  ...  144649200.0           0.0\n",
            "2016-12-31  27.490193  27.619807  ...  122345200.0           0.0\n",
            "2017-01-31        NaN        NaN  ...  196804000.0           0.0\n",
            "2017-02-28        NaN        NaN  ...   93931600.0           0.0\n",
            "2017-03-31        NaN        NaN  ...   78646800.0           0.0\n",
            "2017-04-30        NaN        NaN  ...   83441600.0           0.0\n",
            "\n",
            "[16 rows x 7 columns]\n",
            "\n",
            "                 Open       High  ...       Volume  Stock Splits\n",
            "Date                              ...                           \n",
            "2016-01-31  21.852392  22.440254  ...          NaN           NaN\n",
            "2016-02-29  22.450757  22.768304  ...          NaN           NaN\n",
            "2016-03-31  25.431520  25.473242  ...          NaN           NaN\n",
            "2016-04-30  21.785533  21.954737  ...          NaN           NaN\n",
            "2016-05-31  23.226405  23.412963  ...          NaN           NaN\n",
            "2016-06-30  22.023114  22.333264  ...          NaN           NaN\n",
            "2016-07-31  24.296784  24.380735  ...          NaN           NaN\n",
            "2016-08-31  24.773058  24.986415  ...          NaN           NaN\n",
            "2016-09-30  26.367384  26.580743  ...          NaN           NaN\n",
            "2016-10-31  26.646392  26.782380  ...  105677600.0           0.0\n",
            "2016-11-30  26.300090  26.441488  ...  144649200.0           0.0\n",
            "2016-12-31  27.490193  27.619807  ...  122345200.0           0.0\n",
            "2017-01-31        NaN        NaN  ...  196804000.0           0.0\n",
            "2017-02-28        NaN        NaN  ...   93931600.0           0.0\n",
            "2017-03-31        NaN        NaN  ...   78646800.0           0.0\n",
            "2017-04-30        NaN        NaN  ...   83441600.0           0.0\n",
            "\n",
            "[16 rows x 7 columns]\n"
          ]
        }
      ]
    },
    {
      "cell_type": "code",
      "metadata": {
        "colab": {
          "base_uri": "https://localhost:8080/"
        },
        "id": "He80YIe5f6tm",
        "outputId": "e6ccf923-4d9b-40c1-8623-4305a7c3922b"
      },
      "source": [
        "concat = pd.concat([aapl_bar,df_volume],axis = 1, join = 'inner')\n",
        "print(concat)\n",
        "\n",
        "print()\n",
        "#MY EXAMPLE#######\n",
        "\n",
        "concat2 = pd.concat([btc_bar,df_volume],axis = 1, join = 'inner')\n",
        "print(concat2)\n"
      ],
      "execution_count": 38,
      "outputs": [
        {
          "output_type": "stream",
          "name": "stdout",
          "text": [
            "                 Open       High  ...     Volume  Stock Splits\n",
            "Date                              ...                         \n",
            "2016-10-31  26.646392  26.782380  ...  105677600             0\n",
            "2016-11-30  26.300090  26.441488  ...  144649200             0\n",
            "2016-12-31  27.490193  27.619807  ...  122345200             0\n",
            "\n",
            "[3 rows x 7 columns]\n",
            "\n",
            "                  Open        High  ...     Volume  Stock Splits\n",
            "Date                                ...                         \n",
            "2016-10-31  702.640015  709.289001  ...  105677600             0\n",
            "2016-11-30  736.283997  747.929016  ...  144649200             0\n",
            "2016-12-31  960.627014  963.742981  ...  122345200             0\n",
            "\n",
            "[3 rows x 7 columns]\n"
          ]
        }
      ]
    },
    {
      "cell_type": "code",
      "metadata": {
        "colab": {
          "base_uri": "https://localhost:8080/"
        },
        "id": "pD7VGvFpf9Qe",
        "outputId": "81866df7-a813-4c31-fa0f-ee536ecfcd94"
      },
      "source": [
        "append = aapl_bar.append(df_2017)\n",
        "print(append)\n",
        "\n",
        "print()\n",
        "#MY EXAMPLE#######\n",
        "\n",
        "append2 = btc_bar.append(df_2017)\n",
        "print(append2)"
      ],
      "execution_count": 39,
      "outputs": [
        {
          "output_type": "stream",
          "name": "stdout",
          "text": [
            "                 Open       High        Low      Close  rate_return\n",
            "Date                                                               \n",
            "2016-01-31  21.852392  22.440254  21.750956  22.440254          NaN\n",
            "2016-02-29  22.450757  22.768304  22.402082  22.411354    -0.001288\n",
            "2016-03-31  25.431520  25.473242  25.236819  25.262316     0.127211\n",
            "2016-04-30  21.785533  21.954737  21.442491  21.727587    -0.139921\n",
            "2016-05-31  23.226405  23.412963  23.044512  23.287037     0.071773\n",
            "2016-06-30  22.023114  22.333264  21.990466  22.293621    -0.042660\n",
            "2016-07-31  24.296784  24.380735  24.177853  24.301447     0.090063\n",
            "2016-08-31  24.773058  24.986415  24.768367  24.876219     0.023652\n",
            "2016-09-30  26.367384  26.580743  26.212641  26.505716     0.065504\n",
            "2016-10-31  26.646392  26.782380  26.540884  26.620602     0.004334\n",
            "2016-11-30  26.300090  26.441488  25.986656  26.045572    -0.021601\n",
            "2016-12-31  27.490193  27.619807  27.202683  27.294592     0.047955\n",
            "2016-10-31  26.646392  26.782380  26.540884  26.620602          NaN\n",
            "2016-11-30  26.300090  26.441488  25.986656  26.045572          NaN\n",
            "2016-12-31  27.490193  27.619807  27.202683  27.294592          NaN\n",
            "2017-01-31  28.550681  28.607239  28.425779  28.597813          NaN\n",
            "2017-02-28  32.444870  32.530077  32.354928  32.423569          NaN\n",
            "2017-03-31  34.016463  34.146641  33.848414  34.002262          NaN\n",
            "2017-04-30  34.104024  34.153730  33.909944  33.999882          NaN\n",
            "\n",
            "                  Open        High         Low       Close  rate_return\n",
            "Date                                                                   \n",
            "2016-01-31  378.292999  380.346985  367.834991  368.766998          NaN\n",
            "2016-02-29  433.437988  441.506989  431.692993  437.696991     0.186920\n",
            "2016-03-31  415.256989  418.368988  415.256989  416.729004    -0.047905\n",
            "2016-04-30  455.178009  455.587006  447.696991  448.317993     0.075802\n",
            "2016-05-31  534.190979  546.617981  520.661987  531.385986     0.185288\n",
            "2016-06-30  640.591003  675.403015  636.607971  673.336975     0.267133\n",
            "2016-07-31  655.099976  655.284973  624.364990  624.681030    -0.072261\n",
            "2016-08-31  577.591003  577.861023  573.642029  575.471985    -0.078775\n",
            "2016-09-30  605.715027  609.734985  604.142029  609.734985     0.059539\n",
            "2016-10-31  702.640015  709.289001  691.682007  700.971985     0.149634\n",
            "2016-11-30  736.283997  747.929016  736.265015  745.690979     0.063796\n",
            "2016-12-31  960.627014  963.742981  947.236023  963.742981     0.292416\n",
            "2016-10-31   26.646392   26.782380   26.540884   26.620602          NaN\n",
            "2016-11-30   26.300090   26.441488   25.986656   26.045572          NaN\n",
            "2016-12-31   27.490193   27.619807   27.202683   27.294592          NaN\n",
            "2017-01-31   28.550681   28.607239   28.425779   28.597813          NaN\n",
            "2017-02-28   32.444870   32.530077   32.354928   32.423569          NaN\n",
            "2017-03-31   34.016463   34.146641   33.848414   34.002262          NaN\n",
            "2017-04-30   34.104024   34.153730   33.909944   33.999882          NaN\n"
          ]
        }
      ]
    },
    {
      "cell_type": "code",
      "metadata": {
        "colab": {
          "base_uri": "https://localhost:8080/"
        },
        "id": "hR2q3e2AgBV6",
        "outputId": "69453a4c-1adb-49b3-fd46-1e15938b338a"
      },
      "source": [
        "concat = pd.concat([aapl_bar, df_2017], axis = 0)\n",
        "print(concat)\n",
        "\n",
        "print()\n",
        "#MY EXAMPLE#######"
      ],
      "execution_count": 129,
      "outputs": [
        {
          "output_type": "stream",
          "name": "stdout",
          "text": [
            "                 Open       High        Low      Close  rate_return\n",
            "Date                                                               \n",
            "2016-01-31  21.852384  22.440247  21.750948  22.440247          NaN\n",
            "2016-02-29  22.450757  22.768304  22.402082  22.411354    -0.001288\n",
            "2016-03-31  25.431522  25.473243  25.236821  25.262318     0.127211\n",
            "2016-04-30  21.785531  21.954736  21.442489  21.727585    -0.139921\n",
            "2016-05-31  23.226405  23.412963  23.044512  23.287037     0.071773\n",
            "2016-06-30  22.023108  22.333258  21.990461  22.293615    -0.042660\n",
            "2016-07-31  24.296780  24.380731  24.177849  24.301443     0.090063\n",
            "2016-08-31  24.773061  24.986419  24.768371  24.876223     0.023652\n",
            "2016-09-30  26.367384  26.580743  26.212641  26.505716     0.065504\n",
            "2016-10-31  26.646394  26.782382  26.540886  26.620604     0.004334\n",
            "2016-11-30  26.300092  26.441490  25.986658  26.045574    -0.021601\n",
            "2016-12-31  27.490197  27.619811  27.202687  27.294596     0.047955\n",
            "2016-10-31  26.646394  26.782382  26.540886  26.620604          NaN\n",
            "2016-11-30  26.300092  26.441490  25.986658  26.045574          NaN\n",
            "2016-12-31  27.490197  27.619811  27.202687  27.294596          NaN\n",
            "2017-01-31  28.550681  28.607239  28.425779  28.597813          NaN\n",
            "2017-02-28  32.444866  32.530073  32.354924  32.423565          NaN\n",
            "2017-03-31  34.016459  34.146637  33.848410  34.002258          NaN\n",
            "2017-04-30  34.104039  34.153745  33.909959  33.999897          NaN\n"
          ]
        }
      ]
    },
    {
      "cell_type": "code",
      "metadata": {
        "colab": {
          "base_uri": "https://localhost:8080/"
        },
        "id": "AMdtUObEgEgK",
        "outputId": "f80c0893-90c1-4276-b0a7-121fe4933711"
      },
      "source": [
        "df_2017.columns = ['Change', 'High','Low','Close']\n",
        "concat = pd.concat([aapl_bar, df_2017], axis = 0)\n",
        "print(concat)\n",
        "\n",
        "print()\n",
        "#MY EXAMPLE#######\n",
        "\n",
        "df2_2017.columns = ['Change', 'High','Low','Close']\n",
        "concat2 = pd.concat([btc_bar, df2_2017], axis = 0)\n",
        "print(concat2)"
      ],
      "execution_count": 40,
      "outputs": [
        {
          "output_type": "stream",
          "name": "stdout",
          "text": [
            "                 Open       High        Low      Close  rate_return     Change\n",
            "Date                                                                          \n",
            "2016-01-31  21.852392  22.440254  21.750956  22.440254          NaN        NaN\n",
            "2016-02-29  22.450757  22.768304  22.402082  22.411354    -0.001288        NaN\n",
            "2016-03-31  25.431520  25.473242  25.236819  25.262316     0.127211        NaN\n",
            "2016-04-30  21.785533  21.954737  21.442491  21.727587    -0.139921        NaN\n",
            "2016-05-31  23.226405  23.412963  23.044512  23.287037     0.071773        NaN\n",
            "2016-06-30  22.023114  22.333264  21.990466  22.293621    -0.042660        NaN\n",
            "2016-07-31  24.296784  24.380735  24.177853  24.301447     0.090063        NaN\n",
            "2016-08-31  24.773058  24.986415  24.768367  24.876219     0.023652        NaN\n",
            "2016-09-30  26.367384  26.580743  26.212641  26.505716     0.065504        NaN\n",
            "2016-10-31  26.646392  26.782380  26.540884  26.620602     0.004334        NaN\n",
            "2016-11-30  26.300090  26.441488  25.986656  26.045572    -0.021601        NaN\n",
            "2016-12-31  27.490193  27.619807  27.202683  27.294592     0.047955        NaN\n",
            "2016-10-31        NaN  26.782380  26.540884  26.620602          NaN  26.646392\n",
            "2016-11-30        NaN  26.441488  25.986656  26.045572          NaN  26.300090\n",
            "2016-12-31        NaN  27.619807  27.202683  27.294592          NaN  27.490193\n",
            "2017-01-31        NaN  28.607239  28.425779  28.597813          NaN  28.550681\n",
            "2017-02-28        NaN  32.530077  32.354928  32.423569          NaN  32.444870\n",
            "2017-03-31        NaN  34.146641  33.848414  34.002262          NaN  34.016463\n",
            "2017-04-30        NaN  34.153730  33.909944  33.999882          NaN  34.104024\n",
            "\n",
            "                  Open         High  ...  rate_return       Change\n",
            "Date                                 ...                          \n",
            "2016-01-31  378.292999   380.346985  ...          NaN          NaN\n",
            "2016-02-29  433.437988   441.506989  ...     0.186920          NaN\n",
            "2016-03-31  415.256989   418.368988  ...    -0.047905          NaN\n",
            "2016-04-30  455.178009   455.587006  ...     0.075802          NaN\n",
            "2016-05-31  534.190979   546.617981  ...     0.185288          NaN\n",
            "2016-06-30  640.591003   675.403015  ...     0.267133          NaN\n",
            "2016-07-31  655.099976   655.284973  ...    -0.072261          NaN\n",
            "2016-08-31  577.591003   577.861023  ...    -0.078775          NaN\n",
            "2016-09-30  605.715027   609.734985  ...     0.059539          NaN\n",
            "2016-10-31  702.640015   709.289001  ...     0.149634          NaN\n",
            "2016-11-30  736.283997   747.929016  ...     0.063796          NaN\n",
            "2016-12-31  960.627014   963.742981  ...     0.292416          NaN\n",
            "2016-10-31         NaN   709.289001  ...          NaN   702.640015\n",
            "2016-11-30         NaN   747.929016  ...          NaN   736.283997\n",
            "2016-12-31         NaN   963.742981  ...          NaN   960.627014\n",
            "2017-01-31         NaN   972.018982  ...          NaN   920.958984\n",
            "2017-02-28         NaN  1193.250000  ...          NaN  1180.719971\n",
            "2017-03-31         NaN  1074.920044  ...          NaN  1026.640015\n",
            "2017-04-30         NaN  1347.910034  ...          NaN  1321.869995\n",
            "\n",
            "[19 rows x 6 columns]\n"
          ]
        }
      ]
    }
  ]
}