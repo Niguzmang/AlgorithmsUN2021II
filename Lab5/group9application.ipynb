{
  "nbformat": 4,
  "nbformat_minor": 0,
  "metadata": {
    "colab": {
      "name": "group9application.ipynb",
      "provenance": []
    },
    "kernelspec": {
      "name": "python3",
      "display_name": "Python 3"
    },
    "language_info": {
      "name": "python"
    }
  },
  "cells": [
    {
      "cell_type": "markdown",
      "metadata": {
        "id": "rCE35QdfnUbJ"
      },
      "source": [
        "Link to the application:\n",
        "http://jcallejas.pythonanywhere.com"
      ]
    }
  ]
}