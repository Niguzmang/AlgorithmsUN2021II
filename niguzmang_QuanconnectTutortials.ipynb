{
  "nbformat": 4,
  "nbformat_minor": 0,
  "metadata": {
    "colab": {
      "name": "niguzmang_QuanconnectTutortials.ipynb",
      "provenance": [],
      "collapsed_sections": []
    },
    "kernelspec": {
      "display_name": "Python 3",
      "name": "python3"
    },
    "language_info": {
      "name": "python"
    }
  },
  "cells": [
    {
      "cell_type": "markdown",
      "metadata": {
        "id": "eC2aDCS3BsZk"
      },
      "source": [
        "# ***LABORATORIO 1:***\n",
        "Data Types and Data Structures"
      ]
    },
    {
      "cell_type": "code",
      "metadata": {
        "colab": {
          "base_uri": "https://localhost:8080/"
        },
        "id": "1jGrUfIN6kwp",
        "outputId": "589d4957-9b49-483f-c89b-442bd70bf0c6"
      },
      "source": [
        "my_string1 = 'Welcome to'\n",
        "my_string2 = \"QuantConnect\"\n",
        "print(my_string1 + ' ' + my_string2)"
      ],
      "execution_count": null,
      "outputs": [
        {
          "name": "stdout",
          "output_type": "stream",
          "text": [
            "Welcome to QuantConnect\n"
          ]
        }
      ]
    },
    {
      "cell_type": "code",
      "metadata": {
        "colab": {
          "base_uri": "https://localhost:8080/"
        },
        "id": "P4yKFSdACGhe",
        "outputId": "f48dfcf3-e847-4d26-885c-3e858e7420bc"
      },
      "source": [
        "my_string1 = 'Simple'\n",
        "my_string2 = \"    Trial\"\n",
        "print(my_string1 + ' ' + my_string2)"
      ],
      "execution_count": null,
      "outputs": [
        {
          "name": "stdout",
          "output_type": "stream",
          "text": [
            "Simple     Trial\n"
          ]
        }
      ]
    },
    {
      "cell_type": "code",
      "metadata": {
        "colab": {
          "base_uri": "https://localhost:8080/"
        },
        "id": "6WvMH7HrCbJu",
        "outputId": "a135c7d5-9ed2-4645-e655-6c4842db0f8c"
      },
      "source": [
        "my_int = 10\n",
        "print(my_int)\n",
        "print(type(my_int))"
      ],
      "execution_count": null,
      "outputs": [
        {
          "name": "stdout",
          "output_type": "stream",
          "text": [
            "10\n",
            "<class 'int'>\n"
          ]
        }
      ]
    },
    {
      "cell_type": "code",
      "metadata": {
        "colab": {
          "base_uri": "https://localhost:8080/"
        },
        "id": "IsiacEMlCvUh",
        "outputId": "ec09078d-c169-476e-f7d0-6463ce5bb5dd"
      },
      "source": [
        "my_int = 0\n",
        "print(my_int)\n",
        "print(type(my_int))"
      ],
      "execution_count": null,
      "outputs": [
        {
          "name": "stdout",
          "output_type": "stream",
          "text": [
            "0\n",
            "<class 'int'>\n"
          ]
        }
      ]
    },
    {
      "cell_type": "code",
      "metadata": {
        "colab": {
          "base_uri": "https://localhost:8080/"
        },
        "id": "x_mOSpXeFWs8",
        "outputId": "434565b7-a83d-42ef-c920-f101e045b240"
      },
      "source": [
        "my_string = \"100\"\n",
        "print(type(my_string))\n",
        "my_int = int(my_string)\n",
        "print(type(my_int))\n",
        "print()\n",
        "#My example################\n",
        "my_string = \"9\"\n",
        "print(type(my_string))\n",
        "my_int = int(my_string)\n",
        "print(type(my_int))"
      ],
      "execution_count": null,
      "outputs": [
        {
          "name": "stdout",
          "output_type": "stream",
          "text": [
            "<class 'str'>\n",
            "<class 'int'>\n",
            "\n",
            "<class 'str'>\n",
            "<class 'int'>\n"
          ]
        }
      ]
    },
    {
      "cell_type": "code",
      "metadata": {
        "colab": {
          "base_uri": "https://localhost:8080/"
        },
        "id": "KzDWNaMsGhZk",
        "outputId": "78e43879-175e-4c78-e995-0f46d6040b61"
      },
      "source": [
        "my_float = 1.0\n",
        "print(type(my_float))\n",
        "my_int = 1\n",
        "print(type(my_int))\n",
        "print()\n",
        "#My Example########\n",
        "my_2float = 8.98\n",
        "print(type(my_2float))\n",
        "my_2int = 9\n",
        "print(type(my_2int))"
      ],
      "execution_count": null,
      "outputs": [
        {
          "name": "stdout",
          "output_type": "stream",
          "text": [
            "<class 'float'>\n",
            "<class 'int'>\n",
            "\n",
            "<class 'float'>\n",
            "<class 'int'>\n"
          ]
        }
      ]
    },
    {
      "cell_type": "code",
      "metadata": {
        "colab": {
          "base_uri": "https://localhost:8080/"
        },
        "id": "8dhJMLgTHT5D",
        "outputId": "3892a198-1877-4d1f-b72c-e947ad1f8160"
      },
      "source": [
        "my_string = \"100\"\n",
        "my_float = float(my_string)\n",
        "print(type(my_float))\n",
        "print()\n",
        "#My Example###\n",
        "my_string2 = \"0\"\n",
        "my_float2 = float(my_string2)\n",
        "print(type(my_float2))"
      ],
      "execution_count": null,
      "outputs": [
        {
          "name": "stdout",
          "output_type": "stream",
          "text": [
            "<class 'float'>\n",
            "\n",
            "<class 'float'>\n"
          ]
        }
      ]
    },
    {
      "cell_type": "code",
      "metadata": {
        "colab": {
          "base_uri": "https://localhost:8080/"
        },
        "id": "tHRgrq87HG5G",
        "outputId": "2373e6de-2a07-48c2-c922-a9e87b69ffa6"
      },
      "source": [
        "my_bool = False\n",
        "print(my_bool)\n",
        "print(type(my_bool))\n",
        "print()\n",
        "#MY EXAMPLE ############\n",
        "my_bool2 = True\n",
        "print(my_bool2)\n",
        "print(type(my_bool2))\n"
      ],
      "execution_count": null,
      "outputs": [
        {
          "name": "stdout",
          "output_type": "stream",
          "text": [
            "False\n",
            "<class 'bool'>\n",
            "\n",
            "True\n",
            "<class 'bool'>\n"
          ]
        }
      ]
    },
    {
      "cell_type": "code",
      "metadata": {
        "colab": {
          "base_uri": "https://localhost:8080/"
        },
        "id": "RyX1d0eSIkOR",
        "outputId": "d282cb8e-9c4a-4de5-d083-e1d71bd4a101"
      },
      "source": [
        "print(\"Addition \", 1+1)\n",
        "print(\"Subtraction \", 5-2)\n",
        "print(\"Multiplication \", 2*3)\n",
        "print(\"Division\", 10/2)\n",
        "print(\"exponent\", 2**3)\n",
        "print()\n",
        "#MY EXAMPLE#######\n",
        "print(\"Addition \", 9+0)\n",
        "print(\"Subtraction \", -8-2)\n",
        "print(\"Multiplication \", 77*-3)\n",
        "print(\"Division\", 10/3)\n",
        "print(\"exponent\", 2**-2)"
      ],
      "execution_count": null,
      "outputs": [
        {
          "name": "stdout",
          "output_type": "stream",
          "text": [
            "Addition  2\n",
            "Subtraction  3\n",
            "Multiplication  6\n",
            "Division 5.0\n",
            "exponent 8\n",
            "\n",
            "Addition  9\n",
            "Subtraction  -10\n",
            "Multiplication  -231\n",
            "Division 3.3333333333333335\n",
            "exponent 0.25\n"
          ]
        }
      ]
    },
    {
      "cell_type": "code",
      "metadata": {
        "colab": {
          "base_uri": "https://localhost:8080/"
        },
        "id": "OZfZZscWbNgB",
        "outputId": "db3ebbf0-22ab-4afd-9c98-494d4feacc8a"
      },
      "source": [
        "my_list = ['Quant', 'Connect', 1,2,3]\n",
        "print(my_list)\n",
        "print()\n",
        "#MY EXAMPLE#######\n",
        "my_list2 = ['Bit', False, int(1.0),2.4]\n",
        "print(my_list2)"
      ],
      "execution_count": null,
      "outputs": [
        {
          "name": "stdout",
          "output_type": "stream",
          "text": [
            "['Quant', 'Connect', 1, 2, 3]\n",
            "\n",
            "['Bit', False, 1, 2.4]\n"
          ]
        }
      ]
    },
    {
      "cell_type": "code",
      "metadata": {
        "colab": {
          "base_uri": "https://localhost:8080/"
        },
        "id": "Kc6tdDnNcBn8",
        "outputId": "a8a75c8b-1ae0-424f-f9cd-6097495bb97c"
      },
      "source": [
        "my_list = ['Quant', 'Connect', 1,2,3]\n",
        "print(len(my_list))\n",
        "print(my_list[0])\n",
        "print(my_list[len(my_list) - 1])\n",
        "print()\n",
        "#MY EXAMPLE#######\n",
        "my_list2 = ['Bit', False, int(1.0),2.4]\n",
        "print(len(my_list2))\n",
        "print(my_list2[0])\n",
        "print(my_list2[len(my_list2) - 1])"
      ],
      "execution_count": null,
      "outputs": [
        {
          "name": "stdout",
          "output_type": "stream",
          "text": [
            "5\n",
            "Quant\n",
            "3\n",
            "\n",
            "4\n",
            "Bit\n",
            "2.4\n"
          ]
        }
      ]
    },
    {
      "cell_type": "code",
      "metadata": {
        "colab": {
          "base_uri": "https://localhost:8080/"
        },
        "id": "AAoSd2vId-oS",
        "outputId": "5d845701-3f72-4735-e47f-e2322875279f"
      },
      "source": [
        "my_list = ['Quant','Connect',1,2,3]\n",
        "my_list[2] = 'go'\n",
        "print(my_list)\n",
        "print()\n",
        "#MY EXAMPLE#######\n",
        "my_list2 = ['Bit', False, int(1.0),2.4]\n",
        "my_list2[len(my_list2)-1] = 'coin'\n",
        "print(my_list2)"
      ],
      "execution_count": null,
      "outputs": [
        {
          "name": "stdout",
          "output_type": "stream",
          "text": [
            "['Quant', 'Connect', 'go', 2, 3]\n",
            "\n",
            "['Bit', False, 1, 'coin']\n"
          ]
        }
      ]
    },
    {
      "cell_type": "code",
      "metadata": {
        "colab": {
          "base_uri": "https://localhost:8080/"
        },
        "id": "AvvXhK4_exLD",
        "outputId": "1a665244-c064-4171-ce36-82f84d5d4e29"
      },
      "source": [
        "my_list = ['Quant','Connect',1,2,3]\n",
        "print(my_list[1:3])\n",
        "print(my_list[1:])\n",
        "print(my_list[:3])\n",
        "print()\n",
        "#MY EXAMPLE#######\n",
        "my_list2 = ['Bit', False, int(1.0),2.4, 7]\n",
        "print(my_list2[2:4])\n",
        "print(my_list2[2:])\n",
        "print(my_list2[:2])"
      ],
      "execution_count": null,
      "outputs": [
        {
          "name": "stdout",
          "output_type": "stream",
          "text": [
            "['Connect', 1]\n",
            "['Connect', 1, 2, 3]\n",
            "['Quant', 'Connect', 1]\n",
            "\n",
            "[1, 2.4]\n",
            "[1, 2.4, 7]\n",
            "['Bit', False]\n"
          ]
        }
      ]
    },
    {
      "cell_type": "code",
      "metadata": {
        "colab": {
          "base_uri": "https://localhost:8080/"
        },
        "id": "FCKwe8krkLca",
        "outputId": "6e82f523-f721-4593-ed6f-ebff1f9925d0"
      },
      "source": [
        "my_list = ['Hello', 'Quant']\n",
        "my_list.append('Hello')\n",
        "print(my_list)\n",
        "my_list.remove('Hello')\n",
        "print(my_list)\n",
        "print()\n",
        "#MY EXAMPLE#######\n",
        "my_list2 = []\n",
        "my_list2.append('3')\n",
        "print(my_list2)\n",
        "my_list2.remove(\"3\")\n",
        "print(my_list2)"
      ],
      "execution_count": null,
      "outputs": [
        {
          "name": "stdout",
          "output_type": "stream",
          "text": [
            "['Hello', 'Quant', 'Hello']\n",
            "['Quant', 'Hello']\n",
            "\n",
            "['3']\n",
            "[]\n"
          ]
        }
      ]
    },
    {
      "cell_type": "code",
      "metadata": {
        "colab": {
          "base_uri": "https://localhost:8080/"
        },
        "id": "hMSy1c85l3sz",
        "outputId": "8a71f56c-8238-401a-9525-d7da35a4f73a"
      },
      "source": [
        "my_tuple = ('Welcome','to','QuantConnect')\n",
        "print(my_tuple[1:])\n",
        "print()\n",
        "#MY EXAMPLE#######\n",
        "my_tuple2=(500, False, \"åþ\", \"®©œ\", 5, True)\n",
        "print(my_tuple2[2:])"
      ],
      "execution_count": null,
      "outputs": [
        {
          "name": "stdout",
          "output_type": "stream",
          "text": [
            "('to', 'QuantConnect')\n",
            "\n",
            "('åþ', '®©œ', 5, True)\n"
          ]
        }
      ]
    },
    {
      "cell_type": "code",
      "metadata": {
        "colab": {
          "base_uri": "https://localhost:8080/"
        },
        "id": "KDhOqUEnomEG",
        "outputId": "63ff4353-dd33-40fe-ddd6-454a8749e3de"
      },
      "source": [
        "stock_list = ['AAPL','GOOG','IBM','AAPL','IBM','FB','F','GOOG']\n",
        "stock_set = set(stock_list)\n",
        "print(stock_set)\n",
        "print()\n",
        "#MY EXAMPLE#######\n",
        "stock_list2 = [3.00,3,3.00,3.,'Bitcoin','Satoshi','satoshi']\n",
        "stock_set2 = set(stock_list2)\n",
        "print(stock_set2)"
      ],
      "execution_count": null,
      "outputs": [
        {
          "name": "stdout",
          "output_type": "stream",
          "text": [
            "{'AAPL', 'F', 'GOOG', 'FB', 'IBM'}\n",
            "\n",
            "{'Satoshi', 3.0, 'satoshi', 'Bitcoin'}\n"
          ]
        }
      ]
    },
    {
      "cell_type": "code",
      "metadata": {
        "colab": {
          "base_uri": "https://localhost:8080/"
        },
        "id": "_JctFZcxqNJT",
        "outputId": "c7ce7213-d897-4e96-a284-bca81362a61b"
      },
      "source": [
        "my_dic = {'AAPL': 'Apple', 'FB': 'FaceBook', 'GOOG': 'Alphabet'}\n",
        "print(my_dic['GOOG'])\n",
        "print()\n",
        "#MY EXAMPLE#######\n",
        "my_dicci = {True: False, 4: 'FaceBook', 1.9: [3,5,\"Liubliana\"]}\n",
        "print(my_dicci[True])\n",
        "print(my_dicci[1.9])"
      ],
      "execution_count": null,
      "outputs": [
        {
          "name": "stdout",
          "output_type": "stream",
          "text": [
            "Alphabet\n",
            "\n",
            "False\n",
            "[3, 5, 'Liubliana']\n"
          ]
        }
      ]
    },
    {
      "cell_type": "code",
      "metadata": {
        "colab": {
          "base_uri": "https://localhost:8080/"
        },
        "id": "SPLYtkRNtZgX",
        "outputId": "0446203f-e15e-4cdf-c3a1-6ec89a2753bf"
      },
      "source": [
        "my_dic = {'AAPL': 'Apple', 'FB': 'FaceBook', 'GOOG': 'Alphabet'}\n",
        "my_dic['GOOG'] = 'Alphabet Company'\n",
        "print(my_dic['GOOG'])\n",
        "print(my_dic.keys())\n",
        "print()\n",
        "#MY EXAMPLE#######\n",
        "my_dicci = {True: False, 4: 'FaceBook', 1.9: [3,5,\"Liubliana\"]}\n",
        "my_dicci[4]=4\n",
        "print(my_dicci[4])\n",
        "print(my_dicci.keys())"
      ],
      "execution_count": null,
      "outputs": [
        {
          "name": "stdout",
          "output_type": "stream",
          "text": [
            "Alphabet Company\n",
            "dict_keys(['AAPL', 'FB', 'GOOG'])\n",
            "\n",
            "4\n",
            "dict_keys([True, 4, 1.9])\n"
          ]
        }
      ]
    },
    {
      "cell_type": "code",
      "metadata": {
        "colab": {
          "base_uri": "https://localhost:8080/"
        },
        "id": "3is1beW5u6PO",
        "outputId": "69d8cabe-2c19-41fe-a204-c2634259f0ca"
      },
      "source": [
        "my_str = 'Welcome to QuantConnect'\n",
        "print(my_str[8:])\n",
        "print()\n",
        "#MY EXAMPLE#######\n",
        "my_str2 = 'Undermining bitcoins'\n",
        "print(my_str2[12:15])"
      ],
      "execution_count": null,
      "outputs": [
        {
          "name": "stdout",
          "output_type": "stream",
          "text": [
            "to QuantConnect\n",
            "\n",
            "bit\n"
          ]
        }
      ]
    },
    {
      "cell_type": "code",
      "metadata": {
        "colab": {
          "base_uri": "https://localhost:8080/"
        },
        "id": "LOnN0QOkv09e",
        "outputId": "d421208f-23ff-4915-8f85-6fae2c97c199"
      },
      "source": [
        "print(\"Counting the number of e's in this sentence\".count('e'))\n",
        "print('The first time e appears in this sentence'.find('e'))\n",
        "print('all the a in this sentence now becomes e'.replace('a','e'))\n",
        "print()\n",
        "#MY EXAMPLE#######\n",
        "print('I am on a seafood diet. I see food, and I eat it.'.count(\"2\"))\n",
        "print('I finally realized that people are prisoners of their phones... that is why it is called a \"cell\" phone.'.find('.'))\n",
        "print('Light travels faster than sound. This is why some people appear bright until you hear them speak.'.replace('a','4'))"
      ],
      "execution_count": null,
      "outputs": [
        {
          "name": "stdout",
          "output_type": "stream",
          "text": [
            "6\n",
            "2\n",
            "ell the e in this sentence now becomes e\n",
            "\n",
            "0\n",
            "60\n",
            "Light tr4vels f4ster th4n sound. This is why some people 4ppe4r bright until you he4r them spe4k.\n"
          ]
        }
      ]
    },
    {
      "cell_type": "code",
      "metadata": {
        "colab": {
          "base_uri": "https://localhost:8080/"
        },
        "id": "1Ou-oLQg0LjU",
        "outputId": "3d3fe6e8-a77e-4adf-e249-7853beef73fd"
      },
      "source": [
        "Time = '2016-04-01 09:43:00'\n",
        "splited_list = Time.split(' ')\n",
        "date = splited_list[0]\n",
        "time = splited_list[1]\n",
        "print(date, time)\n",
        "hour = time.split(':')[0]\n",
        "print(hour)\n",
        "print()\n",
        "#MY EXAMPLE#######\n",
        "string = 'Сблъсък на кланове е най-добрата игра някога.'\n",
        "splited_list1 = string.split(' ')\n",
        "first = splited_list1[0]\n",
        "third = splited_list1[3]\n",
        "print(first, third)\n",
        "weirdestWord = string.split(' ')[4]\n",
        "print(weirdestWord)"
      ],
      "execution_count": null,
      "outputs": [
        {
          "name": "stdout",
          "output_type": "stream",
          "text": [
            "2016-04-01 09:43:00\n",
            "09\n",
            "\n",
            "Сблъсък е\n",
            "най-добрата\n"
          ]
        }
      ]
    },
    {
      "cell_type": "code",
      "metadata": {
        "colab": {
          "base_uri": "https://localhost:8080/"
        },
        "id": "bvEA8KAP2JF-",
        "outputId": "1890e957-e0cd-4ef0-d45e-d6a71db91283"
      },
      "source": [
        "my_time = 'Hour: {}, Minute: {}'.format(9, 43)\n",
        "print(my_time)\n",
        "print()\n",
        "#MY EXAMPLE#######\n",
        "my_time2 = 'Introduction: {}, MEssage: {}'.format(True, ('Welcome','to','QuantConnect'))\n",
        "print(my_time2)"
      ],
      "execution_count": null,
      "outputs": [
        {
          "name": "stdout",
          "output_type": "stream",
          "text": [
            "Hour: 9, Minute: 43\n",
            "\n",
            "Introduction: True, MEssage: ('Welcome', 'to', 'QuantConnect')\n"
          ]
        }
      ]
    },
    {
      "cell_type": "code",
      "metadata": {
        "colab": {
          "base_uri": "https://localhost:8080/"
        },
        "id": "P3BUuKAy3yh9",
        "outputId": "6c739800-cf37-4a3e-f68c-2e83b42fd933"
      },
      "source": [
        "print ('pi is %f' % 3.14)\n",
        "print('%s to %s' % ('Welcome', 'QuantConnect'))\n",
        "print()\n",
        "#MY EXAMPLE#######\n",
        "print ('parte entera de pi es %i' % 3.14)\n",
        "print('%s or %f' % ('', 3.))"
      ],
      "execution_count": null,
      "outputs": [
        {
          "name": "stdout",
          "output_type": "stream",
          "text": [
            "pi is 3.140000\n",
            "Welcome to QuantConnect\n",
            "\n",
            "parte entera de pi es 3\n",
            " or 3.000000\n"
          ]
        }
      ]
    },
    {
      "cell_type": "markdown",
      "metadata": {
        "id": "yi3ofdq27SnX"
      },
      "source": [
        "# ***Logical Operations and Loops***"
      ]
    },
    {
      "cell_type": "code",
      "metadata": {
        "colab": {
          "base_uri": "https://localhost:8080/"
        },
        "id": "oOnEHORs7gGm",
        "outputId": "96880652-8e07-4007-b5d9-957890aed92a"
      },
      "source": [
        "print (1 == 0)    # 1 equals 0\n",
        "print (1 == 1)    # 1 equals 1\n",
        "print (1 != 0)    # 1 is not equal to 0\n",
        "print (5 >= 5)    # 5 is greater than or equal to 5\n",
        "print (5 >= 6)    # 5 is greater than or equal to 6\n",
        "print()\n",
        "#MY EXAMPLE#######\n",
        "print(3.0==3)\n",
        "print(0==3.)\n",
        "print(87!=87)\n",
        "print(4<4)\n",
        "print(-9.2<=-9.3)"
      ],
      "execution_count": null,
      "outputs": [
        {
          "name": "stdout",
          "output_type": "stream",
          "text": [
            "False\n",
            "True\n",
            "True\n",
            "True\n",
            "False\n",
            "\n",
            "True\n",
            "False\n",
            "False\n",
            "False\n",
            "False\n"
          ]
        }
      ]
    },
    {
      "cell_type": "code",
      "metadata": {
        "colab": {
          "base_uri": "https://localhost:8080/"
        },
        "id": "nP3yfsXL8yOw",
        "outputId": "ee982cd4-f0b5-4876-d135-f9b2b24480de"
      },
      "source": [
        "print (2 > 1 and 3 > 2)\n",
        "print (2 > 1 and 3 < 2)\n",
        "print (2 > 1 or  3 < 2)\n",
        "print (2 < 1 and 3 < 2)\n",
        "print()\n",
        "#MY EXAMPLE#######\n",
        "print (9 > 7 or 3 <= 5)\n",
        "print (26 >= 10 and 87 < 9)\n",
        "print (25 < 17 or  34 > 6)\n",
        "print (72 > 10 and 90 < 43)"
      ],
      "execution_count": null,
      "outputs": [
        {
          "name": "stdout",
          "output_type": "stream",
          "text": [
            "True\n",
            "False\n",
            "True\n",
            "False\n",
            "\n",
            "True\n",
            "False\n",
            "True\n",
            "False\n"
          ]
        }
      ]
    },
    {
      "cell_type": "code",
      "metadata": {
        "colab": {
          "base_uri": "https://localhost:8080/"
        },
        "id": "D4SKtTE5AOcz",
        "outputId": "05925880-7479-48be-b882-9df476668725"
      },
      "source": [
        "print ((3 > 2 or 1 < 3) and (1!=3 and 4>3) and not ( 3 < 2 or 1 < 3 and (1!=3 and 4>3)))\n",
        "print (3 > 2 or 1 < 3 and (1!=3 and 4>3) and not ( 3 < 2 or 1 < 3 and (1!=3 and 4>3)))\n",
        "print()\n",
        "#MY EXAMPLE#######\n",
        "print ((3 > 2 or 1 < 3) and (1!=3 and 4>3) and ( 3 < 2 and 1 < 3 and (1!=3 and not 4>3)))\n",
        "print ((3 > 2 or 1 < 3) and (1!=3 and 4>3) and ( 3 < 2 or 1 < 3 and (1!=3 and 4>3)))"
      ],
      "execution_count": null,
      "outputs": [
        {
          "name": "stdout",
          "output_type": "stream",
          "text": [
            "False\n",
            "True\n",
            "\n",
            "False\n",
            "True\n"
          ]
        }
      ]
    },
    {
      "cell_type": "code",
      "metadata": {
        "colab": {
          "base_uri": "https://localhost:8080/"
        },
        "id": "nrakqu2DDXIq",
        "outputId": "02c940f5-fa00-450c-d96b-d65161981b95"
      },
      "source": [
        "i = 0\n",
        "if i == 0: print ('i == 0 is True')\n",
        "print()\n",
        "#MY EXAMPLE#######\n",
        "j = 2\n",
        "if j != 1: print ('j == 1 is False')"
      ],
      "execution_count": null,
      "outputs": [
        {
          "name": "stdout",
          "output_type": "stream",
          "text": [
            "i == 0 is True\n",
            "\n",
            "j == 1 is False\n"
          ]
        }
      ]
    },
    {
      "cell_type": "code",
      "metadata": {
        "colab": {
          "base_uri": "https://localhost:8080/"
        },
        "id": "cypw-2LfD-i-",
        "outputId": "bee1c64d-95bb-43b1-fd25-672fd33992f3"
      },
      "source": [
        "p = 1 > 0\n",
        "q = 2 > 3\n",
        "if p and q:\n",
        "    print ('p and q is true')\n",
        "elif p and not q:\n",
        "    print ('q is false')\n",
        "elif q and not p:\n",
        "    print ('p is false')\n",
        "else:\n",
        "    print ('None of p and q is true')\n",
        "print()\n",
        "#MY EXAMPLE#######\n",
        "a=1\n",
        "b=1\n",
        "if(a == 0) and (b == 0):\n",
        "    print (True)\n",
        "elif(a == 0) and (b == 1):\n",
        "    print (False)\n",
        "elif(a == 1) and (b == 0):\n",
        "    print (False)\n",
        "elif(a == 1) and (b == 1):\n",
        "    print (True)"
      ],
      "execution_count": null,
      "outputs": [
        {
          "name": "stdout",
          "output_type": "stream",
          "text": [
            "q is false\n",
            "\n",
            "True\n"
          ]
        }
      ]
    },
    {
      "cell_type": "code",
      "metadata": {
        "colab": {
          "base_uri": "https://localhost:8080/"
        },
        "id": "NAv_hlpFFaSY",
        "outputId": "57fbdabb-6d92-46a0-b7a9-38445437b5b4"
      },
      "source": [
        "i = 0\n",
        "while i < 5:\n",
        "    print (i)\n",
        "    i += 1\n",
        "print()\n",
        "#MY EXAMPLE#######\n",
        "h = 0\n",
        "while h > -5:\n",
        "    print (h)\n",
        "    h -= 1"
      ],
      "execution_count": null,
      "outputs": [
        {
          "name": "stdout",
          "output_type": "stream",
          "text": [
            "0\n",
            "1\n",
            "2\n",
            "3\n",
            "4\n",
            "\n",
            "0\n",
            "-1\n",
            "-2\n",
            "-3\n",
            "-4\n"
          ]
        }
      ]
    },
    {
      "cell_type": "code",
      "metadata": {
        "colab": {
          "base_uri": "https://localhost:8080/"
        },
        "id": "t3XEPyN7F4h6",
        "outputId": "cb1a7a89-4345-424d-c4a0-ccb55a14e12e"
      },
      "source": [
        "stocks = ['AAPL','GOOG','IBM','FB','F','V', 'G', 'GE']\n",
        "selected = ['AAPL','IBM']\n",
        "new_list = []\n",
        "for stock in stocks:\n",
        "    if stock not in selected:\n",
        "        new_list.append(stock)\n",
        "print (new_list)\n",
        "print()\n",
        "#MY EXAMPLE#######\n",
        "stock_list2 = [3.00,3,3.0,3.,'Bitcoin','Satoshi','satoshi']\n",
        "selected2 = [3]\n",
        "new_list2 = []\n",
        "for s in stock_list2:\n",
        "    if s not in selected2:\n",
        "        new_list2.append(s)\n",
        "print (new_list2)"
      ],
      "execution_count": null,
      "outputs": [
        {
          "name": "stdout",
          "output_type": "stream",
          "text": [
            "['GOOG', 'FB', 'F', 'V', 'G', 'GE']\n",
            "\n",
            "['Bitcoin', 'Satoshi', 'satoshi']\n"
          ]
        }
      ]
    },
    {
      "cell_type": "code",
      "metadata": {
        "colab": {
          "base_uri": "https://localhost:8080/"
        },
        "id": "mQj1tXoOQX5F",
        "outputId": "099b3b7a-08c2-440b-9ebb-45289f4cdd83"
      },
      "source": [
        "stocks = ['AAPL','GOOG','IBM','FB','F','V', 'G', 'GE']\n",
        "for stock in stocks:\n",
        "    print (stock)\n",
        "    if stock == 'FB': break\n",
        "print()\n",
        "#MY EXAMPLE#######\n",
        "stock_list2 = [3.00,3,3.0,3.,'Bitcoin','Satoshi','satoshi']\n",
        "for item in stock_list2:\n",
        "    print (item)\n",
        "    if item == 'Satoshi': break"
      ],
      "execution_count": null,
      "outputs": [
        {
          "name": "stdout",
          "output_type": "stream",
          "text": [
            "AAPL\n",
            "GOOG\n",
            "IBM\n",
            "FB\n",
            "\n",
            "3.0\n",
            "3\n",
            "3.0\n",
            "3.0\n",
            "Bitcoin\n",
            "Satoshi\n"
          ]
        }
      ]
    },
    {
      "cell_type": "code",
      "metadata": {
        "colab": {
          "base_uri": "https://localhost:8080/"
        },
        "id": "JxTlwKGYuVVK",
        "outputId": "60555a43-883c-4572-8ede-5cc8a5821a2a"
      },
      "source": [
        "stocks = ['AAPL','GOOG','IBM','FB','F','V', 'G', 'GE']\n",
        "for stock in stocks:\n",
        "    if stock == 'FB': continue\n",
        "    print (stock)\n",
        "print()\n",
        "#MY EXAMPLE#######\n",
        "stock_list2 = [3.00,3,3.0,3.,'Bitcoin','Satoshi','satoshi']\n",
        "for item in stock_list2:\n",
        "    if item == 'Satoshi': continue\n",
        "    print (item)\n",
        "    "
      ],
      "execution_count": null,
      "outputs": [
        {
          "name": "stdout",
          "output_type": "stream",
          "text": [
            "AAPL\n",
            "GOOG\n",
            "IBM\n",
            "F\n",
            "V\n",
            "G\n",
            "GE\n",
            "\n",
            "3.0\n",
            "3\n",
            "3.0\n",
            "3.0\n",
            "Bitcoin\n",
            "satoshi\n"
          ]
        }
      ]
    },
    {
      "cell_type": "code",
      "metadata": {
        "colab": {
          "base_uri": "https://localhost:8080/"
        },
        "id": "WRKgwtaswoGD",
        "outputId": "c86bb038-ff5c-41a7-e7e8-b79dae8af3cc"
      },
      "source": [
        "squares = []\n",
        "for i in [1,2,3,4,5]:\n",
        "    squares.append(i**2)\n",
        "print (squares)\n",
        "print()\n",
        "#MY EXAMPLE#######\n",
        "sqr_root = []\n",
        "for i in [1,2,3,4,5]:\n",
        "    sqr_root.append(i**(1/2))\n",
        "print (sqr_root)"
      ],
      "execution_count": null,
      "outputs": [
        {
          "name": "stdout",
          "output_type": "stream",
          "text": [
            "[1, 4, 9, 16, 25]\n",
            "\n",
            "[1.0, 1.4142135623730951, 1.7320508075688772, 2.0, 2.23606797749979]\n"
          ]
        }
      ]
    },
    {
      "cell_type": "code",
      "metadata": {
        "colab": {
          "base_uri": "https://localhost:8080/"
        },
        "id": "jIpqQMaNxM7M",
        "outputId": "721e287b-44cc-46ec-8cba-9aa89c26679e"
      },
      "source": [
        "foo = [1,2,3,4,5]\n",
        "squares = [x**2 for x in foo]\n",
        "print (squares)\n",
        "print()\n",
        "#MY EXAMPLE#######\n",
        "foo2 = [1,2,3,4,5]\n",
        "sqr_root2 = [x**(1/2) for x in foo2]\n",
        "print (sqr_root2)"
      ],
      "execution_count": null,
      "outputs": [
        {
          "name": "stdout",
          "output_type": "stream",
          "text": [
            "[1, 4, 9, 16, 25]\n",
            "\n",
            "[1.0, 1.4142135623730951, 1.7320508075688772, 2.0, 2.23606797749979]\n"
          ]
        }
      ]
    },
    {
      "cell_type": "code",
      "metadata": {
        "colab": {
          "base_uri": "https://localhost:8080/"
        },
        "id": "HyECD2-myYUk",
        "outputId": "cad6e3ec-31bd-4f9b-929d-dbff934e4f3c"
      },
      "source": [
        "stocks = ['AAPL','GOOG','IBM','FB','F','V', 'G', 'GE']\n",
        "selected = ['AAPL','IBM']\n",
        "new_list = [x for x in stocks if x not in selected]\n",
        "print (new_list)\n",
        "print()\n",
        "#MY EXAMPLE#######\n",
        "stock_list2 = [3.00,3,3.0,3.,'Bitcoin','Satoshi','satoshi']\n",
        "selected2 = [3]\n",
        "new_list22 = [x for x in stock_list2 if x not in selected2]\n",
        "print (new_list22)"
      ],
      "execution_count": null,
      "outputs": [
        {
          "name": "stdout",
          "output_type": "stream",
          "text": [
            "['GOOG', 'FB', 'F', 'V', 'G', 'GE']\n",
            "\n",
            "['Bitcoin', 'Satoshi', 'satoshi']\n"
          ]
        }
      ]
    },
    {
      "cell_type": "code",
      "metadata": {
        "colab": {
          "base_uri": "https://localhost:8080/"
        },
        "id": "bxmexpiDzacL",
        "outputId": "610a5cde-a6bf-4d9a-b81f-1eefd31cf876"
      },
      "source": [
        "print ([(x, y) for x in [1,2,3] for y in [3,1,4] if x != y])\n",
        "print ([str(x) + ' vs ' + str(y) for x in ['AAPL','GOOG','IBM','FB'] for y in ['F','V','G','GE'] if x != y])\n",
        "print()\n",
        "#MY EXAMPLE#######\n",
        "print ([(x, y) for x in [1,2,3] for y in [3,1,4] if x != y])\n",
        "print ([str(x) + ' vs ' + str(y) for x in ['AAPL','GOOG','IBM','FB'] for y in ['F','V','G','GE'] if x != y])"
      ],
      "execution_count": null,
      "outputs": [
        {
          "name": "stdout",
          "output_type": "stream",
          "text": [
            "[(1, 3), (1, 4), (2, 3), (2, 1), (2, 4), (3, 1), (3, 4)]\n",
            "['AAPL vs F', 'AAPL vs V', 'AAPL vs G', 'AAPL vs GE', 'GOOG vs F', 'GOOG vs V', 'GOOG vs G', 'GOOG vs GE', 'IBM vs F', 'IBM vs V', 'IBM vs G', 'IBM vs GE', 'FB vs F', 'FB vs V', 'FB vs G', 'FB vs GE']\n"
          ]
        }
      ]
    },
    {
      "cell_type": "markdown",
      "metadata": {
        "id": "FPv8puqGZtBu"
      },
      "source": [
        "# ***Functions and Objective-Oriented Programming***"
      ]
    },
    {
      "cell_type": "code",
      "metadata": {
        "colab": {
          "base_uri": "https://localhost:8080/"
        },
        "id": "iL2JRu36Zr_5",
        "outputId": "e421c4aa-f3ac-4fd3-8493-51b59751ecb3"
      },
      "source": [
        "def product(x,y):\n",
        "    return x*y\n",
        "print (product(2,3))\n",
        "print (product(5,10))\n",
        "print()\n",
        "#MY EXAMPLE#######\n",
        "def suma(x,y):\n",
        "    return x+y\n",
        "print (suma(2,3))\n",
        "print (suma(5,10))"
      ],
      "execution_count": null,
      "outputs": [
        {
          "name": "stdout",
          "output_type": "stream",
          "text": [
            "6\n",
            "50\n",
            "\n",
            "5\n",
            "15\n"
          ]
        }
      ]
    },
    {
      "cell_type": "code",
      "metadata": {
        "colab": {
          "base_uri": "https://localhost:8080/"
        },
        "id": "qZqncMofbSzz",
        "outputId": "6f398012-09bb-4d5d-a021-7d625d46727d"
      },
      "source": [
        "def say_hi():\n",
        "    print ('Welcome to QuantConnect')\n",
        "say_hi()\n",
        "print()\n",
        "#MY EXAMPLE#######\n",
        "def say_hallo():\n",
        "    print ('Hallo')\n",
        "say_hallo()"
      ],
      "execution_count": null,
      "outputs": [
        {
          "name": "stdout",
          "output_type": "stream",
          "text": [
            "Welcome to QuantConnect\n",
            "\n",
            "Hallo\n"
          ]
        }
      ]
    },
    {
      "cell_type": "code",
      "metadata": {
        "colab": {
          "base_uri": "https://localhost:8080/"
        },
        "id": "1FeiwhgAeSDr",
        "outputId": "5814b603-ac28-4aa6-ad6f-058ad6358725"
      },
      "source": [
        "print (range(10))\n",
        "print (range(1, 11))\n",
        "print (range(1, 11, 2))\n",
        "print()\n",
        "#MY EXAMPLE#######\n",
        "print (range(0))\n",
        "print (range(1, 2))\n",
        "print (range(0, 10, 10))"
      ],
      "execution_count": null,
      "outputs": [
        {
          "name": "stdout",
          "output_type": "stream",
          "text": [
            "range(0, 10)\n",
            "range(1, 11)\n",
            "range(1, 11, 2)\n",
            "\n",
            "range(0, 0)\n",
            "range(1, 2)\n",
            "range(0, 10, 10)\n"
          ]
        }
      ]
    },
    {
      "cell_type": "code",
      "metadata": {
        "colab": {
          "base_uri": "https://localhost:8080/"
        },
        "id": "v-kqPSjagpN_",
        "outputId": "85fc476b-7b0f-42db-be21-5558c3ae6bf0"
      },
      "source": [
        "tickers = ['AAPL', 'GOOGL', 'IBM', 'FB', 'F', 'V', 'G', 'GE']\n",
        "print (\"The number of tickers is {}\".format(len(tickers)))\n",
        "for k in range(len(tickers)):\n",
        "    print( k + 1, tickers[k])\n",
        "print()\n",
        "#MY EXAMPLE#######\n",
        "actions = [3.00,3,3.0,3.,'Bitcoin','Satoshi','satoshi']\n",
        "print (\"The number of actions is {}\".format(len(actions)))\n",
        "for k in range(len(actions)):\n",
        "    print( k + 1, actions[k])"
      ],
      "execution_count": null,
      "outputs": [
        {
          "name": "stdout",
          "output_type": "stream",
          "text": [
            "The number of tickers is 8\n",
            "1 AAPL\n",
            "2 GOOGL\n",
            "3 IBM\n",
            "4 FB\n",
            "5 F\n",
            "6 V\n",
            "7 G\n",
            "8 GE\n",
            "\n",
            "The number of actions is 7\n",
            "1 3.0\n",
            "2 3\n",
            "3 3.0\n",
            "4 3.0\n",
            "5 Bitcoin\n",
            "6 Satoshi\n",
            "7 satoshi\n"
          ]
        }
      ]
    },
    {
      "cell_type": "code",
      "metadata": {
        "colab": {
          "base_uri": "https://localhost:8080/"
        },
        "id": "xyQVWRMbjFnR",
        "outputId": "16b6a980-cbfa-4d44-bde2-81e3bc473153"
      },
      "source": [
        "tickers = ['AAPL','GOOG','IBM','FB','F','V', 'G', 'GE']\n",
        "print(list(map(len,tickers)))\n",
        "print()\n",
        "#MY EXAMPLE#######\n",
        "actions = ['Bitcoin','Satoshi','satoshi']\n",
        "print(list(map(len,actions)))"
      ],
      "execution_count": null,
      "outputs": [
        {
          "name": "stdout",
          "output_type": "stream",
          "text": [
            "[4, 4, 3, 2, 1, 1, 1, 2]\n",
            "\n",
            "[7, 7, 7]\n"
          ]
        }
      ]
    },
    {
      "cell_type": "code",
      "metadata": {
        "colab": {
          "base_uri": "https://localhost:8080/"
        },
        "id": "Ldk3jIJok-hA",
        "outputId": "1d6ec247-45e6-48e4-9e5a-bcac01004d66"
      },
      "source": [
        "print(list(map(lambda x: x**2, range(10))))\n",
        "print()\n",
        "#MY EXAMPLE#######\n",
        "print(list(map(lambda x: x*2, range(10))))\n"
      ],
      "execution_count": null,
      "outputs": [
        {
          "output_type": "stream",
          "name": "stdout",
          "text": [
            "[0, 1, 4, 9, 16, 25, 36, 49, 64, 81]\n",
            "\n",
            "[0, 2, 4, 6, 8, 10, 12, 14, 16, 18]\n"
          ]
        }
      ]
    },
    {
      "cell_type": "code",
      "metadata": {
        "colab": {
          "base_uri": "https://localhost:8080/"
        },
        "id": "CVhdYTOOaiB_",
        "outputId": "d49eb361-c954-420e-b592-5c352a69b049"
      },
      "source": [
        "print(list(map(lambda x, y: x+y, [1,2,3,4,5], [5,4,3,2,1])))\n",
        "print()\n",
        "#MY EXAMPLE#######\n",
        "print(list(map(lambda x, y, z: x+y*z, [1,2,3,4,5], [5,4,3,2,1], [1,2,3,0,0])))"
      ],
      "execution_count": null,
      "outputs": [
        {
          "output_type": "stream",
          "name": "stdout",
          "text": [
            "[6, 6, 6, 6, 6]\n",
            "\n",
            "[6, 10, 12, 4, 5]\n"
          ]
        }
      ]
    },
    {
      "cell_type": "code",
      "metadata": {
        "colab": {
          "base_uri": "https://localhost:8080/"
        },
        "id": "F0t_TtSgfIcA",
        "outputId": "2b2e3aee-f21c-46a9-d5e3-27fce6163e68"
      },
      "source": [
        "print(sorted([5,2,3,4,1]))\n",
        "print()\n",
        "#MY EXAMPLE#######\n",
        "sorted([2.5,-2,1.3,4.02,1])"
      ],
      "execution_count": 1,
      "outputs": [
        {
          "output_type": "stream",
          "name": "stdout",
          "text": [
            "[1, 2, 3, 4, 5]\n",
            "\n"
          ]
        },
        {
          "output_type": "execute_result",
          "data": {
            "text/plain": [
              "[-2, 1, 1.3, 2.5, 4.02]"
            ]
          },
          "metadata": {},
          "execution_count": 1
        }
      ]
    },
    {
      "cell_type": "code",
      "metadata": {
        "colab": {
          "base_uri": "https://localhost:8080/"
        },
        "id": "bu9UqOrTaAhY",
        "outputId": "8e1c9f55-7e22-4504-c306-12741a7fcc0b"
      },
      "source": [
        "price_list = [('AAPL', 144.09), ('GOOGL', 911.71), ('MSFT', 69), ('FB', 150), ('WMT', 75.32)]\n",
        "print(sorted(price_list, key = lambda x: x[1]))\n",
        "print()\n",
        "#MY EXAMPLE#######\n",
        "actions = [('Bitcoin',7),('Satoshi',-3),('xatoshi',0)]\n",
        "print(sorted(actions, key = lambda x: x[0]))"
      ],
      "execution_count": 8,
      "outputs": [
        {
          "output_type": "stream",
          "name": "stdout",
          "text": [
            "[('MSFT', 69), ('WMT', 75.32), ('AAPL', 144.09), ('FB', 150), ('GOOGL', 911.71)]\n",
            "\n",
            "[('Bitcoin', 7), ('Satoshi', -3), ('xatoshi', 0)]\n"
          ]
        }
      ]
    },
    {
      "cell_type": "code",
      "metadata": {
        "colab": {
          "base_uri": "https://localhost:8080/"
        },
        "id": "_-6xVQLC9Z91",
        "outputId": "527539fe-0e9b-4d7e-bf7c-b338ac6892b0"
      },
      "source": [
        "price_list = [('AAPL', 144.09), ('GOOGL', 911.71), ('MSFT', 69), ('FB', 150), ('WMT', 75.32)]\n",
        "print(sorted(price_list, key = lambda x: x[1], reverse=True))\n",
        "print()\n",
        "#MY EXAMPLE#######\n",
        "actions = [('Bitcoin',7),('Satoshi',-3),('xatoshi',0)]\n",
        "print(sorted(actions, key = lambda x: x[0], reverse=True))"
      ],
      "execution_count": 12,
      "outputs": [
        {
          "output_type": "stream",
          "name": "stdout",
          "text": [
            "[('GOOGL', 911.71), ('FB', 150), ('AAPL', 144.09), ('WMT', 75.32), ('MSFT', 69)]\n",
            "\n",
            "[('xatoshi', 0), ('Satoshi', -3), ('Bitcoin', 7)]\n"
          ]
        }
      ]
    },
    {
      "cell_type": "code",
      "metadata": {
        "colab": {
          "base_uri": "https://localhost:8080/"
        },
        "id": "_5BtuELY-Eu-",
        "outputId": "91066933-f5a5-4a80-d88e-c1418cc875b8"
      },
      "source": [
        "price_list = [('AAPL', 144.09), ('GOOGL', 911.71), ('MSFT', 69), ('FB', 150), ('WMT', 75.32)]\n",
        "price_list.sort(key = lambda x: x[1])\n",
        "print (price_list)\n",
        "print()\n",
        "#MY EXAMPLE#######\n",
        "actions = [('Bitcoin',7),('Satoshi',-3),('xatoshi',0)]\n",
        "actions.sort(key = lambda x: x[0], reverse=True)\n",
        "print(actions)"
      ],
      "execution_count": 15,
      "outputs": [
        {
          "output_type": "stream",
          "name": "stdout",
          "text": [
            "[('MSFT', 69), ('WMT', 75.32), ('AAPL', 144.09), ('FB', 150), ('GOOGL', 911.71)]\n",
            "\n",
            "[('xatoshi', 0), ('Satoshi', -3), ('Bitcoin', 7)]\n"
          ]
        }
      ]
    },
    {
      "cell_type": "code",
      "metadata": {
        "colab": {
          "base_uri": "https://localhost:8080/"
        },
        "id": "K5TCJFBo_xZr",
        "outputId": "71c29bd4-6c0c-4d57-8d8e-3252ebad11a6"
      },
      "source": [
        "class Stock:\n",
        "    def __init__(self, ticker, open, close, volume):\n",
        "        self.ticker = ticker\n",
        "        self.open = open\n",
        "        self.close = close\n",
        "        self.volume = volume\n",
        "        self.rate_return = float(close)/open - 1\n",
        "\n",
        "    def update(self, open, close):\n",
        "        self.open = open\n",
        "        self.close = close\n",
        "        self.rate_return = float(self.close)/self.open - 1\n",
        "\n",
        "    def print_return(self):\n",
        "        print (self.rate_return)\n",
        "\n",
        "apple  = Stock('AAPL', 143.69, 144.09, 20109375)\n",
        "google = Stock('GOOGL', 898.7, 911.7, 1561616)\n",
        "\n",
        "print(apple.ticker)\n",
        "google.print_return()\n",
        "google.update(912.8,913.4)\n",
        "google.print_return()\n",
        "print()\n",
        "#MY EXAMPLE#######\n",
        "class cripto:\n",
        "    def __init__(self, ticker, val_today, val_yesterday, volume):\n",
        "        self.ticker = ticker\n",
        "        self.val_today = val_today\n",
        "        self.val_yesterday = val_yesterday\n",
        "        self.volume = volume\n",
        "        self.rate_return = val_today-val_yesterday\n",
        "\n",
        "    def update(self, val_today, val_yesterday):\n",
        "        self.val_today= val_today\n",
        "        self.val_yesterday = val_yesterday\n",
        "        self.rate_return = val_today-val_yesterday\n",
        "\n",
        "    def print_return(self):\n",
        "        print (self.rate_return)\n",
        "\n",
        "bitcoin  = cripto('BTC', 62776, 61667.3, 20)\n",
        "ethereum = cripto('ETH', 3803.6, 3852, 156)\n",
        "\n",
        "print(bitcoin.ticker)\n",
        "ethereum.print_return()\n",
        "ethereum.update(912.8,913.4)\n",
        "bitcoin.print_return()"
      ],
      "execution_count": 24,
      "outputs": [
        {
          "output_type": "stream",
          "name": "stdout",
          "text": [
            "AAPL\n",
            "0.014465338822744034\n",
            "0.0006573181419806673\n",
            "\n",
            "BTC\n",
            "-48.40000000000009\n",
            "1108.699999999997\n"
          ]
        }
      ]
    },
    {
      "cell_type": "code",
      "metadata": {
        "colab": {
          "base_uri": "https://localhost:8080/"
        },
        "id": "PK4trm48G5gc",
        "outputId": "0668385f-cff7-4839-b72d-04ca162ec915"
      },
      "source": [
        "apple.ceo = 'Tim Cook'\n",
        "print(apple.ceo)\n",
        "print()\n",
        "#MY EXAMPLE#######\n",
        "bitcoin.potential = 'Very high.'\n",
        "print(bitcoin.potential)"
      ],
      "execution_count": 29,
      "outputs": [
        {
          "output_type": "stream",
          "name": "stdout",
          "text": [
            "Tim Cook\n",
            "\n",
            "Very high.\n"
          ]
        }
      ]
    },
    {
      "cell_type": "code",
      "metadata": {
        "colab": {
          "base_uri": "https://localhost:8080/"
        },
        "id": "oGNIZ45jHa8b",
        "outputId": "17a22e90-64ca-4f99-b2bd-47dff0efd70f"
      },
      "source": [
        "print(dir(apple))\n",
        "print()\n",
        "#MY EXAMPLE#######\n",
        "dir(bitcoin)"
      ],
      "execution_count": 32,
      "outputs": [
        {
          "output_type": "stream",
          "name": "stdout",
          "text": [
            "['__class__', '__delattr__', '__dict__', '__dir__', '__doc__', '__eq__', '__format__', '__ge__', '__getattribute__', '__gt__', '__hash__', '__init__', '__init_subclass__', '__le__', '__lt__', '__module__', '__ne__', '__new__', '__reduce__', '__reduce_ex__', '__repr__', '__setattr__', '__sizeof__', '__str__', '__subclasshook__', '__weakref__', 'ceo', 'close', 'open', 'print_return', 'rate_return', 'ticker', 'update', 'volume']\n",
            "\n"
          ]
        },
        {
          "output_type": "execute_result",
          "data": {
            "text/plain": [
              "['__class__',\n",
              " '__delattr__',\n",
              " '__dict__',\n",
              " '__dir__',\n",
              " '__doc__',\n",
              " '__eq__',\n",
              " '__format__',\n",
              " '__ge__',\n",
              " '__getattribute__',\n",
              " '__gt__',\n",
              " '__hash__',\n",
              " '__init__',\n",
              " '__init_subclass__',\n",
              " '__le__',\n",
              " '__lt__',\n",
              " '__module__',\n",
              " '__ne__',\n",
              " '__new__',\n",
              " '__reduce__',\n",
              " '__reduce_ex__',\n",
              " '__repr__',\n",
              " '__setattr__',\n",
              " '__sizeof__',\n",
              " '__str__',\n",
              " '__subclasshook__',\n",
              " '__weakref__',\n",
              " 'potential',\n",
              " 'print_return',\n",
              " 'rate_return',\n",
              " 'ticker',\n",
              " 'update',\n",
              " 'val_today',\n",
              " 'val_yesterday',\n",
              " 'volume']"
            ]
          },
          "metadata": {},
          "execution_count": 32
        }
      ]
    },
    {
      "cell_type": "code",
      "metadata": {
        "colab": {
          "base_uri": "https://localhost:8080/"
        },
        "id": "_zp943LDIeM5",
        "outputId": "13c88e48-ffd2-40db-e1f0-bbd65e772960"
      },
      "source": [
        "class Child(Stock):\n",
        "    def __init__(self, name):\n",
        "        self.name = name\n",
        "\n",
        "aa = Child('AA')\n",
        "print (aa.name)\n",
        "aa.update(100, 102)\n",
        "print (aa.open)\n",
        "print (aa.close)\n",
        "print (aa.print_return())\n",
        "print()\n",
        "#MY EXAMPLE#######\n",
        "class cbs(cripto):\n",
        "    def __init__(self, name):\n",
        "        self.name = name\n",
        "\n",
        "ex = cbs('example1')\n",
        "print (ex.name)\n",
        "ex.update(98, 1054)\n",
        "print (ex.val_today)\n",
        "print (ex.val_yesterday)\n",
        "print (ex.print_return())"
      ],
      "execution_count": 38,
      "outputs": [
        {
          "output_type": "stream",
          "name": "stdout",
          "text": [
            "AA\n",
            "100\n",
            "102\n",
            "0.020000000000000018\n",
            "None\n",
            "\n",
            "example1\n",
            "98\n",
            "1054\n",
            "-956\n",
            "None\n"
          ]
        }
      ]
    },
    {
      "cell_type": "markdown",
      "metadata": {
        "id": "OqtuW4tIbIYq"
      },
      "source": [
        "# **4. NumPy and Basic Pandas**"
      ]
    },
    {
      "cell_type": "code",
      "metadata": {
        "colab": {
          "base_uri": "https://localhost:8080/"
        },
        "id": "ljgi9bThb9Os",
        "outputId": "0a32def2-5237-4787-a783-22599b0a795c"
      },
      "source": [
        "import numpy as np\n",
        "\n",
        "price_list = [143.73, 145.83, 143.68, 144.02, 143.5, 142.62]\n",
        "price_array = np.array(price_list)\n",
        "print (price_array, type(price_array))\n",
        "print()\n",
        "#MY EXAMPLE#######\n",
        "price_list2 = [2, 14.83, 83.2, 142, 54.8]\n",
        "price_array2 = np.array(price_list2)\n",
        "print (price_array2, type(price_array2))"
      ],
      "execution_count": 64,
      "outputs": [
        {
          "output_type": "stream",
          "name": "stdout",
          "text": [
            "[143.73 145.83 143.68 144.02 143.5  142.62] <class 'numpy.ndarray'>\n",
            "\n",
            "[  2.    14.83  83.2  142.    54.8 ] <class 'numpy.ndarray'>\n"
          ]
        }
      ]
    },
    {
      "cell_type": "code",
      "metadata": {
        "colab": {
          "base_uri": "https://localhost:8080/"
        },
        "id": "W2oJhRmsmtiT",
        "outputId": "913e19b1-78cf-4c30-f001-538c55531f2f"
      },
      "source": [
        "Ar = np.array([[1,3], [2,4]])\n",
        "print(Ar, type(Ar))\n",
        "print()\n",
        "#MY EXAMPLE#######\n",
        "hn = np.array([[77,8.9], [0,4],[33,10]])\n",
        "print(hn, type(hn))"
      ],
      "execution_count": 59,
      "outputs": [
        {
          "output_type": "stream",
          "name": "stdout",
          "text": [
            "[[1 3]\n",
            " [2 4]] <class 'numpy.ndarray'>\n",
            "\n",
            "[[77.   8.9]\n",
            " [ 0.   4. ]\n",
            " [33.  10. ]] <class 'numpy.ndarray'>\n"
          ]
        }
      ]
    },
    {
      "cell_type": "code",
      "metadata": {
        "colab": {
          "base_uri": "https://localhost:8080/"
        },
        "id": "EscwUkGLnj9k",
        "outputId": "ab010954-3c80-4b7f-eaf8-2e9d3175a5b0"
      },
      "source": [
        "print (Ar.shape)\n",
        "print()\n",
        "#MY EXAMPLE#######\n",
        "print(hn.shape)"
      ],
      "execution_count": 60,
      "outputs": [
        {
          "output_type": "stream",
          "name": "stdout",
          "text": [
            "(2, 2)\n",
            "\n",
            "(3, 2)\n"
          ]
        }
      ]
    },
    {
      "cell_type": "code",
      "metadata": {
        "colab": {
          "base_uri": "https://localhost:8080/"
        },
        "id": "0hx2NGpsoAI8",
        "outputId": "c6e2ae13-9d64-4768-9bdf-8784c05c3482"
      },
      "source": [
        "print (Ar[0])\n",
        "print (Ar[1])\n",
        "print()\n",
        "#MY EXAMPLE#######\n",
        "print (hn[0][1])\n",
        "print (hn[1][0])"
      ],
      "execution_count": 61,
      "outputs": [
        {
          "output_type": "stream",
          "name": "stdout",
          "text": [
            "[1 3]\n",
            "[2 4]\n",
            "\n",
            "8.9\n",
            "0.0\n"
          ]
        }
      ]
    },
    {
      "cell_type": "code",
      "metadata": {
        "colab": {
          "base_uri": "https://localhost:8080/"
        },
        "id": "48qhTO2vojcs",
        "outputId": "ef024ae3-9912-408e-e4e4-b12dd5c4b2da"
      },
      "source": [
        "print ('First column:', Ar[:,0])\n",
        "print ('Second column:', Ar[:,1])\n",
        "print()\n",
        "#MY EXAMPLE#######\n",
        "print ('Second column:', hn[:,1])\n",
        "print ('first column:', hn[:,0])"
      ],
      "execution_count": 62,
      "outputs": [
        {
          "output_type": "stream",
          "name": "stdout",
          "text": [
            "First column: [1 2]\n",
            "Second column: [3 4]\n",
            "\n",
            "Second column: [ 8.9  4.  10. ]\n",
            "first column: [77.  0. 33.]\n"
          ]
        }
      ]
    },
    {
      "cell_type": "code",
      "metadata": {
        "colab": {
          "base_uri": "https://localhost:8080/"
        },
        "id": "pMLwxV1Go-8n",
        "outputId": "5a861ef1-2e12-4ee4-93cf-23987b9cb84b"
      },
      "source": [
        "print(np.log(price_array))\n",
        "print(np.log(price_array2))"
      ],
      "execution_count": 65,
      "outputs": [
        {
          "output_type": "stream",
          "name": "stdout",
          "text": [
            "[4.96793654 4.98244156 4.9675886  4.96995218 4.96633504 4.96018375]\n",
            "[0.69314718 2.69665216 4.42124735 4.95582706 4.00369019]\n"
          ]
        }
      ]
    },
    {
      "cell_type": "code",
      "metadata": {
        "colab": {
          "base_uri": "https://localhost:8080/"
        },
        "id": "QPctg9CVpfe7",
        "outputId": "927d4403-17dd-40b5-cdc9-2b6c3dc0755d"
      },
      "source": [
        "print(np.mean(price_array))\n",
        "print (np.std(price_array))\n",
        "print (np.sum(price_array))\n",
        "print (np.max(price_array))\n",
        "print()\n",
        "#MY EXAMPLE#######\n",
        "print(np.mean(price_array2))\n",
        "print (np.std(price_array2))\n",
        "print (np.sum(price_array2))\n",
        "print (np.max(price_array2))"
      ],
      "execution_count": 68,
      "outputs": [
        {
          "output_type": "stream",
          "name": "stdout",
          "text": [
            "143.89666666666668\n",
            "0.9673790478515796\n",
            "863.38\n",
            "145.83\n",
            "\n",
            "59.366\n",
            "50.38174097825521\n",
            "296.83\n",
            "142.0\n"
          ]
        }
      ]
    },
    {
      "cell_type": "code",
      "metadata": {
        "colab": {
          "base_uri": "https://localhost:8080/"
        },
        "id": "KzRl-Rztp0k1",
        "outputId": "2f7087ca-e2a3-4b68-add9-01045d59d8d9"
      },
      "source": [
        "import pandas as pd\n",
        "price = [143.73, 145.83, 143.68, 144.02, 143.5, 142.62]\n",
        "s = pd.Series(price)\n",
        "print (s)\n",
        "print()\n",
        "#MY EXAMPLE#######\n",
        "precio= [[314,3.3], [[1.8, 3.68], [14.2, 4.5]], 122]\n",
        "p = pd.Series(precio)\n",
        "print (p)"
      ],
      "execution_count": 75,
      "outputs": [
        {
          "output_type": "stream",
          "name": "stdout",
          "text": [
            "0    143.73\n",
            "1    145.83\n",
            "2    143.68\n",
            "3    144.02\n",
            "4    143.50\n",
            "5    142.62\n",
            "dtype: float64\n",
            "\n",
            "0                    [314, 3.3]\n",
            "1    [[1.8, 3.68], [14.2, 4.5]]\n",
            "2                           122\n",
            "dtype: object\n"
          ]
        }
      ]
    },
    {
      "cell_type": "code",
      "metadata": {
        "colab": {
          "base_uri": "https://localhost:8080/"
        },
        "id": "ONFk2oubsz2l",
        "outputId": "5b9e21f5-7b0a-444a-f4a9-7304586a9352"
      },
      "source": [
        "s = pd.Series(price, index = ['a', 'b', 'c', 'd', 'e', 'f'])\n",
        "print(s)\n",
        "print()\n",
        "#MY EXAMPLE#######\n",
        "p = pd.Series(precio, index = [['a',2], True,'11'])\n",
        "print(p)"
      ],
      "execution_count": 88,
      "outputs": [
        {
          "output_type": "stream",
          "name": "stdout",
          "text": [
            "a    143.73\n",
            "b    145.83\n",
            "c    143.68\n",
            "d    144.02\n",
            "e    143.50\n",
            "f    142.62\n",
            "dtype: float64\n",
            "\n",
            "[a, 2]                    [314, 3.3]\n",
            "True      [[1.8, 3.68], [14.2, 4.5]]\n",
            "11                               122\n",
            "dtype: object\n"
          ]
        }
      ]
    },
    {
      "cell_type": "code",
      "metadata": {
        "colab": {
          "base_uri": "https://localhost:8080/"
        },
        "id": "DG4QexzNuC-V",
        "outputId": "7f380c7f-449c-47ca-a94e-c2fdc2250d38"
      },
      "source": [
        "s.index = [6,5,4,3,2,1]\n",
        "print (s)\n",
        "print()\n",
        "#MY EXAMPLE#######\n",
        "p.index = [3,2,1]\n",
        "print (p)"
      ],
      "execution_count": 90,
      "outputs": [
        {
          "output_type": "stream",
          "name": "stdout",
          "text": [
            "6    143.73\n",
            "5    145.83\n",
            "4    143.68\n",
            "3    144.02\n",
            "2    143.50\n",
            "1    142.62\n",
            "dtype: float64\n",
            "\n",
            "3                    [314, 3.3]\n",
            "2    [[1.8, 3.68], [14.2, 4.5]]\n",
            "1                           122\n",
            "dtype: object\n"
          ]
        }
      ]
    },
    {
      "cell_type": "code",
      "metadata": {
        "colab": {
          "base_uri": "https://localhost:8080/"
        },
        "id": "cFNpLKKuuX4K",
        "outputId": "a539e822-abf4-4fef-d316-3fcc85c85cc9"
      },
      "source": [
        "print (s[1:])\n",
        "print (s[:-2])\n",
        "print()\n",
        "#MY EXAMPLE#######\n",
        "print (p[1:])\n",
        "print (p[:-2])"
      ],
      "execution_count": 92,
      "outputs": [
        {
          "output_type": "stream",
          "name": "stdout",
          "text": [
            "5    145.83\n",
            "4    143.68\n",
            "3    144.02\n",
            "2    143.50\n",
            "1    142.62\n",
            "dtype: float64\n",
            "6    143.73\n",
            "5    145.83\n",
            "4    143.68\n",
            "3    144.02\n",
            "dtype: float64\n",
            "\n",
            "2    [[1.8, 3.68], [14.2, 4.5]]\n",
            "1                           122\n",
            "dtype: object\n",
            "3    [314, 3.3]\n",
            "dtype: object\n"
          ]
        }
      ]
    },
    {
      "cell_type": "code",
      "metadata": {
        "colab": {
          "base_uri": "https://localhost:8080/"
        },
        "id": "tDE_ZtdtGmU4",
        "outputId": "8ecabe24-0e02-4161-8c34-7fee32c33d00"
      },
      "source": [
        "print (s[4])\n",
        "s[4] = 0\n",
        "print (s)\n",
        "print()\n",
        "#MY EXAMPLE#######\n",
        "print (p[2])\n",
        "p[2] = 0\n",
        "print (p)"
      ],
      "execution_count": 95,
      "outputs": [
        {
          "output_type": "stream",
          "name": "stdout",
          "text": [
            "0.0\n",
            "6    143.73\n",
            "5    145.83\n",
            "4      0.00\n",
            "3    144.02\n",
            "2    143.50\n",
            "1    142.62\n",
            "dtype: float64\n",
            "\n",
            "[[1.8, 3.68], [14.2, 4.5]]\n",
            "3    [314, 3.3]\n",
            "2             0\n",
            "1           122\n",
            "dtype: object\n"
          ]
        }
      ]
    },
    {
      "cell_type": "code",
      "metadata": {
        "colab": {
          "base_uri": "https://localhost:8080/"
        },
        "id": "60cnmEQTH2y8",
        "outputId": "14eaf384-6018-4062-e11b-29d18837f8cb"
      },
      "source": [
        "s = pd.Series(price, name = 'Apple Prices')\n",
        "print (s)\n",
        "print (s.name)\n",
        "print()\n",
        "#MY EXAMPLE#######\n",
        "p = pd.Series(precio, name = 'bµh')\n",
        "print (p)\n",
        "print (p.name)"
      ],
      "execution_count": 99,
      "outputs": [
        {
          "output_type": "stream",
          "name": "stdout",
          "text": [
            "0    143.73\n",
            "1    145.83\n",
            "2    143.68\n",
            "3    144.02\n",
            "4    143.50\n",
            "5    142.62\n",
            "Name: Apple Prices, dtype: float64\n",
            "Apple Prices\n",
            "\n",
            "0                    [314, 3.3]\n",
            "1    [[1.8, 3.68], [14.2, 4.5]]\n",
            "2                           122\n",
            "Name: bµh, dtype: object\n",
            "bµh\n"
          ]
        }
      ]
    },
    {
      "cell_type": "code",
      "metadata": {
        "colab": {
          "base_uri": "https://localhost:8080/"
        },
        "id": "oSyMzb-8IgI8",
        "outputId": "778b94fd-269b-4303-8aae-699cfe726ae2"
      },
      "source": [
        "print (s.describe())\n",
        "print()\n",
        "#MY EXAMPLE#######\n",
        "print (p.describe())"
      ],
      "execution_count": 100,
      "outputs": [
        {
          "output_type": "stream",
          "name": "stdout",
          "text": [
            "count      6.000000\n",
            "mean     143.896667\n",
            "std        1.059711\n",
            "min      142.620000\n",
            "25%      143.545000\n",
            "50%      143.705000\n",
            "75%      143.947500\n",
            "max      145.830000\n",
            "Name: Apple Prices, dtype: float64\n",
            "\n",
            "count              3\n",
            "unique             3\n",
            "top       [314, 3.3]\n",
            "freq               1\n",
            "Name: bµh, dtype: object\n"
          ]
        }
      ]
    },
    {
      "cell_type": "code",
      "metadata": {
        "colab": {
          "base_uri": "https://localhost:8080/"
        },
        "id": "J7qA4hTEJDeq",
        "outputId": "4696dece-1167-4a3b-8b1f-b4f4fda18a64"
      },
      "source": [
        "time_index = pd.date_range('2017-01-01', periods = len(s), freq = 'D')\n",
        "print (time_index)\n",
        "s.index = time_index\n",
        "print (s)\n",
        "print()\n",
        "#MY EXAMPLE#######\n",
        "time_index2 = pd.date_range('2021-12-31', periods = len(p), freq = 'Y')\n",
        "print (time_index2)\n",
        "p.index = time_index2\n",
        "print (p)"
      ],
      "execution_count": 104,
      "outputs": [
        {
          "output_type": "stream",
          "name": "stdout",
          "text": [
            "DatetimeIndex(['2017-01-01', '2017-01-02', '2017-01-03', '2017-01-04',\n",
            "               '2017-01-05', '2017-01-06'],\n",
            "              dtype='datetime64[ns]', freq='D')\n",
            "2017-01-01    143.73\n",
            "2017-01-02    145.83\n",
            "2017-01-03    143.68\n",
            "2017-01-04    144.02\n",
            "2017-01-05    143.50\n",
            "2017-01-06    142.62\n",
            "Freq: D, Name: Apple Prices, dtype: float64\n",
            "\n",
            "DatetimeIndex(['2021-12-31', '2022-12-31', '2023-12-31'], dtype='datetime64[ns]', freq='A-DEC')\n",
            "2021-12-31                    [314, 3.3]\n",
            "2022-12-31    [[1.8, 3.68], [14.2, 4.5]]\n",
            "2023-12-31                           122\n",
            "Freq: A-DEC, Name: bµh, dtype: object\n"
          ]
        }
      ]
    },
    {
      "cell_type": "code",
      "metadata": {
        "colab": {
          "base_uri": "https://localhost:8080/"
        },
        "id": "LCtOoF6HSN3f",
        "outputId": "69aae9dc-6b5c-45de-e3f8-176c66debf5d"
      },
      "source": [
        "s.index = [6,5,4,3,2,1]\n",
        "print (s)\n",
        "print (s[1])\n",
        "print()\n",
        "#MY EXAMPLE#######\n",
        "p.index = [3,2,1]\n",
        "print (p)\n",
        "print (p[2])"
      ],
      "execution_count": 109,
      "outputs": [
        {
          "output_type": "stream",
          "name": "stdout",
          "text": [
            "6    143.73\n",
            "5    145.83\n",
            "4    143.68\n",
            "3    144.02\n",
            "2    143.50\n",
            "1    142.62\n",
            "Name: Apple Prices, dtype: float64\n",
            "142.62\n",
            "\n",
            "3                    [314, 3.3]\n",
            "2    [[1.8, 3.68], [14.2, 4.5]]\n",
            "1                           122\n",
            "Name: bµh, dtype: object\n",
            "[[1.8, 3.68], [14.2, 4.5]]\n"
          ]
        }
      ]
    },
    {
      "cell_type": "code",
      "metadata": {
        "colab": {
          "base_uri": "https://localhost:8080/"
        },
        "id": "Vb4Ntd-DcGjP",
        "outputId": "7d79d344-32ba-4d05-ffdd-9e561d25996e"
      },
      "source": [
        "print (s.iloc[1])\n",
        "print()\n",
        "#MY EXAMPLE#######\n",
        "print (p.iloc[0])"
      ],
      "execution_count": 113,
      "outputs": [
        {
          "output_type": "stream",
          "name": "stdout",
          "text": [
            "145.83\n",
            "\n",
            "[314, 3.3]\n"
          ]
        }
      ]
    },
    {
      "cell_type": "code",
      "metadata": {
        "colab": {
          "base_uri": "https://localhost:8080/"
        },
        "id": "UrBKBZqMcdja",
        "outputId": "f15fb64f-889f-41ac-bd47-175656e581af"
      },
      "source": [
        "s.index = time_index\n",
        "print (s['2017-01-03'])\n",
        "print()\n",
        "#MY EXAMPLE#######\n",
        "p.index = time_index2\n",
        "print (p['2023-12-31'])"
      ],
      "execution_count": 115,
      "outputs": [
        {
          "output_type": "stream",
          "name": "stdout",
          "text": [
            "143.68\n",
            "\n",
            "122\n"
          ]
        }
      ]
    },
    {
      "cell_type": "code",
      "metadata": {
        "colab": {
          "base_uri": "https://localhost:8080/"
        },
        "id": "9d6Wf-I7dE4D",
        "outputId": "bf7c735b-abc5-487a-876f-daa1c8ad78ef"
      },
      "source": [
        "print (s['2017-01-02':'2017-01-05'])\n",
        "print()\n",
        "#MY EXAMPLE#######\n",
        "print (p['2021-12-31':'2022-12-31'])"
      ],
      "execution_count": 118,
      "outputs": [
        {
          "output_type": "stream",
          "name": "stdout",
          "text": [
            "2017-01-02    145.83\n",
            "2017-01-03    143.68\n",
            "2017-01-04    144.02\n",
            "2017-01-05    143.50\n",
            "Freq: D, Name: Apple Prices, dtype: float64\n",
            "\n",
            "2021-12-31                    [314, 3.3]\n",
            "2022-12-31    [[1.8, 3.68], [14.2, 4.5]]\n",
            "Freq: A-DEC, Name: bµh, dtype: object\n"
          ]
        }
      ]
    }
  ]
}